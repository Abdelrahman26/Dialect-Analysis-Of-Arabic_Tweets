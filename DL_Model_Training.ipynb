{
  "cells": [
    {
      "cell_type": "markdown",
      "metadata": {
        "id": "view-in-github",
        "colab_type": "text"
      },
      "source": [
        "<a href=\"https://colab.research.google.com/github/Abdelrahman26/Sentiment-Analysis-Of-Arabic_Tweets/blob/main/DL_Model_Training.ipynb\" target=\"_parent\"><img src=\"https://colab.research.google.com/assets/colab-badge.svg\" alt=\"Open In Colab\"/></a>"
      ]
    },
    {
      "cell_type": "code",
      "execution_count": 2,
      "id": "45d6f24d",
      "metadata": {
        "id": "45d6f24d"
      },
      "outputs": [],
      "source": [
        "import pandas as pd\n",
        "import numpy as np\n",
        "import re\n",
        "import string\n",
        "import nltk\n",
        "from nltk.corpus import stopwords\n",
        "import sklearn \n",
        "from nltk.tokenize import word_tokenize\n",
        "import warnings\n",
        "warnings.filterwarnings('ignore')\n",
        "from sklearn.model_selection import train_test_split\n",
        "from sklearn.feature_extraction.text import CountVectorizer"
      ]
    },
    {
      "cell_type": "code",
      "execution_count": null,
      "id": "9ae62127",
      "metadata": {
        "scrolled": true,
        "id": "9ae62127"
      },
      "outputs": [],
      "source": [
        "df=pd.read_csv('/content/preprocessed_data.csv')  "
      ]
    },
    {
      "cell_type": "code",
      "execution_count": null,
      "id": "886790f0",
      "metadata": {
        "id": "886790f0"
      },
      "outputs": [],
      "source": [
        "df.info()"
      ]
    },
    {
      "cell_type": "markdown",
      "id": "7057ab95",
      "metadata": {
        "id": "7057ab95"
      },
      "source": [
        "# TF IDF\n"
      ]
    },
    {
      "cell_type": "code",
      "execution_count": null,
      "id": "478242ce",
      "metadata": {
        "id": "478242ce"
      },
      "outputs": [],
      "source": [
        "# converts the words to a matrix of TF-IDF features\n",
        "from sklearn.feature_extraction.text import TfidfVectorizer\n",
        "tfidf_vectorizer = TfidfVectorizer()\n",
        "X = tfidf_vectorizer.fit_transform(df['tweet'][:]).toarray()\n",
        "df_tf = pd.DataFrame(X, columns=tfidf_vectorizer.get_feature_names())"
      ]
    },
    {
      "cell_type": "markdown",
      "id": "6f346e13",
      "metadata": {
        "id": "6f346e13"
      },
      "source": [
        "# Count Vectorizer\n"
      ]
    },
    {
      "cell_type": "code",
      "execution_count": null,
      "id": "418b1732",
      "metadata": {
        "id": "418b1732"
      },
      "outputs": [],
      "source": [
        "from sklearn.feature_extraction.text import CountVectorizer\n",
        "vectorizer=CountVectorizer()\n",
        "X=vectorizer.fit_transform(df['tweet'])"
      ]
    },
    {
      "cell_type": "code",
      "source": [
        "X"
      ],
      "metadata": {
        "id": "0IoypZzm4LMr"
      },
      "id": "0IoypZzm4LMr",
      "execution_count": null,
      "outputs": []
    },
    {
      "cell_type": "markdown",
      "id": "f61323ed",
      "metadata": {
        "id": "f61323ed"
      },
      "source": [
        "# Long Short Term Memory (LSTM)\n"
      ]
    },
    {
      "cell_type": "code",
      "source": [
        "df.head()"
      ],
      "metadata": {
        "id": "GI-WJSUT2QzL"
      },
      "id": "GI-WJSUT2QzL",
      "execution_count": null,
      "outputs": []
    },
    {
      "cell_type": "markdown",
      "source": [
        "## Converting Labels to numbers"
      ],
      "metadata": {
        "id": "YtKuLMpSG00Y"
      },
      "id": "YtKuLMpSG00Y"
    },
    {
      "cell_type": "code",
      "source": [
        "from sklearn import preprocessing\n",
        "pro = preprocessing.LabelEncoder()\n",
        "df['dialect'].replace({-1: 18}, inplace=True)\n",
        "encpro = pro.fit_transform(df['dialect'])\n",
        "df['dialect'] = encpro"
      ],
      "metadata": {
        "id": "MhRfMzCxULl3"
      },
      "id": "MhRfMzCxULl3",
      "execution_count": null,
      "outputs": []
    },
    {
      "cell_type": "code",
      "execution_count": null,
      "id": "f5b52ffd",
      "metadata": {
        "id": "f5b52ffd",
        "outputId": "cd46f4bb-53b0-431c-9c25-5a5ee0e2cae8",
        "colab": {
          "base_uri": "https://localhost:8080/"
        }
      },
      "outputs": [
        {
          "output_type": "stream",
          "name": "stdout",
          "text": [
            "Training Data: 8550\n",
            "Test Data: 450\n"
          ]
        }
      ],
      "source": [
        "X=df['tweet'].values\n",
        "y=df['dialect'].values\n",
        "X_train,X_test,y_train,y_test=train_test_split(X,y,test_size=0.050)\n",
        "print('Training Data:', X_train.shape[0])\n",
        "print('Test Data:', X_test.shape[0])"
      ]
    },
    {
      "cell_type": "code",
      "source": [
        "len(np.unique(y))"
      ],
      "metadata": {
        "colab": {
          "base_uri": "https://localhost:8080/"
        },
        "id": "SGYMkG4BQLbl",
        "outputId": "65e34f21-09b9-4130-afa0-ec0bf9e5bf36"
      },
      "id": "SGYMkG4BQLbl",
      "execution_count": null,
      "outputs": [
        {
          "output_type": "execute_result",
          "data": {
            "text/plain": [
              "18"
            ]
          },
          "metadata": {},
          "execution_count": 70
        }
      ]
    },
    {
      "cell_type": "code",
      "source": [
        "lst_accent = []\n",
        "lst_accent_label = []\n",
        "accent_flag = {}\n",
        "for i in range(len(y)):\n",
        "  if y[i] not in accent_flag:\n",
        "    accent_flag[y[i]] = i\n",
        "    lst_accent_label.append(y[i])"
      ],
      "metadata": {
        "id": "eT8j3EuwQn50"
      },
      "id": "eT8j3EuwQn50",
      "execution_count": null,
      "outputs": []
    },
    {
      "cell_type": "code",
      "source": [
        "lst_accent_label"
      ],
      "metadata": {
        "id": "jFX_snGJR_Wg"
      },
      "id": "jFX_snGJR_Wg",
      "execution_count": null,
      "outputs": []
    },
    {
      "cell_type": "code",
      "source": [
        "d = pd.read_csv('/content/new_datax.csv')"
      ],
      "metadata": {
        "id": "meqNeXSPUWCR"
      },
      "id": "meqNeXSPUWCR",
      "execution_count": null,
      "outputs": []
    },
    {
      "cell_type": "code",
      "source": [
        "label_dict = {}\n",
        "idx = 0\n",
        "for id in d['dialect']:\n",
        "    if id not in label_dict:\n",
        "      label_dict[id] =  lst_accent_label[idx]\n",
        "      idx += 1"
      ],
      "metadata": {
        "id": "dOMpYiQUSv05"
      },
      "id": "dOMpYiQUSv05",
      "execution_count": null,
      "outputs": []
    },
    {
      "cell_type": "code",
      "source": [
        "label_dict"
      ],
      "metadata": {
        "id": "cvRkAyenUF-q"
      },
      "id": "cvRkAyenUF-q",
      "execution_count": null,
      "outputs": []
    },
    {
      "cell_type": "code",
      "source": [
        "X"
      ],
      "metadata": {
        "colab": {
          "base_uri": "https://localhost:8080/"
        },
        "id": "WMkfbfMpQr1a",
        "outputId": "0089f3d7-2679-432d-d182-9f9fad37984c"
      },
      "id": "WMkfbfMpQr1a",
      "execution_count": null,
      "outputs": [
        {
          "output_type": "execute_result",
          "data": {
            "text/plain": [
              "array([' بالنهاية ينتفض يغير',\n",
              "       'يعني  محسوب  البشر حيونه ووحشيه وتطلبون  الغرب يحترمكم ويؤمن بدينكم ولاينعتكم بالإرهاب',\n",
              "       'مبين  كلامه خليجي', ...,\n",
              "       ' وين إحنا ندش  الجو دام جذي أهم شي نبي رقم  حسين بليز عشان نجرب أكلها',\n",
              "       'لطيفة شلونج شخبارج شلون صحتج عساج مرتاحة شنو اليديد شعلومج  شلون الدوام',\n",
              "       'الأغنية غرندايزر أظن نص اللي  تويتر  يعرفونه'], dtype=object)"
            ]
          },
          "metadata": {},
          "execution_count": 47
        }
      ]
    },
    {
      "cell_type": "code",
      "execution_count": null,
      "id": "af8fba79",
      "metadata": {
        "id": "af8fba79"
      },
      "outputs": [],
      "source": [
        "from keras.preprocessing.text import Tokenizer\n",
        "from tensorflow.keras.preprocessing import text,sequence\n",
        "max_features=10000\n",
        "#which is set to 10000. This is because when you convert words to numbers using the bag of words approach, \n",
        "#all the unique words in all the documents are converted into features. \n",
        "#All the documents can contain tens of thousands of unique words.\n",
        "#But the words that have a very low frequency of occurrence are unusually not a good parameter for classifying documents. \n",
        "#Therefore we set the max_features parameter to 10000, which means that we want to use 10000 most occurring words as features for training our classifier.\n",
        "max_text_length=20\n",
        "\n",
        "\n",
        "x_tokenizer=Tokenizer(max_features)"
      ]
    },
    {
      "cell_type": "code",
      "execution_count": null,
      "id": "a3ee9885",
      "metadata": {
        "id": "a3ee9885",
        "outputId": "60ce7e85-9d87-4f03-f832-48f602b3c2b4",
        "colab": {
          "base_uri": "https://localhost:8080/"
        }
      },
      "outputs": [
        {
          "output_type": "stream",
          "name": "stdout",
          "text": [
            "Found 36592 unique tokens.\n"
          ]
        }
      ],
      "source": [
        "x_tokenizer.fit_on_texts(X)\n",
        "word_index = x_tokenizer.word_index\n",
        "print('Found %s unique tokens.' % len(word_index))"
      ]
    },
    {
      "cell_type": "code",
      "source": [
        "X"
      ],
      "metadata": {
        "colab": {
          "base_uri": "https://localhost:8080/"
        },
        "id": "qn2K5Z3jQO6k",
        "outputId": "918878d6-d5ae-469e-eb14-417b748234cd"
      },
      "id": "qn2K5Z3jQO6k",
      "execution_count": null,
      "outputs": [
        {
          "output_type": "execute_result",
          "data": {
            "text/plain": [
              "array([' بالنهاية ينتفض يغير',\n",
              "       'يعني  محسوب  البشر حيونه ووحشيه وتطلبون  الغرب يحترمكم ويؤمن بدينكم ولاينعتكم بالإرهاب',\n",
              "       'مبين  كلامه خليجي', ...,\n",
              "       ' وين إحنا ندش  الجو دام جذي أهم شي نبي رقم  حسين بليز عشان نجرب أكلها',\n",
              "       'لطيفة شلونج شخبارج شلون صحتج عساج مرتاحة شنو اليديد شعلومج  شلون الدوام',\n",
              "       'الأغنية غرندايزر أظن نص اللي  تويتر  يعرفونه'], dtype=object)"
            ]
          },
          "metadata": {},
          "execution_count": 50
        }
      ]
    },
    {
      "cell_type": "code",
      "source": [
        "word_index['نص']"
      ],
      "metadata": {
        "colab": {
          "base_uri": "https://localhost:8080/"
        },
        "id": "37Bdd69AONOB",
        "outputId": "8ff42862-cab6-429b-c781-69ea7d4b3b8b"
      },
      "id": "37Bdd69AONOB",
      "execution_count": null,
      "outputs": [
        {
          "output_type": "execute_result",
          "data": {
            "text/plain": [
              "374"
            ]
          },
          "metadata": {},
          "execution_count": 51
        }
      ]
    },
    {
      "cell_type": "code",
      "execution_count": null,
      "id": "ed8b719f",
      "metadata": {
        "id": "ed8b719f",
        "outputId": "471bf870-2306-455f-cabc-307bcf38b041",
        "colab": {
          "base_uri": "https://localhost:8080/"
        }
      },
      "outputs": [
        {
          "output_type": "stream",
          "name": "stdout",
          "text": [
            "Top 5 most common words are: [('الله', 1203), ('اللي', 1126), ('انا', 617), ('والله', 581), ('مش', 498)]\n"
          ]
        }
      ],
      "source": [
        "import collections\n",
        "print('Top 5 most common words are:', collections.Counter(x_tokenizer.word_counts).most_common(5))"
      ]
    },
    {
      "cell_type": "code",
      "execution_count": null,
      "id": "99205cc4",
      "metadata": {
        "id": "99205cc4"
      },
      "outputs": [],
      "source": [
        "#text to numbers\n",
        "#return each text by sequence of integers ,each integer be the index of token in dictionary\n",
        "x_train=x_tokenizer.texts_to_sequences(X_train) \n",
        "x_train_val=sequence.pad_sequences(x_train,padding='post',maxlen=max_text_length)\n",
        "x_test=x_tokenizer.texts_to_sequences(X_test) \n",
        "x_test_val=sequence.pad_sequences(x_test,padding='post',maxlen=max_text_length)"
      ]
    },
    {
      "cell_type": "code",
      "source": [
        "x_train_val[0]"
      ],
      "metadata": {
        "colab": {
          "base_uri": "https://localhost:8080/"
        },
        "id": "jdQN2nGDMeJ3",
        "outputId": "b846ffc9-dcda-4334-b568-2542061ae0e7"
      },
      "id": "jdQN2nGDMeJ3",
      "execution_count": null,
      "outputs": [
        {
          "output_type": "execute_result",
          "data": {
            "text/plain": [
              "array([2500,  116,    2,  229,    0,    0,    0,    0,    0,    0,    0,\n",
              "          0,    0,    0,    0,    0,    0,    0,    0,    0], dtype=int32)"
            ]
          },
          "metadata": {},
          "execution_count": 55
        }
      ]
    },
    {
      "cell_type": "code",
      "source": [
        "x_train[0]"
      ],
      "metadata": {
        "colab": {
          "base_uri": "https://localhost:8080/"
        },
        "id": "cR4bu8itOz_p",
        "outputId": "562cf614-bd88-4e34-e319-e90d1d252910"
      },
      "id": "cR4bu8itOz_p",
      "execution_count": null,
      "outputs": [
        {
          "output_type": "execute_result",
          "data": {
            "text/plain": [
              "[2500, 116, 2, 229]"
            ]
          },
          "metadata": {},
          "execution_count": 56
        }
      ]
    },
    {
      "cell_type": "code",
      "execution_count": null,
      "id": "0ba14048",
      "metadata": {
        "scrolled": false,
        "id": "0ba14048",
        "outputId": "ebcf0261-2003-43ac-8cdf-78a10d226c43",
        "colab": {
          "base_uri": "https://localhost:8080/",
          "height": 55
        }
      },
      "outputs": [
        {
          "output_type": "execute_result",
          "data": {
            "text/plain": [
              "'سامر سامر فاهم عليكك انا  انت مش فاهم علي المسلسل كلو تطعميات ومقاطع بتخزي الاشياء اللي بتسير بالبلد  بتسير  العلن وكل  حر بحالو مش تيجي تنعرض قدام الناس كلهاا مش فاهم انا  انت بتناقش  مبدأ غلط'"
            ],
            "application/vnd.google.colaboratory.intrinsic+json": {
              "type": "string"
            }
          },
          "metadata": {},
          "execution_count": 57
        }
      ],
      "source": [
        "X_train[19]"
      ]
    },
    {
      "cell_type": "code",
      "execution_count": null,
      "id": "2f276933",
      "metadata": {
        "id": "2f276933",
        "outputId": "72d82d6a-5465-4494-a8ac-4c39027905f3",
        "colab": {
          "base_uri": "https://localhost:8080/"
        }
      },
      "outputs": [
        {
          "output_type": "execute_result",
          "data": {
            "text/plain": [
              "array([4122,    2, 5722, 5743, 5722, 9087,   74,  838,    5, 3202,  664,\n",
              "         17, 3197,    5,  536,    3,    8, 4152, 4633,  169], dtype=int32)"
            ]
          },
          "metadata": {},
          "execution_count": 58
        }
      ],
      "source": [
        "x_train_val[19]"
      ]
    },
    {
      "cell_type": "code",
      "source": [
        "x_train_val.shape"
      ],
      "metadata": {
        "colab": {
          "base_uri": "https://localhost:8080/"
        },
        "id": "7vs-qC2o5NOQ",
        "outputId": "635c8c92-4786-42ed-8122-77aa1c1e6673"
      },
      "id": "7vs-qC2o5NOQ",
      "execution_count": null,
      "outputs": [
        {
          "output_type": "execute_result",
          "data": {
            "text/plain": [
              "(8550, 20)"
            ]
          },
          "metadata": {},
          "execution_count": 59
        }
      ]
    },
    {
      "cell_type": "code",
      "execution_count": null,
      "id": "022a9f3d",
      "metadata": {
        "id": "022a9f3d",
        "outputId": "609b127f-8e4a-4b90-a6de-ea8d1efe152c",
        "colab": {
          "base_uri": "https://localhost:8080/"
        }
      },
      "outputs": [
        {
          "output_type": "stream",
          "name": "stdout",
          "text": [
            "Model: \"sequential\"\n",
            "_________________________________________________________________\n",
            " Layer (type)                Output Shape              Param #   \n",
            "=================================================================\n",
            " embedding (Embedding)       (None, 20, 1000)          10000000  \n",
            "                                                                 \n",
            " lstm (LSTM)                 (None, 1000)              8004000   \n",
            "                                                                 \n",
            " dropout (Dropout)           (None, 1000)              0         \n",
            "                                                                 \n",
            " dense (Dense)               (None, 18)                18018     \n",
            "                                                                 \n",
            "=================================================================\n",
            "Total params: 18,022,018\n",
            "Trainable params: 18,022,018\n",
            "Non-trainable params: 0\n",
            "_________________________________________________________________\n"
          ]
        }
      ],
      "source": [
        "\n",
        "from tensorflow.keras import layers\n",
        "from tensorflow.keras.layers import Input, LSTM,Embedding\n",
        "from tensorflow.keras.layers import GlobalMaxPool1D\n",
        "from tensorflow.keras.models import Model, Sequential\n",
        "from tensorflow.keras.layers import Dense, GlobalAveragePooling2D ,Dropout\n",
        "maxlen=max_text_length\n",
        "embedding_dim=1000\n",
        "model=Sequential()\n",
        "model.add(layers.Embedding(input_dim=max_features,\n",
        "         output_dim=embedding_dim,\n",
        "         input_length=maxlen))\n",
        "\n",
        "model.add(layers.LSTM(1000))\n",
        "model.add(layers.Dropout(0.8))\n",
        "\n",
        "\n",
        "model.add(layers.Dense(18, activation='softmax'))\n",
        "model.compile(loss='sparse_categorical_crossentropy', optimizer='adam', metrics=['accuracy'])\n",
        "model.summary()"
      ]
    },
    {
      "cell_type": "code",
      "execution_count": null,
      "id": "b506509a",
      "metadata": {
        "id": "b506509a",
        "outputId": "daeaea8e-e4af-41ec-e953-5dfa99b7cbc8",
        "colab": {
          "base_uri": "https://localhost:8080/"
        }
      },
      "outputs": [
        {
          "output_type": "stream",
          "name": "stdout",
          "text": [
            "Epoch 1/60\n",
            "241/241 [==============================] - 13s 29ms/step - loss: 2.7812 - accuracy: 0.1099 - val_loss: 2.6384 - val_accuracy: 0.1649\n",
            "Epoch 2/60\n",
            "241/241 [==============================] - 6s 24ms/step - loss: 2.3267 - accuracy: 0.2438 - val_loss: 2.1659 - val_accuracy: 0.2982\n",
            "Epoch 3/60\n",
            "241/241 [==============================] - 6s 25ms/step - loss: 1.7039 - accuracy: 0.4493 - val_loss: 2.0567 - val_accuracy: 0.3813\n",
            "Epoch 4/60\n",
            "241/241 [==============================] - 5s 23ms/step - loss: 1.1652 - accuracy: 0.6416 - val_loss: 1.9995 - val_accuracy: 0.4199\n",
            "Epoch 5/60\n",
            "241/241 [==============================] - 5s 20ms/step - loss: 0.7284 - accuracy: 0.7892 - val_loss: 2.0781 - val_accuracy: 0.4351\n",
            "Epoch 6/60\n",
            "241/241 [==============================] - 5s 20ms/step - loss: 0.4824 - accuracy: 0.8650 - val_loss: 2.3868 - val_accuracy: 0.4444\n",
            "Epoch 7/60\n",
            "241/241 [==============================] - 5s 21ms/step - loss: 0.3325 - accuracy: 0.9089 - val_loss: 2.5967 - val_accuracy: 0.4292\n",
            "Epoch 8/60\n",
            "241/241 [==============================] - 5s 21ms/step - loss: 0.2746 - accuracy: 0.9244 - val_loss: 3.1227 - val_accuracy: 0.4327\n",
            "Epoch 9/60\n",
            "241/241 [==============================] - 5s 21ms/step - loss: 0.2129 - accuracy: 0.9426 - val_loss: 2.8486 - val_accuracy: 0.4503\n",
            "Epoch 10/60\n",
            "241/241 [==============================] - 5s 21ms/step - loss: 0.1903 - accuracy: 0.9507 - val_loss: 2.9955 - val_accuracy: 0.4667\n",
            "Epoch 11/60\n",
            "241/241 [==============================] - 5s 21ms/step - loss: 0.1660 - accuracy: 0.9563 - val_loss: 3.2347 - val_accuracy: 0.4187\n",
            "Epoch 12/60\n",
            "241/241 [==============================] - 5s 21ms/step - loss: 0.1653 - accuracy: 0.9558 - val_loss: 3.0740 - val_accuracy: 0.4550\n",
            "Epoch 13/60\n",
            "241/241 [==============================] - 5s 21ms/step - loss: 0.1435 - accuracy: 0.9634 - val_loss: 2.9368 - val_accuracy: 0.4433\n",
            "Epoch 14/60\n",
            "241/241 [==============================] - 5s 22ms/step - loss: 0.1344 - accuracy: 0.9648 - val_loss: 3.0886 - val_accuracy: 0.4363\n",
            "Epoch 15/60\n",
            "241/241 [==============================] - 5s 21ms/step - loss: 0.1221 - accuracy: 0.9680 - val_loss: 3.1908 - val_accuracy: 0.4667\n",
            "Epoch 16/60\n",
            "241/241 [==============================] - 5s 21ms/step - loss: 0.1046 - accuracy: 0.9728 - val_loss: 3.5401 - val_accuracy: 0.4316\n",
            "Epoch 17/60\n",
            "241/241 [==============================] - 5s 22ms/step - loss: 0.1179 - accuracy: 0.9682 - val_loss: 3.6379 - val_accuracy: 0.4456\n",
            "Epoch 18/60\n",
            "241/241 [==============================] - 5s 22ms/step - loss: 0.1136 - accuracy: 0.9704 - val_loss: 3.3465 - val_accuracy: 0.4386\n",
            "Epoch 19/60\n",
            "241/241 [==============================] - 5s 22ms/step - loss: 0.0814 - accuracy: 0.9796 - val_loss: 3.5507 - val_accuracy: 0.4491\n",
            "Epoch 20/60\n",
            "241/241 [==============================] - 5s 21ms/step - loss: 0.0603 - accuracy: 0.9826 - val_loss: 3.7834 - val_accuracy: 0.4480\n",
            "Epoch 21/60\n",
            "241/241 [==============================] - 5s 23ms/step - loss: 0.0598 - accuracy: 0.9832 - val_loss: 3.8149 - val_accuracy: 0.4561\n",
            "Epoch 22/60\n",
            "241/241 [==============================] - 5s 22ms/step - loss: 0.0724 - accuracy: 0.9818 - val_loss: 3.5914 - val_accuracy: 0.4503\n",
            "Epoch 23/60\n",
            "241/241 [==============================] - 5s 22ms/step - loss: 0.0859 - accuracy: 0.9767 - val_loss: 3.7739 - val_accuracy: 0.4515\n",
            "Epoch 24/60\n",
            "241/241 [==============================] - 5s 22ms/step - loss: 0.0843 - accuracy: 0.9799 - val_loss: 3.4764 - val_accuracy: 0.4561\n",
            "Epoch 25/60\n",
            "241/241 [==============================] - 5s 21ms/step - loss: 0.0840 - accuracy: 0.9780 - val_loss: 3.5971 - val_accuracy: 0.4468\n",
            "Epoch 26/60\n",
            "241/241 [==============================] - 5s 22ms/step - loss: 0.0655 - accuracy: 0.9821 - val_loss: 3.8093 - val_accuracy: 0.4374\n",
            "Epoch 27/60\n",
            "241/241 [==============================] - 5s 21ms/step - loss: 0.0712 - accuracy: 0.9812 - val_loss: 3.4889 - val_accuracy: 0.4573\n",
            "Epoch 28/60\n",
            "241/241 [==============================] - 5s 21ms/step - loss: 0.0504 - accuracy: 0.9860 - val_loss: 3.7815 - val_accuracy: 0.4608\n",
            "Epoch 29/60\n",
            "241/241 [==============================] - 5s 21ms/step - loss: 0.0708 - accuracy: 0.9806 - val_loss: 3.9932 - val_accuracy: 0.4374\n",
            "Epoch 30/60\n",
            "241/241 [==============================] - 5s 22ms/step - loss: 0.0719 - accuracy: 0.9827 - val_loss: 3.3819 - val_accuracy: 0.4491\n",
            "Epoch 31/60\n",
            "241/241 [==============================] - 5s 22ms/step - loss: 0.0748 - accuracy: 0.9809 - val_loss: 3.8264 - val_accuracy: 0.4561\n",
            "Epoch 32/60\n",
            "241/241 [==============================] - 5s 21ms/step - loss: 0.0679 - accuracy: 0.9818 - val_loss: 4.0953 - val_accuracy: 0.4632\n",
            "Epoch 33/60\n",
            "241/241 [==============================] - 5s 21ms/step - loss: 0.0785 - accuracy: 0.9801 - val_loss: 3.7865 - val_accuracy: 0.4561\n",
            "Epoch 34/60\n",
            "241/241 [==============================] - 5s 21ms/step - loss: 0.0583 - accuracy: 0.9854 - val_loss: 3.8280 - val_accuracy: 0.4491\n",
            "Epoch 35/60\n",
            "241/241 [==============================] - 5s 21ms/step - loss: 0.0378 - accuracy: 0.9888 - val_loss: 4.7554 - val_accuracy: 0.4515\n",
            "Epoch 36/60\n",
            "241/241 [==============================] - 5s 21ms/step - loss: 0.0437 - accuracy: 0.9883 - val_loss: 4.7095 - val_accuracy: 0.4573\n",
            "Epoch 37/60\n",
            "241/241 [==============================] - 5s 21ms/step - loss: 0.0481 - accuracy: 0.9877 - val_loss: 3.6912 - val_accuracy: 0.4550\n",
            "Epoch 38/60\n",
            "241/241 [==============================] - 5s 22ms/step - loss: 0.0494 - accuracy: 0.9870 - val_loss: 4.4285 - val_accuracy: 0.4596\n",
            "Epoch 39/60\n",
            "241/241 [==============================] - 5s 22ms/step - loss: 0.0532 - accuracy: 0.9860 - val_loss: 4.1978 - val_accuracy: 0.4632\n",
            "Epoch 40/60\n",
            "241/241 [==============================] - 5s 22ms/step - loss: 0.0373 - accuracy: 0.9891 - val_loss: 4.2313 - val_accuracy: 0.4515\n",
            "Epoch 41/60\n",
            "241/241 [==============================] - 5s 22ms/step - loss: 0.0529 - accuracy: 0.9860 - val_loss: 4.3781 - val_accuracy: 0.4409\n",
            "Epoch 42/60\n",
            "241/241 [==============================] - 5s 22ms/step - loss: 0.0353 - accuracy: 0.9901 - val_loss: 4.5354 - val_accuracy: 0.4561\n",
            "Epoch 43/60\n",
            "241/241 [==============================] - 5s 21ms/step - loss: 0.0328 - accuracy: 0.9908 - val_loss: 4.7003 - val_accuracy: 0.4409\n",
            "Epoch 44/60\n",
            "241/241 [==============================] - 5s 21ms/step - loss: 0.0341 - accuracy: 0.9910 - val_loss: 4.5822 - val_accuracy: 0.4526\n",
            "Epoch 45/60\n",
            "241/241 [==============================] - 5s 21ms/step - loss: 0.0289 - accuracy: 0.9919 - val_loss: 4.8156 - val_accuracy: 0.4702\n",
            "Epoch 46/60\n",
            "241/241 [==============================] - 5s 22ms/step - loss: 0.0325 - accuracy: 0.9906 - val_loss: 4.6866 - val_accuracy: 0.4561\n",
            "Epoch 47/60\n",
            "241/241 [==============================] - 5s 21ms/step - loss: 0.0691 - accuracy: 0.9818 - val_loss: 4.1305 - val_accuracy: 0.4538\n",
            "Epoch 48/60\n",
            "241/241 [==============================] - 5s 22ms/step - loss: 0.0591 - accuracy: 0.9845 - val_loss: 4.3129 - val_accuracy: 0.4585\n",
            "Epoch 49/60\n",
            "241/241 [==============================] - 5s 22ms/step - loss: 0.0441 - accuracy: 0.9884 - val_loss: 4.2180 - val_accuracy: 0.4643\n",
            "Epoch 50/60\n",
            "241/241 [==============================] - 5s 21ms/step - loss: 0.0496 - accuracy: 0.9874 - val_loss: 4.3577 - val_accuracy: 0.4643\n",
            "Epoch 51/60\n",
            "241/241 [==============================] - 5s 21ms/step - loss: 0.0388 - accuracy: 0.9890 - val_loss: 4.4954 - val_accuracy: 0.4620\n",
            "Epoch 52/60\n",
            "241/241 [==============================] - 5s 22ms/step - loss: 0.0254 - accuracy: 0.9921 - val_loss: 4.8392 - val_accuracy: 0.4725\n",
            "Epoch 53/60\n",
            "241/241 [==============================] - 5s 21ms/step - loss: 0.0271 - accuracy: 0.9926 - val_loss: 5.1541 - val_accuracy: 0.4667\n",
            "Epoch 54/60\n",
            "241/241 [==============================] - 5s 21ms/step - loss: 0.0238 - accuracy: 0.9923 - val_loss: 5.2706 - val_accuracy: 0.4737\n",
            "Epoch 55/60\n",
            "241/241 [==============================] - 5s 22ms/step - loss: 0.0290 - accuracy: 0.9929 - val_loss: 5.0578 - val_accuracy: 0.4643\n",
            "Epoch 56/60\n",
            "241/241 [==============================] - 5s 22ms/step - loss: 0.0245 - accuracy: 0.9927 - val_loss: 5.3563 - val_accuracy: 0.4655\n",
            "Epoch 57/60\n",
            "241/241 [==============================] - 5s 22ms/step - loss: 0.0239 - accuracy: 0.9934 - val_loss: 5.5539 - val_accuracy: 0.4596\n",
            "Epoch 58/60\n",
            "241/241 [==============================] - 5s 22ms/step - loss: 0.0338 - accuracy: 0.9917 - val_loss: 4.2308 - val_accuracy: 0.4737\n",
            "Epoch 59/60\n",
            "241/241 [==============================] - 5s 22ms/step - loss: 0.0412 - accuracy: 0.9886 - val_loss: 4.6921 - val_accuracy: 0.4655\n",
            "Epoch 60/60\n",
            "241/241 [==============================] - 5s 21ms/step - loss: 0.0329 - accuracy: 0.9906 - val_loss: 4.1353 - val_accuracy: 0.4760\n"
          ]
        }
      ],
      "source": [
        "history=model.fit(x_train_val,y_train, epochs=60, batch_size=32, verbose=1, validation_split=0.1)"
      ]
    },
    {
      "cell_type": "code",
      "execution_count": null,
      "id": "f6e423e5",
      "metadata": {
        "id": "f6e423e5",
        "outputId": "b454c7d1-21ef-493e-a9a5-6e9eb5002a7f",
        "colab": {
          "base_uri": "https://localhost:8080/"
        }
      },
      "outputs": [
        {
          "output_type": "stream",
          "name": "stdout",
          "text": [
            "15/15 [==============================] - 0s 9ms/step - loss: 4.9260 - accuracy: 0.4222\n",
            "Score: 4.925956726074219\n",
            "Accuracy: 0.42222222685813904\n"
          ]
        }
      ],
      "source": [
        "scores,accuracy = model.evaluate(x_test_val, y_test)\n",
        "print('Score:',scores)\n",
        "print('Accuracy:',accuracy)"
      ]
    },
    {
      "cell_type": "code",
      "execution_count": null,
      "id": "a52d11ff",
      "metadata": {
        "id": "a52d11ff",
        "outputId": "7de44fc7-0661-44b2-eb58-551425991740",
        "colab": {
          "base_uri": "https://localhost:8080/",
          "height": 545
        }
      },
      "outputs": [
        {
          "output_type": "display_data",
          "data": {
            "text/plain": [
              "<Figure size 432x288 with 1 Axes>"
            ],
            "image/png": "[encoded data removed]"
          },
          "metadata": {
            "needs_background": "light"
          }
        },
        {
          "output_type": "display_data",
          "data": {
            "text/plain": [
              "<Figure size 432x288 with 1 Axes>"
            ],
            "image/png": "[encoded data removed]"
          },
          "metadata": {
            "needs_background": "light"
          }
        }
      ],
      "source": [
        "import matplotlib.pyplot as plt\n",
        "\n",
        "acc = history.history['accuracy']\n",
        "val_acc = history.history['val_accuracy']\n",
        "loss = history.history['loss']\n",
        "val_loss = history.history['val_loss']\n",
        "\n",
        "epochs = range(1, len(acc) + 1)\n",
        "\n",
        "plt.plot(epochs, acc, 'bo', label='Training acc')\n",
        "plt.plot(epochs, val_acc, 'b', label='Validation acc')\n",
        "plt.title('Training and validation accuracy')\n",
        "plt.legend()\n",
        "\n",
        "plt.figure()\n",
        "\n",
        "plt.plot(epochs, loss, 'bo', label='Training loss')\n",
        "plt.plot(epochs, val_loss, 'b', label='Validation loss')\n",
        "plt.title('Training and validation loss')\n",
        "plt.legend()\n",
        "\n",
        "plt.show()"
      ]
    },
    {
      "cell_type": "markdown",
      "id": "e5de57ff",
      "metadata": {
        "id": "e5de57ff"
      },
      "source": [
        "# Saving and Using The Model LSTM\n",
        "## Long Short Term Memory "
      ]
    },
    {
      "cell_type": "code",
      "execution_count": null,
      "id": "0e09e57a",
      "metadata": {
        "id": "0e09e57a"
      },
      "outputs": [],
      "source": [
        "from keras.models import load_model\n",
        "model.save('lstm.h5') "
      ]
    }
  ],
  "metadata": {
    "kernelspec": {
      "display_name": "Python 3",
      "language": "python",
      "name": "python3"
    },
    "language_info": {
      "codemirror_mode": {
        "name": "ipython",
        "version": 3
      },
      "file_extension": ".py",
      "mimetype": "text/x-python",
      "name": "python",
      "nbconvert_exporter": "python",
      "pygments_lexer": "ipython3",
      "version": "3.8.8"
    },
    "colab": {
      "name": "DL_Model Training.ipynb",
      "provenance": [],
      "toc_visible": true,
      "include_colab_link": true
    },
    "accelerator": "GPU"
  },
  "nbformat": 4,
  "nbformat_minor": 5
}