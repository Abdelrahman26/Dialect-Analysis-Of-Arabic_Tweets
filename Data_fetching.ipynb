{
  "nbformat": 4,
  "nbformat_minor": 0,
  "metadata": {
    "colab": {
      "name": "Data fetching.ipynb",
      "provenance": [],
      "authorship_tag": "ABX9TyNy9Arl8IB5Dp2J3uV/+Q8H",
      "include_colab_link": true
    },
    "kernelspec": {
      "name": "python3",
      "display_name": "Python 3"
    },
    "language_info": {
      "name": "python"
    }
  },
  "cells": [
    {
      "cell_type": "markdown",
      "metadata": {
        "id": "view-in-github",
        "colab_type": "text"
      },
      "source": [
        "<a href=\"https://colab.research.google.com/github/Abdelrahman26/Sentiment-Analysis-Of-Arabic_Tweets/blob/main/Data_fetching.ipynb\" target=\"_parent\"><img src=\"https://colab.research.google.com/assets/colab-badge.svg\" alt=\"Open In Colab\"/></a>"
      ]
    },
    {
      "cell_type": "code",
      "source": [
        "import pandas as pd\n",
        "import requests, json"
      ],
      "metadata": {
        "id": "B1r_0whqZY3W"
      },
      "execution_count": 4,
      "outputs": []
    },
    {
      "cell_type": "code",
      "source": [
        "filename = 'dialect_dataset.csv'\n",
        "data = pd.read_csv(filename)"
      ],
      "metadata": {
        "id": "Sjx4ZcrNZgpe"
      },
      "execution_count": 95,
      "outputs": []
    },
    {
      "cell_type": "code",
      "source": [
        "url = 'https://recruitment.aimtechnologies.co/ai-tasks'\n",
        "tweets = []"
      ],
      "metadata": {
        "id": "xEjZOn8qZjTA"
      },
      "execution_count": 97,
      "outputs": []
    },
    {
      "cell_type": "code",
      "source": [
        "record = [str(\"1009794751548313600\")]\n",
        "record_cap = requests.post(url, data=json.dumps(record)).content\n",
        "json_file = json.loads(record_cap)\n"
      ],
      "metadata": {
        "id": "Mj84DOLUq42Y"
      },
      "execution_count": 60,
      "outputs": []
    },
    {
      "cell_type": "code",
      "source": [
        "print(json_file)"
      ],
      "metadata": {
        "colab": {
          "base_uri": "https://localhost:8080/"
        },
        "id": "xzQDQHQEs5ze",
        "outputId": "669443fd-097a-4ece-dd24-fb8c8925f74f"
      },
      "execution_count": 61,
      "outputs": [
        {
          "output_type": "stream",
          "name": "stdout",
          "text": [
            "{'1009794751548313600': '@AlmFaisal 😂😂 الليبيين متقلبين!!!\\nبس بالنسبة ليا انا ميليشياوي زمان وتوة'}\n"
          ]
        }
      ]
    },
    {
      "cell_type": "code",
      "source": [
        "from collections import OrderedDict\n",
        "labels = OrderedDict()\n",
        "for i in range(len(data)):\n",
        "  if data['dialect'][i] not in labels:\n",
        "    labels[data['dialect'][i]] = i"
      ],
      "metadata": {
        "id": "h8ZHIZL-OhyQ"
      },
      "execution_count": 54,
      "outputs": []
    },
    {
      "cell_type": "markdown",
      "source": [
        "# labels.key -> 'dialect name'\n",
        "# labels.value -> 'first idx contains some tweet'"
      ],
      "metadata": {
        "id": "liSvzaeYiGWw"
      }
    },
    {
      "cell_type": "code",
      "source": [
        "labels"
      ],
      "metadata": {
        "colab": {
          "base_uri": "https://localhost:8080/"
        },
        "id": "JUlhZIjoP466",
        "outputId": "4c77efc0-9970-4379-b9ed-16b341942337"
      },
      "execution_count": 55,
      "outputs": [
        {
          "output_type": "execute_result",
          "data": {
            "text/plain": [
              "OrderedDict([('IQ', 0),\n",
              "             ('LY', 15497),\n",
              "             ('QA', 51996),\n",
              "             ('PL', 83065),\n",
              "             ('SY', 126807),\n",
              "             ('TN', 143049),\n",
              "             ('JO', 152295),\n",
              "             ('MA', 180216),\n",
              "             ('SA', 191755),\n",
              "             ('YE', 218587),\n",
              "             ('DZ', 228514),\n",
              "             ('EG', 244697),\n",
              "             ('LB', 302333),\n",
              "             ('KW', 329950),\n",
              "             ('OM', 372059),\n",
              "             ('SD', 391175),\n",
              "             ('AE', 405609),\n",
              "             ('BH', 431905)])"
            ]
          },
          "metadata": {},
          "execution_count": 55
        }
      ]
    },
    {
      "cell_type": "markdown",
      "source": [
        "# Fetching 500 tweet from each class "
      ],
      "metadata": {
        "id": "1r26hl8chH-0"
      }
    },
    {
      "cell_type": "code",
      "source": [
        "for key, value in labels.items():\n",
        "  for i in range(value,value + 500):\n",
        "    id = data['id'][i]\n",
        "    records = [str(id)]\n",
        "    r_cap = requests.post( url, data=json.dumps(records)).content\n",
        "    json_file = json.loads(r_cap)\n",
        "    tweets.append([data['dialect'][i], json_file[str(id)]])"
      ],
      "metadata": {
        "id": "BZRAyhPPCMS7"
      },
      "execution_count": 98,
      "outputs": []
    },
    {
      "cell_type": "code",
      "source": [
        "tweets"
      ],
      "metadata": {
        "colab": {
          "base_uri": "https://localhost:8080/"
        },
        "id": "TqZ8epZngqs3",
        "outputId": "a143b184-ce52-4e0c-c666-0cac54680afc"
      },
      "execution_count": 99,
      "outputs": [
        {
          "output_type": "execute_result",
          "data": {
            "text/plain": [
              "[['IQ', '@Nw8ieJUwaCAAreT لكن بالنهاية .. ينتفض .. يغير .'],\n",
              " ['IQ',\n",
              "  '@7zNqXP0yrODdRjK يعني هذا محسوب على البشر .. حيونه ووحشيه .. وتطلبون من الغرب يحترمكم ويؤمن بدينكم ولاينعتكم بالإرهاب ..'],\n",
              " ['IQ', '@KanaanRema مبين من كلامه خليجي'],\n",
              " ['IQ', '@HAIDER76128900 يسلملي مرورك وروحك الحلوه💐'],\n",
              " ['IQ', '@hmo2406 وين هل الغيبه  اخ محمد 🌸🌺'],\n",
              " ['LY',\n",
              "  '@toha_Altomy @gy_yah قليلين ادب ومنافقين. لو اختهم او قريبتهم تتعاكس تقولي عليهم من نشاط حقوق المرأة من ردة فعلهم.'],\n",
              " ['LY',\n",
              "  '@AlmFaisal 😂😂 الليبيين متقلبين!!!\\nبس بالنسبة ليا انا ميليشياوي زمان وتوة'],\n",
              " ['LY',\n",
              "  '@smsm071990 @ALMOGRBE كل 20 تانيه شاب ليبي بيرتاح لبنت مختلفة ويلاحظ انها غير كل البنات وبيحس كأنه يعرفها من زمان. بعدين يتزوج وحدة منهن وممكن اثنين ولاثلاثة وتنقلب الرومانسية لعياط وشياط وتهزيب\\nand they live happily ever after\\nذي اند'],\n",
              " ['LY',\n",
              "  '@AboryPro @lyranoo85 رانيا عقليتك متخلفة. اولا الانسان يلي يحتاج اهل يخاف منهم علشان يكون محترم هو انسان قليل الادب اصلاً. ثانياً شن ذنب يلي معندهش اب ولا ام ولا خوت ولا خوات؟ يعني اليتيمة متستحقش تتزوج؟ وثالثاً ليش البنت هي بس لازم ادير الف حساب للراجل؟ هي متستحقش يندارلها الف حساب ولا هي عبدة؟'],\n",
              " ['LY',\n",
              "  '@lyranoo85 شكلك متعقدة علشان الراجل لي تحبيه ازوج بنت يتيمة ولا بنت معندهش خوت. هدي اعصابك وفكينا من التخلف امتاعك'],\n",
              " ['QA',\n",
              "  '@UAE_kalashinkov @monaalyafee @almayassahamad @TamimBinHamad @hamadjjalthani @saoud_k_althani @q6r @mohdalsuwaidi7 @m_aldhoori @YahyaSAltaleedi @damoa_alsamt @om_falah1 @bu_salem7279 @alasmari @Bu5alid87 @UAE1VIPAHMED @Dralnoaimi @bin_dhahii من شفتك حاط صورة ولد النعاشه النجس وانا غاسل يدي يالكوووور قطر عزها الله من دونكم يالسلق'],\n",
              " ['QA',\n",
              "  '@UAE_kalashinkov @monaalyafee @almayassahamad @TamimBinHamad @hamadjjalthani @saoud_k_althani @q6r @mohdalsuwaidi7 @m_aldhoori @YahyaSAltaleedi @damoa_alsamt @om_falah1 @bu_salem7279 @alasmari @Bu5alid87 @UAE1VIPAHMED @Dralnoaimi @bin_dhahii محد داس لك على طرف يالذنب وش جابك على تغريده لتاج راسك تمسم \\nانتو تمجدون باليهودي محمد بن ز؟ \\nونشوفكم ونتحمد الله ماجينا نسب والا ندوركم ياذنب احذف تغريداتك وتقلع ان كنت ماتبي احد يخطي عليك ولا على اهلك'],\n",
              " ['QA',\n",
              "  '@Alsh30002 @lawquqa @AnwarGargash وين انت رايح يابن حجيلان !!\\nالتزم الصمت لان لا ملك الزهايمر ولا الدب الداشر نافعينك لانهم مودينكم للتهلكه وبيبعونك انت ومن على شاكلتك بزنوبه مثل ماباعو القدس \\nفانت لاتعرف حجم محبة شعب قطر لتميم المجد والحمدين اللي لعبو بنفسيتكم'],\n",
              " ['QA',\n",
              "  '@1397Hma @almayassahamad @jaberalharmi ياخي انت ماتتوب انا قايلك لو اشوفك بتغريده تخص شيوخ قطر وشعب قطر بصلي بك شرق'],\n",
              " ['QA',\n",
              "  '@1397Hma @almayassahamad @jaberalharmi قلتها لك يالسلوقي الف مرّه\\nلاكن الانجاس مثلك ماتتوب\\n\\nعدتها كره وكره ثم كره\\nوابشر بقافٍ يمسّك الدروب\\n\\nياحماده والردى ساقك بخرّه\\nوجيتنا يالسلح بالهرج الكذوب\\n\\nعرّةٍ من صلب عرّه وابن عرّه\\nلاتخليني اعرضك الهبوب https://t.co/p9v497dsLP'],\n",
              " ['PL',\n",
              "  '@Mi_Amore_Qtr @FahadBuzwair جمعتهم بالصرماية \\nعصبن عن شارب عادل الجبير'],\n",
              " ['PL', 'سود الله وجه ال سعود فوق زراق وحوههم'],\n",
              " ['PL', '@norhan_74 كلام الليل مدهون بزبدة وان طلع النهار بسسسسسسسسسسسسسسيح'],\n",
              " ['PL',\n",
              "  'مين الي شاغل بالك سميرا يا صغيرة.flv https://t.co/2eLq1J820n عبر @YouTube'],\n",
              " ['PL', '@Walaahijazi9 منصوره ان شاء الله'],\n",
              " ['SY',\n",
              "  'يخسى شارب من بغانا \\nحنا للعليا سنام \\nالمراجل كار أهلنا \\nوعزمنا دايم حديد \\nلا نكل ولانمل \\nولاعرفنا يوم انهزام \\n#درعا_مقبرة_الغزاة \\nhttps://t.co/AsFxE6xN2j'],\n",
              " ['SY', 'من حوران هلّت البشاير https://t.co/iTjiX0PVmJ'],\n",
              " ['SY',\n",
              "  'وعزة جلال الله دم أبوك طريقنا لأخر يوم بحياتنا، ورح ناخد حقك وناخد بتار أبوك لو يضل بعمرنا يوم، وأنا عمك .. https://t.co/lDZFFNij0o'],\n",
              " ['SY',\n",
              "  'فادي قلعجي لاجئ سوري في قضاء البترون -لبنان كم حيوان لبناني فلتوا عليه كلبهم وكسروا سيارته وهددوا مرته وولاده بالاغتصاب، أحرار لبنان وجعنا واحد أما كلاب لبنان احسبوا خط رجعة بس، الأسدية رح ندوسها برجلينا وندوسكم معها ولولا كلاب حزب الله وإيران بسوريا ماكان في لاجئين سوريين بلبنان https://t.co/J8WvPc3lKb'],\n",
              " ['SY',\n",
              "  'من إدلب الخضرا وكحل أمجادها\\nتاريخ مكتوب بعرق أجدادها \\nوالأم ماتعبت توصي ولادها \\nلا تنام خلّك للوطن ناطور \\nياشجرة الزيتون اللي مكابرة \\nطلع الفجر ليلش غمامة عابرة\\nياموزعة على كون نار ونور \\n#خيارنا_المقاومة \\nhttps://t.co/xjAb2L23u5'],\n",
              " ['TN',\n",
              "  '#ناس_بكري_قالوا\\n\\nطيح وشوف شكون يوقف معاك غيب وشوف شكون يسأل عليك و بعد غربل و صفي...!\\n#مثل_شعبي_تونسي\\n#تونس_المزيانة https://t.co/RZdrOzoCUi'],\n",
              " ['TN', '@dalaaalmoufti تهبل والله .. فنانة مبدعة انت ماشاء الله 😍❤'],\n",
              " ['TN', '@MocJaber الله يبارك فيك ... يعيشك'],\n",
              " ['TN', '@dalaaalmoufti عيدكم مبروك وسنين دايمة دلوع❤'],\n",
              " ['TN',\n",
              "  '@dalaaalmoufti الله يسلمك دلوع الغالية ويمتعك بالصحة والعافية يا اجمل قلب ❤ \\nتوحشتك برشااااااااا'],\n",
              " ['JO', '@alasal98 @rterdogan_ar الله الي بياخد\\nاو ممكن اردوغان 😂'],\n",
              " ['JO', '@Pilot663 @ihuthaifa الأصيل يُهاجَم ! \\nوالله ما بينفع غير الكذاب'],\n",
              " ['JO',\n",
              "  '@mohammad_adawi @FreihatZ3em يا رب تضل تضحك على طول. هيك بتتحول من نيجاتيف ل بوسيتيف 😁😁😁'],\n",
              " ['JO',\n",
              "  '@ahmed3027 يتربى ب عزك 😂😂\\nبلكي يعطيك جنسيه و راتب تقاعد و تعيش معزز عنده'],\n",
              " ['JO', '@Tareq_Aljaber حرة \\nبتحب تحكيلي شو اكتب وشو ما اكتب كمان؟'],\n",
              " ['MA', '@saadia_s3ada احلى شي صوتي و انا عارفاه 😂😂😂😂'],\n",
              " ['MA', '@z1an_ ولا يحرمني منك يا روحي انتي و يديم لي قلبك الطيب'],\n",
              " ['MA',\n",
              "  'تسابقني خطاي ، لموعد رجوعك\\nأنا اللي غير قلبك ما عرفت أختار\\n\\nعن الضيقات والأحزان ودموعك\\nتعال أخذك لدروب الفرح مشوار\\n\\n#عوده_حميده_عزوتي_جنون_امير\\n\\n@j100___ https://t.co/UomFqchxx7'],\n",
              " ['MA',\n",
              "  'منتظر رجعتك رغم الظروف \\nماسك العهد لو طال البطى\\n\\n#عوده_حميده_عزوتي_جنون_امير https://t.co/1NQtabKeWu'],\n",
              " ['MA',\n",
              "  '@j100___ تستاهل جنون انت الصديق الصدوق و مهما سوينا قليل ب حقك و غيابك اضهر لنا كم كنت شايلنا كلنا ب قلبك ❤ شكرا لك و الحمدلله على سلامتك'],\n",
              " ['SA',\n",
              "  '@ItcSaaed @AreejAlharbiy24 سعيد قررت اروح تركيا يومين وبعدين المغرب شهرين'],\n",
              " ['SA',\n",
              "  '@assssssssskl @demenah @HM22_135 الله يسمع منك ياصبي الهيلا \\nبس قرقاش ذا قام يقرقش علي روسنا يقول بننهي الحرب'],\n",
              " ['SA',\n",
              "  '@demenah @assssssssskl @HM22_135 ابراي الله بس خلينا نخفف اللهجة شوي تري تعليمنا ليلي بالمختصر الإمارات عطتنا ركبة خلنا ننتظر العربية وتركي الحمد واحلام وش  يقولون'],\n",
              " ['SA',\n",
              "  '@assssssssskl @demenah @HM22_135 مو ياخوي حنا كنا اخوان ونقرقش لبعض وش صار ؟'],\n",
              " ['SA',\n",
              "  '@demenah @HM22_135 يعني بنكمل وحنا ناقصين لاعب ولا بننهي الحرب ؟ \\nعلي فكرة المزروعي ما غرد ولا الراشد !'],\n",
              " ['YE', '@9v56CwqSU0x0yb @yas_wh الله يسلمك يا أحمد تسلم'],\n",
              " ['YE',\n",
              "  'يارب الأمنية اللي بين عيونه حققها وابسط جوانح قلبه بالفرح وحدك القادر يا الله ..\\n\\n@tarikyemen https://t.co/IVvcF30PSU'],\n",
              " ['YE',\n",
              "  'خذينامن اهل المرجلةنجمتين وتاج \\nوكسبناوسام الطيب والعزمنهجنا\\nنعزالخوي ونكرم الضيف والمحتاج\\nولانرخص النفس العزيزه https://t.co/cw7KPoOdZ8'],\n",
              " ['YE', 'واخيرا ظهر ابو جهل فوق متر👆 https://t.co/eZaLTtpH5A'],\n",
              " ['YE',\n",
              "  'بيحسبوا علينا الواحد الفول 62 دولار \\nخيرة الله https://t.co/yfnJjm9cBo'],\n",
              " ['DZ', '@Sharehanart يمه الزين 😍 ربي يحفظك 😘😘'],\n",
              " ['DZ', '@azeezAzmm وأنت بألف خير عيني.. ينعاد عليكم بالصحه والعافية ي رب 🌸🌸'],\n",
              " ['DZ', '@Mohmadridi6 امين يارب\\nوصحا عيدك كل عام وانت بخير 🌸🌸🌸'],\n",
              " ['DZ', '@saraup01 بصحتك وربي يجيب شفاا وانتي علاه تكثري منو 😂😂😂😂🙈'],\n",
              " ['DZ', 'ماعاد نجامل أحد خلي الناس تعرف انها خرا 💩💩'],\n",
              " ['EG',\n",
              "  'الاقيش معاك 25 الف يا عم نجيب قرض حسن ابدا بيهم حلمي وهسدهم على 25 شهر ولو عاوز تشاركني هسدهم بارضو وتبقى شريك بالربع ؟\\n@NaguibSawiris'],\n",
              " ['EG', '@khbondok4 وهو انت لو بتفهم كنت بقيت زملكاوي ؟!'],\n",
              " ['EG', '@aelnagar5 @khbondok4 ولولوا عليك ساعة وسكتوا'],\n",
              " ['EG', '@aelnagar5 @Lokareta2 لا ساعة واحدة عشان بواب ملكش عازة  😂😂'],\n",
              " ['EG', '@TurkiHAlhamad1 جنسيتك ايه ؟\\nده انت لو صهيوني مش هتقول كدة !'],\n",
              " ['LB', '@naif_su جيد أنه أعجبك وهنيئا لك \\nوالناس يختلفون في الأذواق 😃'],\n",
              " ['LB', '@Mef_4500 @_Health_8 ما فهمت الموضوع عفوا'],\n",
              " ['LB',\n",
              "  '@iS5Pym1qiiVtGbF صحيح، هو بدون سكر لكن فيه مُحليات صناعية وموقفي منها أنها غير صحية'],\n",
              " ['LB',\n",
              "  '@haso1181 صحيح يا غالي وهو متوفر من فترة في محلات السوبرماركت الكبيرة المعروفة'],\n",
              " ['LB', '@wail_alhazmi ربي يسلمك ويكرمك ويرفع قدرك ويسعدك دنيا وآخرة'],\n",
              " ['KW', '#الخميس_الونيس\\n\\nانتو ملاحظين أن الغلطان هالأيام هو اللي يزعل'],\n",
              " ['KW', 'من الحين قاعد اضحك على اللي راح يصور ويكتب آخر غدا 🤢'],\n",
              " ['KW',\n",
              "  'نرجو عدم التأليف بارسال التهاني برمضان او العيد \\n\\nوبالنسبه للصور فكونا منها \\n\\nحنا يالله نتحمل وجيه بعضكم بالدواوين والمناسبات وبعد  صورتك لاحقتني بالواتساب'],\n",
              " ['KW', '@araaaatv ماراح تتعداك حوبة هالمسكين مهما بلغت ذنبوبه ومعصيته'],\n",
              " ['KW', 'انت سد الفراغ اللي بشنبك بعدين سد فراغها العاطفي'],\n",
              " ['OM', '@alshahri_mohmed طمنا عليك و على الأهل في صوب و نواحيها'],\n",
              " ['OM', '@rashadwahaibi كل حد يدور بحبته'],\n",
              " ['OM', '@ialmukhtar مشتري من عنده كم كيلو وهميين؟'],\n",
              " ['OM',\n",
              "  '@RashAli @HilalAlBadi @jahwary @bnalrashdi @AQ_Bassam @almamari20001 @Abdullah_AlAbri @rashadwahaibi @alialansari @Manthoor @al_shezawi أول ما شفت الهاشتاق جاء في بالي أبوفرانشسكو 😂'],\n",
              " ['OM',\n",
              "  '@Abdullah_AlAbri @Mo_balushi @SwardRa @Ha_Maawali @w_shaqsi @iSalalah @HssanAlajmi @BadarAlzadjali @MustafaAlrahbi @AliSABKAR @alrasbi_a أبشر بطول سلامة يا مربع\\n#تدل_دربها'],\n",
              " ['SD', '@elhindiizz عرص و حتفضل عرص طول عمرك'],\n",
              " ['SD',\n",
              "  '@MO7_OMAR لما نشوف قروش جبل عامر و شركات الدهب حقت حميدتى رجعت الدولار و الدهب لبنك السودان و معاها شركات الأمن حقت الدهب و غيرها ممكن نفكر نصدق الكلام دا.\\nغير كدا ما عندنا ليهم الحبة 😆'],\n",
              " ['SD', '@9ad_dam برضو ما بتحله المجرم'],\n",
              " ['SD', '@nda_med @ameenmohamed بكون عنده به قرابة'],\n",
              " ['SD', '@abdokattab الدم قصاد الدم .. ما بنقبل الدية'],\n",
              " ['AE',\n",
              "  '@Bushanain ياخي المدرب أختاره والمدرب دخله والمدرب بارك الخطوه ✋🏻... منو هم اللي دخلوه الاتحاد قصدك ..  هذا منتخب مش نادي بارك الله فيك ...'],\n",
              " ['AE',\n",
              "  'شو اللي قاعد يجري فالنصر يا أخوه ..\\nخسر المباراة ....\\nسقطة الشعار المقلوب....\\nالسقطة الأكبر تصريح محود خميس أتجاه مدربه .....\\nسقطة المثل اللي مش في محله بتاتآ ....\\nلك الله  يا عميد \\n#النصر_العين'],\n",
              " ['AE', 'اللي يبحث عن مشكلة الوصل \\n\\nراح يحصلها فالجولان ....'],\n",
              " ['AE',\n",
              "  '@Khamis0001 انا مش معترض على تغيير عامر .... اللي دخل مكان عامر .... المفترض ريان أول تغيير والتغير الثاني جياكيه وشكرآ'],\n",
              " ['AE',\n",
              "  'تراجع مخيف في مستوى الحارس الكبير ماجد ناصر ...... مش هو ماجد اللي نعرفه \\nيا ترى شو الأسباب ؟'],\n",
              " ['BH',\n",
              "  '@JAFFAR_ALAALI0 لا ابي اتعلم منك انت يا سيد المقاومة يا فارس يا همام يا بطل الساحات والميادين يا من اكلت السجون من عمرك يا من حملت روحك على كفك .. يا من يشهد له الدوار والساحات والميادين علمنا اكثر علمنا يا هزبر'],\n",
              " ['BH',\n",
              "  '@JAFFAR_ALAALI0 انا مو قصدي ترى انقص من شأنك او اهينك ، ولا اخلاقي تسمح لي اتكلم مع احد بهذا الاسلوب بس حبيت اوعيك انك ما اتحاكم نوايا الناس ولا تتجاوز عليهم بكلمة ، الكل عنده لسان والكل يقدر يكتب باسلوب ساخر .. تحياتي'],\n",
              " ['BH',\n",
              "  '@najiali_bh شرايك تعزمني على كوفي واقعد ادردش معاك عن اسباب قناعاتي للمشاركة .. لان تويتر هو مختصر مفيد'],\n",
              " ['BH',\n",
              "  '@alaali_007 كل الشارع المعارض عاد !! تواضع شوي وقول بعض أو حتى الغالبية ! بس كل صعبة شويه خوك ،، انبياء ما اتفق على دعوتهم كل الناس'],\n",
              " ['BH', '@Ma7doO @hadibasri قاعدين في الجبهة احنا']]"
            ]
          },
          "metadata": {},
          "execution_count": 99
        }
      ]
    },
    {
      "cell_type": "code",
      "source": [
        "new_data = pd.DataFrame(tweets, columns = ['dialect', 'tweet'])"
      ],
      "metadata": {
        "id": "FOMow2BXShTh"
      },
      "execution_count": 100,
      "outputs": []
    },
    {
      "cell_type": "code",
      "source": [
        "new_data.head()"
      ],
      "metadata": {
        "colab": {
          "base_uri": "https://localhost:8080/",
          "height": 206
        },
        "id": "UIINpBVhYxFc",
        "outputId": "08c45e4c-89c1-4d0b-d0f1-1ef4759d7b76"
      },
      "execution_count": 101,
      "outputs": [
        {
          "output_type": "execute_result",
          "data": {
            "text/plain": [
              "  dialect                                              tweet\n",
              "0      IQ   @Nw8ieJUwaCAAreT لكن بالنهاية .. ينتفض .. يغير .\n",
              "1      IQ  @7zNqXP0yrODdRjK يعني هذا محسوب على البشر .. ح...\n",
              "2      IQ                    @KanaanRema مبين من كلامه خليجي\n",
              "3      IQ         @HAIDER76128900 يسلملي مرورك وروحك الحلوه💐\n",
              "4      IQ                 @hmo2406 وين هل الغيبه  اخ محمد 🌸🌺"
            ],
            "text/html": [
              "\n",
              "  <div id=\"df-7c22e780-a3af-4de2-9ce9-e8956ff23077\">\n",
              "    <div class=\"colab-df-container\">\n",
              "      <div>\n",
              "<style scoped>\n",
              "    .dataframe tbody tr th:only-of-type {\n",
              "        vertical-align: middle;\n",
              "    }\n",
              "\n",
              "    .dataframe tbody tr th {\n",
              "        vertical-align: top;\n",
              "    }\n",
              "\n",
              "    .dataframe thead th {\n",
              "        text-align: right;\n",
              "    }\n",
              "</style>\n",
              "<table border=\"1\" class=\"dataframe\">\n",
              "  <thead>\n",
              "    <tr style=\"text-align: right;\">\n",
              "      <th></th>\n",
              "      <th>dialect</th>\n",
              "      <th>tweet</th>\n",
              "    </tr>\n",
              "  </thead>\n",
              "  <tbody>\n",
              "    <tr>\n",
              "      <th>0</th>\n",
              "      <td>IQ</td>\n",
              "      <td>@Nw8ieJUwaCAAreT لكن بالنهاية .. ينتفض .. يغير .</td>\n",
              "    </tr>\n",
              "    <tr>\n",
              "      <th>1</th>\n",
              "      <td>IQ</td>\n",
              "      <td>@7zNqXP0yrODdRjK يعني هذا محسوب على البشر .. ح...</td>\n",
              "    </tr>\n",
              "    <tr>\n",
              "      <th>2</th>\n",
              "      <td>IQ</td>\n",
              "      <td>@KanaanRema مبين من كلامه خليجي</td>\n",
              "    </tr>\n",
              "    <tr>\n",
              "      <th>3</th>\n",
              "      <td>IQ</td>\n",
              "      <td>@HAIDER76128900 يسلملي مرورك وروحك الحلوه💐</td>\n",
              "    </tr>\n",
              "    <tr>\n",
              "      <th>4</th>\n",
              "      <td>IQ</td>\n",
              "      <td>@hmo2406 وين هل الغيبه  اخ محمد 🌸🌺</td>\n",
              "    </tr>\n",
              "  </tbody>\n",
              "</table>\n",
              "</div>\n",
              "      <button class=\"colab-df-convert\" onclick=\"convertToInteractive('df-7c22e780-a3af-4de2-9ce9-e8956ff23077')\"\n",
              "              title=\"Convert this dataframe to an interactive table.\"\n",
              "              style=\"display:none;\">\n",
              "        \n",
              "  <svg xmlns=\"http://www.w3.org/2000/svg\" height=\"24px\"viewBox=\"0 0 24 24\"\n",
              "       width=\"24px\">\n",
              "    <path d=\"M0 0h24v24H0V0z\" fill=\"none\"/>\n",
              "    <path d=\"M18.56 5.44l.94 2.06.94-2.06 2.06-.94-2.06-.94-.94-2.06-.94 2.06-2.06.94zm-11 1L8.5 8.5l.94-2.06 2.06-.94-2.06-.94L8.5 2.5l-.94 2.06-2.06.94zm10 10l.94 2.06.94-2.06 2.06-.94-2.06-.94-.94-2.06-.94 2.06-2.06.94z\"/><path d=\"M17.41 7.96l-1.37-1.37c-.4-.4-.92-.59-1.43-.59-.52 0-1.04.2-1.43.59L10.3 9.45l-7.72 7.72c-.78.78-.78 2.05 0 2.83L4 21.41c.39.39.9.59 1.41.59.51 0 1.02-.2 1.41-.59l7.78-7.78 2.81-2.81c.8-.78.8-2.07 0-2.86zM5.41 20L4 18.59l7.72-7.72 1.47 1.35L5.41 20z\"/>\n",
              "  </svg>\n",
              "      </button>\n",
              "      \n",
              "  <style>\n",
              "    .colab-df-container {\n",
              "      display:flex;\n",
              "      flex-wrap:wrap;\n",
              "      gap: 12px;\n",
              "    }\n",
              "\n",
              "    .colab-df-convert {\n",
              "      background-color: #E8F0FE;\n",
              "      border: none;\n",
              "      border-radius: 50%;\n",
              "      cursor: pointer;\n",
              "      display: none;\n",
              "      fill: #1967D2;\n",
              "      height: 32px;\n",
              "      padding: 0 0 0 0;\n",
              "      width: 32px;\n",
              "    }\n",
              "\n",
              "    .colab-df-convert:hover {\n",
              "      background-color: #E2EBFA;\n",
              "      box-shadow: 0px 1px 2px rgba(60, 64, 67, 0.3), 0px 1px 3px 1px rgba(60, 64, 67, 0.15);\n",
              "      fill: #174EA6;\n",
              "    }\n",
              "\n",
              "    [theme=dark] .colab-df-convert {\n",
              "      background-color: #3B4455;\n",
              "      fill: #D2E3FC;\n",
              "    }\n",
              "\n",
              "    [theme=dark] .colab-df-convert:hover {\n",
              "      background-color: #434B5C;\n",
              "      box-shadow: 0px 1px 3px 1px rgba(0, 0, 0, 0.15);\n",
              "      filter: drop-shadow(0px 1px 2px rgba(0, 0, 0, 0.3));\n",
              "      fill: #FFFFFF;\n",
              "    }\n",
              "  </style>\n",
              "\n",
              "      <script>\n",
              "        const buttonEl =\n",
              "          document.querySelector('#df-7c22e780-a3af-4de2-9ce9-e8956ff23077 button.colab-df-convert');\n",
              "        buttonEl.style.display =\n",
              "          google.colab.kernel.accessAllowed ? 'block' : 'none';\n",
              "\n",
              "        async function convertToInteractive(key) {\n",
              "          const element = document.querySelector('#df-7c22e780-a3af-4de2-9ce9-e8956ff23077');\n",
              "          const dataTable =\n",
              "            await google.colab.kernel.invokeFunction('convertToInteractive',\n",
              "                                                     [key], {});\n",
              "          if (!dataTable) return;\n",
              "\n",
              "          const docLinkHtml = 'Like what you see? Visit the ' +\n",
              "            '<a target=\"_blank\" href=https://colab.research.google.com/notebooks/data_table.ipynb>data table notebook</a>'\n",
              "            + ' to learn more about interactive tables.';\n",
              "          element.innerHTML = '';\n",
              "          dataTable['output_type'] = 'display_data';\n",
              "          await google.colab.output.renderOutput(dataTable, element);\n",
              "          const docLink = document.createElement('div');\n",
              "          docLink.innerHTML = docLinkHtml;\n",
              "          element.appendChild(docLink);\n",
              "        }\n",
              "      </script>\n",
              "    </div>\n",
              "  </div>\n",
              "  "
            ]
          },
          "metadata": {},
          "execution_count": 101
        }
      ]
    },
    {
      "cell_type": "code",
      "source": [
        "new_data.to_csv('/content/new_data.csv')"
      ],
      "metadata": {
        "id": "nVYSmm0MDT5Z"
      },
      "execution_count": 102,
      "outputs": []
    },
    {
      "cell_type": "code",
      "source": [
        ""
      ],
      "metadata": {
        "id": "VgRhp_Eqe4C1"
      },
      "execution_count": null,
      "outputs": []
    }
  ]
}