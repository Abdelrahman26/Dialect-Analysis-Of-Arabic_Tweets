{
  "cells": [
    {
      "cell_type": "markdown",
      "metadata": {
        "id": "view-in-github",
        "colab_type": "text"
      },
      "source": [
        "<a href=\"https://colab.research.google.com/github/Abdelrahman26/Sentiment-Analysis-Of-Arabic_Tweets/blob/main/Data_pre_processing.ipynb\" target=\"_parent\"><img src=\"https://colab.research.google.com/assets/colab-badge.svg\" alt=\"Open In Colab\"/></a>"
      ]
    },
    {
      "cell_type": "code",
      "execution_count": 1,
      "metadata": {
        "id": "X7Lu6z9hfmbS"
      },
      "outputs": [],
      "source": [
        "#python libraries : "
      ]
    },
    {
      "cell_type": "code",
      "execution_count": 2,
      "metadata": {
        "id": "UZfM_Cfzfmbj"
      },
      "outputs": [],
      "source": [
        "from collections import Counter\n",
        "import nltk\n",
        "import seaborn as sns\n",
        "import pandas as pd\n",
        "from sklearn.ensemble import RandomForestClassifier\n",
        "from sklearn.svm import LinearSVC\n",
        "from sklearn.linear_model import LogisticRegression\n",
        "from sklearn.linear_model import PassiveAggressiveClassifier\n",
        "from sklearn.linear_model import RidgeClassifier\n",
        "from sklearn.naive_bayes import GaussianNB\n",
        "from sklearn.metrics import recall_score\n",
        "from sklearn.metrics import precision_score\n",
        "from sklearn.metrics import f1_score\n",
        "from sklearn.model_selection import train_test_split\n",
        "from sklearn.feature_extraction.text import TfidfVectorizer\n",
        "from prettytable import PrettyTable\n",
        "from matplotlib import rcParams\n",
        "import matplotlib.cm as cm\n",
        "import string\n",
        "import re\n",
        "from nltk.tokenize import RegexpTokenizer\n",
        "from nltk.tokenize import word_tokenize\n",
        "from nltk.corpus import stopwords\n",
        "from sklearn import preprocessing\n",
        "import pandas\n",
        "import matplotlib.pyplot as plt\n",
        "from wordcloud import WordCloud\n",
        "#import streamlit as st\n",
        "import numpy as np\n",
        "import pandas as pd\n",
        "from sklearn.metrics import classification_report, confusion_matrix\n",
        "from sklearn.ensemble import VotingClassifier\n",
        "import warnings\n",
        "warnings.filterwarnings(\"ignore\")"
      ]
    },
    {
      "cell_type": "code",
      "execution_count": null,
      "metadata": {
        "id": "rm7bB76Nfmbq"
      },
      "outputs": [],
      "source": [
        " # Dataset : "
      ]
    },
    {
      "cell_type": "code",
      "execution_count": 8,
      "metadata": {
        "id": "OuJERjUIfmbu"
      },
      "outputs": [],
      "source": [
        "data = pd.read_csv('/content/new_datax.csv') "
      ]
    },
    {
      "cell_type": "code",
      "execution_count": 10,
      "metadata": {
        "colab": {
          "base_uri": "https://localhost:8080/",
          "height": 206
        },
        "id": "V8rLtQgVfmbw",
        "outputId": "60b596cd-0099-4428-a059-4cef3d8669f7"
      },
      "outputs": [
        {
          "output_type": "execute_result",
          "data": {
            "text/plain": [
              "   Unnamed: 0 dialect                                              tweet\n",
              "0           0      IQ   @Nw8ieJUwaCAAreT لكن بالنهاية .. ينتفض .. يغير .\n",
              "1           1      IQ  @7zNqXP0yrODdRjK يعني هذا محسوب على البشر .. ح...\n",
              "2           2      IQ                    @KanaanRema مبين من كلامه خليجي\n",
              "3           3      IQ         @HAIDER76128900 يسلملي مرورك وروحك الحلوه💐\n",
              "4           4      IQ                 @hmo2406 وين هل الغيبه  اخ محمد 🌸🌺"
            ],
            "text/html": [
              "\n",
              "  <div id=\"df-b851538f-d7ea-4599-bb66-501e856396db\">\n",
              "    <div class=\"colab-df-container\">\n",
              "      <div>\n",
              "<style scoped>\n",
              "    .dataframe tbody tr th:only-of-type {\n",
              "        vertical-align: middle;\n",
              "    }\n",
              "\n",
              "    .dataframe tbody tr th {\n",
              "        vertical-align: top;\n",
              "    }\n",
              "\n",
              "    .dataframe thead th {\n",
              "        text-align: right;\n",
              "    }\n",
              "</style>\n",
              "<table border=\"1\" class=\"dataframe\">\n",
              "  <thead>\n",
              "    <tr style=\"text-align: right;\">\n",
              "      <th></th>\n",
              "      <th>Unnamed: 0</th>\n",
              "      <th>dialect</th>\n",
              "      <th>tweet</th>\n",
              "    </tr>\n",
              "  </thead>\n",
              "  <tbody>\n",
              "    <tr>\n",
              "      <th>0</th>\n",
              "      <td>0</td>\n",
              "      <td>IQ</td>\n",
              "      <td>@Nw8ieJUwaCAAreT لكن بالنهاية .. ينتفض .. يغير .</td>\n",
              "    </tr>\n",
              "    <tr>\n",
              "      <th>1</th>\n",
              "      <td>1</td>\n",
              "      <td>IQ</td>\n",
              "      <td>@7zNqXP0yrODdRjK يعني هذا محسوب على البشر .. ح...</td>\n",
              "    </tr>\n",
              "    <tr>\n",
              "      <th>2</th>\n",
              "      <td>2</td>\n",
              "      <td>IQ</td>\n",
              "      <td>@KanaanRema مبين من كلامه خليجي</td>\n",
              "    </tr>\n",
              "    <tr>\n",
              "      <th>3</th>\n",
              "      <td>3</td>\n",
              "      <td>IQ</td>\n",
              "      <td>@HAIDER76128900 يسلملي مرورك وروحك الحلوه💐</td>\n",
              "    </tr>\n",
              "    <tr>\n",
              "      <th>4</th>\n",
              "      <td>4</td>\n",
              "      <td>IQ</td>\n",
              "      <td>@hmo2406 وين هل الغيبه  اخ محمد 🌸🌺</td>\n",
              "    </tr>\n",
              "  </tbody>\n",
              "</table>\n",
              "</div>\n",
              "      <button class=\"colab-df-convert\" onclick=\"convertToInteractive('df-b851538f-d7ea-4599-bb66-501e856396db')\"\n",
              "              title=\"Convert this dataframe to an interactive table.\"\n",
              "              style=\"display:none;\">\n",
              "        \n",
              "  <svg xmlns=\"http://www.w3.org/2000/svg\" height=\"24px\"viewBox=\"0 0 24 24\"\n",
              "       width=\"24px\">\n",
              "    <path d=\"M0 0h24v24H0V0z\" fill=\"none\"/>\n",
              "    <path d=\"M18.56 5.44l.94 2.06.94-2.06 2.06-.94-2.06-.94-.94-2.06-.94 2.06-2.06.94zm-11 1L8.5 8.5l.94-2.06 2.06-.94-2.06-.94L8.5 2.5l-.94 2.06-2.06.94zm10 10l.94 2.06.94-2.06 2.06-.94-2.06-.94-.94-2.06-.94 2.06-2.06.94z\"/><path d=\"M17.41 7.96l-1.37-1.37c-.4-.4-.92-.59-1.43-.59-.52 0-1.04.2-1.43.59L10.3 9.45l-7.72 7.72c-.78.78-.78 2.05 0 2.83L4 21.41c.39.39.9.59 1.41.59.51 0 1.02-.2 1.41-.59l7.78-7.78 2.81-2.81c.8-.78.8-2.07 0-2.86zM5.41 20L4 18.59l7.72-7.72 1.47 1.35L5.41 20z\"/>\n",
              "  </svg>\n",
              "      </button>\n",
              "      \n",
              "  <style>\n",
              "    .colab-df-container {\n",
              "      display:flex;\n",
              "      flex-wrap:wrap;\n",
              "      gap: 12px;\n",
              "    }\n",
              "\n",
              "    .colab-df-convert {\n",
              "      background-color: #E8F0FE;\n",
              "      border: none;\n",
              "      border-radius: 50%;\n",
              "      cursor: pointer;\n",
              "      display: none;\n",
              "      fill: #1967D2;\n",
              "      height: 32px;\n",
              "      padding: 0 0 0 0;\n",
              "      width: 32px;\n",
              "    }\n",
              "\n",
              "    .colab-df-convert:hover {\n",
              "      background-color: #E2EBFA;\n",
              "      box-shadow: 0px 1px 2px rgba(60, 64, 67, 0.3), 0px 1px 3px 1px rgba(60, 64, 67, 0.15);\n",
              "      fill: #174EA6;\n",
              "    }\n",
              "\n",
              "    [theme=dark] .colab-df-convert {\n",
              "      background-color: #3B4455;\n",
              "      fill: #D2E3FC;\n",
              "    }\n",
              "\n",
              "    [theme=dark] .colab-df-convert:hover {\n",
              "      background-color: #434B5C;\n",
              "      box-shadow: 0px 1px 3px 1px rgba(0, 0, 0, 0.15);\n",
              "      filter: drop-shadow(0px 1px 2px rgba(0, 0, 0, 0.3));\n",
              "      fill: #FFFFFF;\n",
              "    }\n",
              "  </style>\n",
              "\n",
              "      <script>\n",
              "        const buttonEl =\n",
              "          document.querySelector('#df-b851538f-d7ea-4599-bb66-501e856396db button.colab-df-convert');\n",
              "        buttonEl.style.display =\n",
              "          google.colab.kernel.accessAllowed ? 'block' : 'none';\n",
              "\n",
              "        async function convertToInteractive(key) {\n",
              "          const element = document.querySelector('#df-b851538f-d7ea-4599-bb66-501e856396db');\n",
              "          const dataTable =\n",
              "            await google.colab.kernel.invokeFunction('convertToInteractive',\n",
              "                                                     [key], {});\n",
              "          if (!dataTable) return;\n",
              "\n",
              "          const docLinkHtml = 'Like what you see? Visit the ' +\n",
              "            '<a target=\"_blank\" href=https://colab.research.google.com/notebooks/data_table.ipynb>data table notebook</a>'\n",
              "            + ' to learn more about interactive tables.';\n",
              "          element.innerHTML = '';\n",
              "          dataTable['output_type'] = 'display_data';\n",
              "          await google.colab.output.renderOutput(dataTable, element);\n",
              "          const docLink = document.createElement('div');\n",
              "          docLink.innerHTML = docLinkHtml;\n",
              "          element.appendChild(docLink);\n",
              "        }\n",
              "      </script>\n",
              "    </div>\n",
              "  </div>\n",
              "  "
            ]
          },
          "metadata": {},
          "execution_count": 10
        }
      ],
      "source": [
        "data.head() "
      ]
    },
    {
      "cell_type": "code",
      "source": [
        "data.shape"
      ],
      "metadata": {
        "colab": {
          "base_uri": "https://localhost:8080/"
        },
        "id": "SNlporkThWYt",
        "outputId": "10844050-64a5-41f7-8562-4a3f83ef3bc5"
      },
      "execution_count": 11,
      "outputs": [
        {
          "output_type": "execute_result",
          "data": {
            "text/plain": [
              "(9000, 3)"
            ]
          },
          "metadata": {},
          "execution_count": 11
        }
      ]
    },
    {
      "cell_type": "code",
      "source": [
        "data.rename(columns = {\"tweet\":\"phrase\"}, inplace = True)"
      ],
      "metadata": {
        "id": "_6h0NvEUEb6q"
      },
      "execution_count": 12,
      "outputs": []
    },
    {
      "cell_type": "code",
      "execution_count": 14,
      "metadata": {
        "colab": {
          "base_uri": "https://localhost:8080/",
          "height": 301
        },
        "id": "O9Etx3Btfmbz",
        "outputId": "11840a25-9df3-4f75-e3c7-784cc3216d08"
      },
      "outputs": [
        {
          "output_type": "display_data",
          "data": {
            "text/plain": [
              "<Figure size 432x288 with 1 Axes>"
            ],
            "image/png": "[encoded data removed]"
          },
          "metadata": {}
        }
      ],
      "source": [
        "carrier_count = data[\"dialect\"].value_counts()\n",
        "sns.set(style=\"darkgrid\")\n",
        "sns.barplot(carrier_count.index, carrier_count.values, alpha=0.9)\n",
        "plt.title('Frequency Distribution of class')\n",
        "plt.ylabel('Number of Occurrences', fontsize=12)\n",
        "plt.xlabel('Carrier', fontsize=12)\n",
        "plt.show()"
      ]
    },
    {
      "cell_type": "code",
      "execution_count": 17,
      "metadata": {
        "colab": {
          "base_uri": "https://localhost:8080/",
          "height": 796
        },
        "id": "dUYwtrfjfmb4",
        "outputId": "83ddea05-cb5c-49a6-b5e4-a58c12d7c194"
      },
      "outputs": [
        {
          "output_type": "execute_result",
          "data": {
            "text/plain": [
              "IQ    500\n",
              "LY    500\n",
              "AE    500\n",
              "SD    500\n",
              "OM    500\n",
              "KW    500\n",
              "LB    500\n",
              "EG    500\n",
              "DZ    500\n",
              "YE    500\n",
              "SA    500\n",
              "MA    500\n",
              "JO    500\n",
              "TN    500\n",
              "SY    500\n",
              "PL    500\n",
              "QA    500\n",
              "BH    500\n",
              "Name: dialect, dtype: int64"
            ]
          },
          "metadata": {},
          "execution_count": 17
        },
        {
          "output_type": "display_data",
          "data": {
            "text/plain": [
              "<Figure size 576x576 with 1 Axes>"
            ],
            "image/png": "[encoded data removed]"
          },
          "metadata": {}
        }
      ],
      "source": [
        "data[\"dialect\"].value_counts().head(18).plot(\n",
        "    kind='pie', autopct='%1.1f%%', figsize=(8, 8)).legend()\n",
        "\n",
        "data[\"dialect\"].value_counts()"
      ]
    },
    {
      "cell_type": "code",
      "source": [
        "nltk.download('punkt')\n",
        "nltk.word_tokenize(data[\"phrase\"][0])"
      ],
      "metadata": {
        "colab": {
          "base_uri": "https://localhost:8080/"
        },
        "id": "E-9G1R7Lk5B1",
        "outputId": "6b021937-6367-44ed-eb12-9a72169c0975"
      },
      "execution_count": 18,
      "outputs": [
        {
          "output_type": "stream",
          "name": "stdout",
          "text": [
            "[nltk_data] Downloading package punkt to /root/nltk_data...\n",
            "[nltk_data]   Package punkt is already up-to-date!\n"
          ]
        },
        {
          "output_type": "execute_result",
          "data": {
            "text/plain": [
              "['@', 'Nw8ieJUwaCAAreT', 'لكن', 'بالنهاية', '..', 'ينتفض', '..', 'يغير', '.']"
            ]
          },
          "metadata": {},
          "execution_count": 18
        }
      ]
    },
    {
      "cell_type": "markdown",
      "source": [
        "# Testing different Tokenizers"
      ],
      "metadata": {
        "id": "Ap7hXQTj1sFP"
      }
    },
    {
      "cell_type": "code",
      "execution_count": 19,
      "metadata": {
        "colab": {
          "base_uri": "https://localhost:8080/"
        },
        "id": "CVVkfxnJfmcD",
        "outputId": "d2acebf9-f86d-4839-95a2-9fa8b31758bd"
      },
      "outputs": [
        {
          "output_type": "execute_result",
          "data": {
            "text/plain": [
              "['@Nw8ieJUwaCAAreT', 'لكن', 'بالنهاية', '..', 'ينتفض', '..', 'يغير', '.']"
            ]
          },
          "metadata": {},
          "execution_count": 19
        }
      ],
      "source": [
        "# Tokenize using the white spaces\n",
        "nltk.tokenize.WhitespaceTokenizer().tokenize(data[\"phrase\"][0])"
      ]
    },
    {
      "cell_type": "code",
      "execution_count": 20,
      "metadata": {
        "colab": {
          "base_uri": "https://localhost:8080/"
        },
        "id": "4WkhD3mEfmcG",
        "outputId": "571657d8-a95b-4196-b373-31bc5be39441"
      },
      "outputs": [
        {
          "output_type": "execute_result",
          "data": {
            "text/plain": [
              "['@', 'Nw8ieJUwaCAAreT', 'لكن', 'بالنهاية', '..', 'ينتفض', '..', 'يغير', '.']"
            ]
          },
          "metadata": {},
          "execution_count": 20
        }
      ],
      "source": [
        "# Tokenize using Punctuations\n",
        "nltk.tokenize.WordPunctTokenizer().tokenize(data[\"phrase\"][0])"
      ]
    },
    {
      "cell_type": "code",
      "execution_count": 21,
      "metadata": {
        "colab": {
          "base_uri": "https://localhost:8080/"
        },
        "id": "7YCQ9YLtfmcK",
        "outputId": "5d88fd44-6728-40c4-d130-109ca36c4ead"
      },
      "outputs": [
        {
          "output_type": "execute_result",
          "data": {
            "text/plain": [
              "['@', 'Nw8ieJUwaCAAreT', 'لكن', 'بالنهاية', '..', 'ينتفض', '..', 'يغير', '.']"
            ]
          },
          "metadata": {},
          "execution_count": 21
        }
      ],
      "source": [
        "# Tokenization using grammer rules\n",
        "nltk.tokenize.TreebankWordTokenizer().tokenize(data[\"phrase\"][0])"
      ]
    },
    {
      "cell_type": "code",
      "source": [
        "words = nltk.tokenize.WhitespaceTokenizer().tokenize(data[\"phrase\"][0])"
      ],
      "metadata": {
        "id": "qwmvcEPamRWA"
      },
      "execution_count": 22,
      "outputs": []
    },
    {
      "cell_type": "code",
      "source": [
        "print(words)"
      ],
      "metadata": {
        "colab": {
          "base_uri": "https://localhost:8080/"
        },
        "id": "zxAHL6FEmVe7",
        "outputId": "efd8f377-fb92-4c42-849e-4c2c381406bb"
      },
      "execution_count": 23,
      "outputs": [
        {
          "output_type": "stream",
          "name": "stdout",
          "text": [
            "['@Nw8ieJUwaCAAreT', 'لكن', 'بالنهاية', '..', 'ينتفض', '..', 'يغير', '.']\n"
          ]
        }
      ]
    },
    {
      "cell_type": "code",
      "source": [
        "df = pd.DataFrame()"
      ],
      "metadata": {
        "id": "lw2v4MaSmqar"
      },
      "execution_count": 24,
      "outputs": []
    },
    {
      "cell_type": "code",
      "execution_count": 25,
      "metadata": {
        "id": "HJh96d2dfmcO"
      },
      "outputs": [],
      "source": [
        "df['OriginalWords'] = pd.Series(words)"
      ]
    },
    {
      "cell_type": "code",
      "source": [
        "df"
      ],
      "metadata": {
        "colab": {
          "base_uri": "https://localhost:8080/",
          "height": 300
        },
        "id": "bjKUizwFnBWb",
        "outputId": "48973551-94ef-401c-8b21-cf128a842239"
      },
      "execution_count": 26,
      "outputs": [
        {
          "output_type": "execute_result",
          "data": {
            "text/plain": [
              "      OriginalWords\n",
              "0  @Nw8ieJUwaCAAreT\n",
              "1               لكن\n",
              "2          بالنهاية\n",
              "3                ..\n",
              "4             ينتفض\n",
              "5                ..\n",
              "6              يغير\n",
              "7                 ."
            ],
            "text/html": [
              "\n",
              "  <div id=\"df-a3e48b63-e51d-4ba1-8b97-1e3f477ebcb5\">\n",
              "    <div class=\"colab-df-container\">\n",
              "      <div>\n",
              "<style scoped>\n",
              "    .dataframe tbody tr th:only-of-type {\n",
              "        vertical-align: middle;\n",
              "    }\n",
              "\n",
              "    .dataframe tbody tr th {\n",
              "        vertical-align: top;\n",
              "    }\n",
              "\n",
              "    .dataframe thead th {\n",
              "        text-align: right;\n",
              "    }\n",
              "</style>\n",
              "<table border=\"1\" class=\"dataframe\">\n",
              "  <thead>\n",
              "    <tr style=\"text-align: right;\">\n",
              "      <th></th>\n",
              "      <th>OriginalWords</th>\n",
              "    </tr>\n",
              "  </thead>\n",
              "  <tbody>\n",
              "    <tr>\n",
              "      <th>0</th>\n",
              "      <td>@Nw8ieJUwaCAAreT</td>\n",
              "    </tr>\n",
              "    <tr>\n",
              "      <th>1</th>\n",
              "      <td>لكن</td>\n",
              "    </tr>\n",
              "    <tr>\n",
              "      <th>2</th>\n",
              "      <td>بالنهاية</td>\n",
              "    </tr>\n",
              "    <tr>\n",
              "      <th>3</th>\n",
              "      <td>..</td>\n",
              "    </tr>\n",
              "    <tr>\n",
              "      <th>4</th>\n",
              "      <td>ينتفض</td>\n",
              "    </tr>\n",
              "    <tr>\n",
              "      <th>5</th>\n",
              "      <td>..</td>\n",
              "    </tr>\n",
              "    <tr>\n",
              "      <th>6</th>\n",
              "      <td>يغير</td>\n",
              "    </tr>\n",
              "    <tr>\n",
              "      <th>7</th>\n",
              "      <td>.</td>\n",
              "    </tr>\n",
              "  </tbody>\n",
              "</table>\n",
              "</div>\n",
              "      <button class=\"colab-df-convert\" onclick=\"convertToInteractive('df-a3e48b63-e51d-4ba1-8b97-1e3f477ebcb5')\"\n",
              "              title=\"Convert this dataframe to an interactive table.\"\n",
              "              style=\"display:none;\">\n",
              "        \n",
              "  <svg xmlns=\"http://www.w3.org/2000/svg\" height=\"24px\"viewBox=\"0 0 24 24\"\n",
              "       width=\"24px\">\n",
              "    <path d=\"M0 0h24v24H0V0z\" fill=\"none\"/>\n",
              "    <path d=\"M18.56 5.44l.94 2.06.94-2.06 2.06-.94-2.06-.94-.94-2.06-.94 2.06-2.06.94zm-11 1L8.5 8.5l.94-2.06 2.06-.94-2.06-.94L8.5 2.5l-.94 2.06-2.06.94zm10 10l.94 2.06.94-2.06 2.06-.94-2.06-.94-.94-2.06-.94 2.06-2.06.94z\"/><path d=\"M17.41 7.96l-1.37-1.37c-.4-.4-.92-.59-1.43-.59-.52 0-1.04.2-1.43.59L10.3 9.45l-7.72 7.72c-.78.78-.78 2.05 0 2.83L4 21.41c.39.39.9.59 1.41.59.51 0 1.02-.2 1.41-.59l7.78-7.78 2.81-2.81c.8-.78.8-2.07 0-2.86zM5.41 20L4 18.59l7.72-7.72 1.47 1.35L5.41 20z\"/>\n",
              "  </svg>\n",
              "      </button>\n",
              "      \n",
              "  <style>\n",
              "    .colab-df-container {\n",
              "      display:flex;\n",
              "      flex-wrap:wrap;\n",
              "      gap: 12px;\n",
              "    }\n",
              "\n",
              "    .colab-df-convert {\n",
              "      background-color: #E8F0FE;\n",
              "      border: none;\n",
              "      border-radius: 50%;\n",
              "      cursor: pointer;\n",
              "      display: none;\n",
              "      fill: #1967D2;\n",
              "      height: 32px;\n",
              "      padding: 0 0 0 0;\n",
              "      width: 32px;\n",
              "    }\n",
              "\n",
              "    .colab-df-convert:hover {\n",
              "      background-color: #E2EBFA;\n",
              "      box-shadow: 0px 1px 2px rgba(60, 64, 67, 0.3), 0px 1px 3px 1px rgba(60, 64, 67, 0.15);\n",
              "      fill: #174EA6;\n",
              "    }\n",
              "\n",
              "    [theme=dark] .colab-df-convert {\n",
              "      background-color: #3B4455;\n",
              "      fill: #D2E3FC;\n",
              "    }\n",
              "\n",
              "    [theme=dark] .colab-df-convert:hover {\n",
              "      background-color: #434B5C;\n",
              "      box-shadow: 0px 1px 3px 1px rgba(0, 0, 0, 0.15);\n",
              "      filter: drop-shadow(0px 1px 2px rgba(0, 0, 0, 0.3));\n",
              "      fill: #FFFFFF;\n",
              "    }\n",
              "  </style>\n",
              "\n",
              "      <script>\n",
              "        const buttonEl =\n",
              "          document.querySelector('#df-a3e48b63-e51d-4ba1-8b97-1e3f477ebcb5 button.colab-df-convert');\n",
              "        buttonEl.style.display =\n",
              "          google.colab.kernel.accessAllowed ? 'block' : 'none';\n",
              "\n",
              "        async function convertToInteractive(key) {\n",
              "          const element = document.querySelector('#df-a3e48b63-e51d-4ba1-8b97-1e3f477ebcb5');\n",
              "          const dataTable =\n",
              "            await google.colab.kernel.invokeFunction('convertToInteractive',\n",
              "                                                     [key], {});\n",
              "          if (!dataTable) return;\n",
              "\n",
              "          const docLinkHtml = 'Like what you see? Visit the ' +\n",
              "            '<a target=\"_blank\" href=https://colab.research.google.com/notebooks/data_table.ipynb>data table notebook</a>'\n",
              "            + ' to learn more about interactive tables.';\n",
              "          element.innerHTML = '';\n",
              "          dataTable['output_type'] = 'display_data';\n",
              "          await google.colab.output.renderOutput(dataTable, element);\n",
              "          const docLink = document.createElement('div');\n",
              "          docLink.innerHTML = docLinkHtml;\n",
              "          element.appendChild(docLink);\n",
              "        }\n",
              "      </script>\n",
              "    </div>\n",
              "  </div>\n",
              "  "
            ]
          },
          "metadata": {},
          "execution_count": 26
        }
      ]
    },
    {
      "cell_type": "markdown",
      "source": [
        "#Find the best Lemmatizar on arabic"
      ],
      "metadata": {
        "id": "wF_sa2MmsL0f"
      }
    },
    {
      "cell_type": "code",
      "execution_count": 29,
      "metadata": {
        "id": "2cIC7KlafmcU"
      },
      "outputs": [],
      "source": [
        "# LEMMATIZATION\n",
        "words = nltk.tokenize.WhitespaceTokenizer().tokenize(data[\"phrase\"][0])\n",
        "df = pd.DataFrame()\n",
        "df['OriginalWords'] = pd.Series(words)"
      ]
    },
    {
      "cell_type": "code",
      "source": [
        "import nltk\n",
        "nltk.download('wordnet')"
      ],
      "metadata": {
        "colab": {
          "base_uri": "https://localhost:8080/"
        },
        "id": "C2bdt_h5tqgl",
        "outputId": "bb11428a-bf3b-4a14-9155-6953cd84709a"
      },
      "execution_count": 31,
      "outputs": [
        {
          "output_type": "stream",
          "name": "stdout",
          "text": [
            "[nltk_data] Downloading package wordnet to /root/nltk_data...\n",
            "[nltk_data]   Unzipping corpora/wordnet.zip.\n"
          ]
        },
        {
          "output_type": "execute_result",
          "data": {
            "text/plain": [
              "True"
            ]
          },
          "metadata": {},
          "execution_count": 31
        }
      ]
    },
    {
      "cell_type": "code",
      "execution_count": 32,
      "metadata": {
        "colab": {
          "base_uri": "https://localhost:8080/",
          "height": 143
        },
        "id": "CloCkyUufmcV",
        "outputId": "0cd17165-7aa5-4baf-9a0e-e3cde6fa699f"
      },
      "outputs": [
        {
          "output_type": "execute_result",
          "data": {
            "text/plain": [
              "  OriginalWords WordNetLemmatizer\n",
              "0          يأكل              يأكل\n",
              "1           أكل               أكل\n",
              "2         الأكل             الأكل"
            ],
            "text/html": [
              "\n",
              "  <div id=\"df-0612265c-d655-4374-9826-a8cae0e27c0c\">\n",
              "    <div class=\"colab-df-container\">\n",
              "      <div>\n",
              "<style scoped>\n",
              "    .dataframe tbody tr th:only-of-type {\n",
              "        vertical-align: middle;\n",
              "    }\n",
              "\n",
              "    .dataframe tbody tr th {\n",
              "        vertical-align: top;\n",
              "    }\n",
              "\n",
              "    .dataframe thead th {\n",
              "        text-align: right;\n",
              "    }\n",
              "</style>\n",
              "<table border=\"1\" class=\"dataframe\">\n",
              "  <thead>\n",
              "    <tr style=\"text-align: right;\">\n",
              "      <th></th>\n",
              "      <th>OriginalWords</th>\n",
              "      <th>WordNetLemmatizer</th>\n",
              "    </tr>\n",
              "  </thead>\n",
              "  <tbody>\n",
              "    <tr>\n",
              "      <th>0</th>\n",
              "      <td>يأكل</td>\n",
              "      <td>يأكل</td>\n",
              "    </tr>\n",
              "    <tr>\n",
              "      <th>1</th>\n",
              "      <td>أكل</td>\n",
              "      <td>أكل</td>\n",
              "    </tr>\n",
              "    <tr>\n",
              "      <th>2</th>\n",
              "      <td>الأكل</td>\n",
              "      <td>الأكل</td>\n",
              "    </tr>\n",
              "  </tbody>\n",
              "</table>\n",
              "</div>\n",
              "      <button class=\"colab-df-convert\" onclick=\"convertToInteractive('df-0612265c-d655-4374-9826-a8cae0e27c0c')\"\n",
              "              title=\"Convert this dataframe to an interactive table.\"\n",
              "              style=\"display:none;\">\n",
              "        \n",
              "  <svg xmlns=\"http://www.w3.org/2000/svg\" height=\"24px\"viewBox=\"0 0 24 24\"\n",
              "       width=\"24px\">\n",
              "    <path d=\"M0 0h24v24H0V0z\" fill=\"none\"/>\n",
              "    <path d=\"M18.56 5.44l.94 2.06.94-2.06 2.06-.94-2.06-.94-.94-2.06-.94 2.06-2.06.94zm-11 1L8.5 8.5l.94-2.06 2.06-.94-2.06-.94L8.5 2.5l-.94 2.06-2.06.94zm10 10l.94 2.06.94-2.06 2.06-.94-2.06-.94-.94-2.06-.94 2.06-2.06.94z\"/><path d=\"M17.41 7.96l-1.37-1.37c-.4-.4-.92-.59-1.43-.59-.52 0-1.04.2-1.43.59L10.3 9.45l-7.72 7.72c-.78.78-.78 2.05 0 2.83L4 21.41c.39.39.9.59 1.41.59.51 0 1.02-.2 1.41-.59l7.78-7.78 2.81-2.81c.8-.78.8-2.07 0-2.86zM5.41 20L4 18.59l7.72-7.72 1.47 1.35L5.41 20z\"/>\n",
              "  </svg>\n",
              "      </button>\n",
              "      \n",
              "  <style>\n",
              "    .colab-df-container {\n",
              "      display:flex;\n",
              "      flex-wrap:wrap;\n",
              "      gap: 12px;\n",
              "    }\n",
              "\n",
              "    .colab-df-convert {\n",
              "      background-color: #E8F0FE;\n",
              "      border: none;\n",
              "      border-radius: 50%;\n",
              "      cursor: pointer;\n",
              "      display: none;\n",
              "      fill: #1967D2;\n",
              "      height: 32px;\n",
              "      padding: 0 0 0 0;\n",
              "      width: 32px;\n",
              "    }\n",
              "\n",
              "    .colab-df-convert:hover {\n",
              "      background-color: #E2EBFA;\n",
              "      box-shadow: 0px 1px 2px rgba(60, 64, 67, 0.3), 0px 1px 3px 1px rgba(60, 64, 67, 0.15);\n",
              "      fill: #174EA6;\n",
              "    }\n",
              "\n",
              "    [theme=dark] .colab-df-convert {\n",
              "      background-color: #3B4455;\n",
              "      fill: #D2E3FC;\n",
              "    }\n",
              "\n",
              "    [theme=dark] .colab-df-convert:hover {\n",
              "      background-color: #434B5C;\n",
              "      box-shadow: 0px 1px 3px 1px rgba(0, 0, 0, 0.15);\n",
              "      filter: drop-shadow(0px 1px 2px rgba(0, 0, 0, 0.3));\n",
              "      fill: #FFFFFF;\n",
              "    }\n",
              "  </style>\n",
              "\n",
              "      <script>\n",
              "        const buttonEl =\n",
              "          document.querySelector('#df-0612265c-d655-4374-9826-a8cae0e27c0c button.colab-df-convert');\n",
              "        buttonEl.style.display =\n",
              "          google.colab.kernel.accessAllowed ? 'block' : 'none';\n",
              "\n",
              "        async function convertToInteractive(key) {\n",
              "          const element = document.querySelector('#df-0612265c-d655-4374-9826-a8cae0e27c0c');\n",
              "          const dataTable =\n",
              "            await google.colab.kernel.invokeFunction('convertToInteractive',\n",
              "                                                     [key], {});\n",
              "          if (!dataTable) return;\n",
              "\n",
              "          const docLinkHtml = 'Like what you see? Visit the ' +\n",
              "            '<a target=\"_blank\" href=https://colab.research.google.com/notebooks/data_table.ipynb>data table notebook</a>'\n",
              "            + ' to learn more about interactive tables.';\n",
              "          element.innerHTML = '';\n",
              "          dataTable['output_type'] = 'display_data';\n",
              "          await google.colab.output.renderOutput(dataTable, element);\n",
              "          const docLink = document.createElement('div');\n",
              "          docLink.innerHTML = docLinkHtml;\n",
              "          element.appendChild(docLink);\n",
              "        }\n",
              "      </script>\n",
              "    </div>\n",
              "  </div>\n",
              "  "
            ]
          },
          "metadata": {},
          "execution_count": 32
        }
      ],
      "source": [
        "# WordNet Lemmatization\n",
        "wordNetLemmatizedWords = [\n",
        "    nltk.stem.WordNetLemmatizer().lemmatize(word) for word in words]\n",
        "df['WordNetLemmatizer'] = pd.Series(wordNetLemmatizedWords)\n",
        "df"
      ]
    },
    {
      "cell_type": "code",
      "source": [
        "!pip install qalsadi\n",
        "import qalsadi.lemmatizer"
      ],
      "metadata": {
        "id": "A8cJ86jDl_pt"
      },
      "execution_count": null,
      "outputs": []
    },
    {
      "cell_type": "code",
      "source": [
        "# Qalsadi Lemmatization\n",
        "lemmer = qalsadi.lemmatizer.Lemmatizer()\n",
        "qalsadiLemmatizedWords = [\n",
        "    lemmer.lemmatize_text(word) for word in words]\n",
        "df['qalsadiLemmatizer'] = pd.Series(qalsadiLemmatizedWords)\n",
        "df"
      ],
      "metadata": {
        "colab": {
          "base_uri": "https://localhost:8080/",
          "height": 143
        },
        "id": "BCE5Yoh81-M9",
        "outputId": "43d7f8e0-91cb-4dfc-adf8-b5edaa621374"
      },
      "execution_count": 38,
      "outputs": [
        {
          "output_type": "execute_result",
          "data": {
            "text/plain": [
              "  OriginalWords WordNetLemmatizer\n",
              "0          يأكل             [أكل]\n",
              "1           أكل              [كل]\n",
              "2         الأكل             [أكل]"
            ],
            "text/html": [
              "\n",
              "  <div id=\"df-34cf2ecf-d977-49ae-81e8-620fc5a41285\">\n",
              "    <div class=\"colab-df-container\">\n",
              "      <div>\n",
              "<style scoped>\n",
              "    .dataframe tbody tr th:only-of-type {\n",
              "        vertical-align: middle;\n",
              "    }\n",
              "\n",
              "    .dataframe tbody tr th {\n",
              "        vertical-align: top;\n",
              "    }\n",
              "\n",
              "    .dataframe thead th {\n",
              "        text-align: right;\n",
              "    }\n",
              "</style>\n",
              "<table border=\"1\" class=\"dataframe\">\n",
              "  <thead>\n",
              "    <tr style=\"text-align: right;\">\n",
              "      <th></th>\n",
              "      <th>OriginalWords</th>\n",
              "      <th>WordNetLemmatizer</th>\n",
              "    </tr>\n",
              "  </thead>\n",
              "  <tbody>\n",
              "    <tr>\n",
              "      <th>0</th>\n",
              "      <td>يأكل</td>\n",
              "      <td>[أكل]</td>\n",
              "    </tr>\n",
              "    <tr>\n",
              "      <th>1</th>\n",
              "      <td>أكل</td>\n",
              "      <td>[كل]</td>\n",
              "    </tr>\n",
              "    <tr>\n",
              "      <th>2</th>\n",
              "      <td>الأكل</td>\n",
              "      <td>[أكل]</td>\n",
              "    </tr>\n",
              "  </tbody>\n",
              "</table>\n",
              "</div>\n",
              "      <button class=\"colab-df-convert\" onclick=\"convertToInteractive('df-34cf2ecf-d977-49ae-81e8-620fc5a41285')\"\n",
              "              title=\"Convert this dataframe to an interactive table.\"\n",
              "              style=\"display:none;\">\n",
              "        \n",
              "  <svg xmlns=\"http://www.w3.org/2000/svg\" height=\"24px\"viewBox=\"0 0 24 24\"\n",
              "       width=\"24px\">\n",
              "    <path d=\"M0 0h24v24H0V0z\" fill=\"none\"/>\n",
              "    <path d=\"M18.56 5.44l.94 2.06.94-2.06 2.06-.94-2.06-.94-.94-2.06-.94 2.06-2.06.94zm-11 1L8.5 8.5l.94-2.06 2.06-.94-2.06-.94L8.5 2.5l-.94 2.06-2.06.94zm10 10l.94 2.06.94-2.06 2.06-.94-2.06-.94-.94-2.06-.94 2.06-2.06.94z\"/><path d=\"M17.41 7.96l-1.37-1.37c-.4-.4-.92-.59-1.43-.59-.52 0-1.04.2-1.43.59L10.3 9.45l-7.72 7.72c-.78.78-.78 2.05 0 2.83L4 21.41c.39.39.9.59 1.41.59.51 0 1.02-.2 1.41-.59l7.78-7.78 2.81-2.81c.8-.78.8-2.07 0-2.86zM5.41 20L4 18.59l7.72-7.72 1.47 1.35L5.41 20z\"/>\n",
              "  </svg>\n",
              "      </button>\n",
              "      \n",
              "  <style>\n",
              "    .colab-df-container {\n",
              "      display:flex;\n",
              "      flex-wrap:wrap;\n",
              "      gap: 12px;\n",
              "    }\n",
              "\n",
              "    .colab-df-convert {\n",
              "      background-color: #E8F0FE;\n",
              "      border: none;\n",
              "      border-radius: 50%;\n",
              "      cursor: pointer;\n",
              "      display: none;\n",
              "      fill: #1967D2;\n",
              "      height: 32px;\n",
              "      padding: 0 0 0 0;\n",
              "      width: 32px;\n",
              "    }\n",
              "\n",
              "    .colab-df-convert:hover {\n",
              "      background-color: #E2EBFA;\n",
              "      box-shadow: 0px 1px 2px rgba(60, 64, 67, 0.3), 0px 1px 3px 1px rgba(60, 64, 67, 0.15);\n",
              "      fill: #174EA6;\n",
              "    }\n",
              "\n",
              "    [theme=dark] .colab-df-convert {\n",
              "      background-color: #3B4455;\n",
              "      fill: #D2E3FC;\n",
              "    }\n",
              "\n",
              "    [theme=dark] .colab-df-convert:hover {\n",
              "      background-color: #434B5C;\n",
              "      box-shadow: 0px 1px 3px 1px rgba(0, 0, 0, 0.15);\n",
              "      filter: drop-shadow(0px 1px 2px rgba(0, 0, 0, 0.3));\n",
              "      fill: #FFFFFF;\n",
              "    }\n",
              "  </style>\n",
              "\n",
              "      <script>\n",
              "        const buttonEl =\n",
              "          document.querySelector('#df-34cf2ecf-d977-49ae-81e8-620fc5a41285 button.colab-df-convert');\n",
              "        buttonEl.style.display =\n",
              "          google.colab.kernel.accessAllowed ? 'block' : 'none';\n",
              "\n",
              "        async function convertToInteractive(key) {\n",
              "          const element = document.querySelector('#df-34cf2ecf-d977-49ae-81e8-620fc5a41285');\n",
              "          const dataTable =\n",
              "            await google.colab.kernel.invokeFunction('convertToInteractive',\n",
              "                                                     [key], {});\n",
              "          if (!dataTable) return;\n",
              "\n",
              "          const docLinkHtml = 'Like what you see? Visit the ' +\n",
              "            '<a target=\"_blank\" href=https://colab.research.google.com/notebooks/data_table.ipynb>data table notebook</a>'\n",
              "            + ' to learn more about interactive tables.';\n",
              "          element.innerHTML = '';\n",
              "          dataTable['output_type'] = 'display_data';\n",
              "          await google.colab.output.renderOutput(dataTable, element);\n",
              "          const docLink = document.createElement('div');\n",
              "          docLink.innerHTML = docLinkHtml;\n",
              "          element.appendChild(docLink);\n",
              "        }\n",
              "      </script>\n",
              "    </div>\n",
              "  </div>\n",
              "  "
            ]
          },
          "metadata": {},
          "execution_count": 38
        }
      ]
    },
    {
      "cell_type": "code",
      "execution_count": null,
      "metadata": {
        "id": "1cLdWMdAfmcX"
      },
      "outputs": [],
      "source": [
        "# Dataset analysis : "
      ]
    },
    {
      "cell_type": "code",
      "execution_count": 42,
      "metadata": {
        "colab": {
          "base_uri": "https://localhost:8080/"
        },
        "id": "NUl7liDRfmcY",
        "outputId": "3ce3068f-9c26-4406-abca-13a9dac61e6f"
      },
      "outputs": [
        {
          "output_type": "execute_result",
          "data": {
            "text/plain": [
              "0     @Nw8ieJUwaCAAreT لكن بالنهاية .. ينتفض .. يغير .\n",
              "1    @7zNqXP0yrODdRjK يعني هذا محسوب على البشر .. ح...\n",
              "2                      @KanaanRema مبين من كلامه خليجي\n",
              "3           @HAIDER76128900 يسلملي مرورك وروحك الحلوه💐\n",
              "4                   @hmo2406 وين هل الغيبه  اخ محمد 🌸🌺\n",
              "Name: phrase, dtype: object"
            ]
          },
          "metadata": {},
          "execution_count": 42
        }
      ],
      "source": [
        "data['phrase'].head() "
      ]
    },
    {
      "cell_type": "code",
      "execution_count": null,
      "metadata": {
        "id": "9wZbrkhffmca"
      },
      "outputs": [],
      "source": [
        "# Checking null values "
      ]
    },
    {
      "cell_type": "code",
      "execution_count": 45,
      "metadata": {
        "colab": {
          "base_uri": "https://localhost:8080/",
          "height": 49
        },
        "id": "7nrGtbp0fmcb",
        "outputId": "d3c7a205-ee38-4c85-de8f-ff983d6f5e03"
      },
      "outputs": [
        {
          "output_type": "execute_result",
          "data": {
            "text/plain": [
              "Empty DataFrame\n",
              "Columns: [Unnamed: 0, dialect, phrase]\n",
              "Index: []"
            ],
            "text/html": [
              "\n",
              "  <div id=\"df-3d28613e-baef-4fa9-bd7e-d651378776d8\">\n",
              "    <div class=\"colab-df-container\">\n",
              "      <div>\n",
              "<style scoped>\n",
              "    .dataframe tbody tr th:only-of-type {\n",
              "        vertical-align: middle;\n",
              "    }\n",
              "\n",
              "    .dataframe tbody tr th {\n",
              "        vertical-align: top;\n",
              "    }\n",
              "\n",
              "    .dataframe thead th {\n",
              "        text-align: right;\n",
              "    }\n",
              "</style>\n",
              "<table border=\"1\" class=\"dataframe\">\n",
              "  <thead>\n",
              "    <tr style=\"text-align: right;\">\n",
              "      <th></th>\n",
              "      <th>Unnamed: 0</th>\n",
              "      <th>dialect</th>\n",
              "      <th>phrase</th>\n",
              "    </tr>\n",
              "  </thead>\n",
              "  <tbody>\n",
              "  </tbody>\n",
              "</table>\n",
              "</div>\n",
              "      <button class=\"colab-df-convert\" onclick=\"convertToInteractive('df-3d28613e-baef-4fa9-bd7e-d651378776d8')\"\n",
              "              title=\"Convert this dataframe to an interactive table.\"\n",
              "              style=\"display:none;\">\n",
              "        \n",
              "  <svg xmlns=\"http://www.w3.org/2000/svg\" height=\"24px\"viewBox=\"0 0 24 24\"\n",
              "       width=\"24px\">\n",
              "    <path d=\"M0 0h24v24H0V0z\" fill=\"none\"/>\n",
              "    <path d=\"M18.56 5.44l.94 2.06.94-2.06 2.06-.94-2.06-.94-.94-2.06-.94 2.06-2.06.94zm-11 1L8.5 8.5l.94-2.06 2.06-.94-2.06-.94L8.5 2.5l-.94 2.06-2.06.94zm10 10l.94 2.06.94-2.06 2.06-.94-2.06-.94-.94-2.06-.94 2.06-2.06.94z\"/><path d=\"M17.41 7.96l-1.37-1.37c-.4-.4-.92-.59-1.43-.59-.52 0-1.04.2-1.43.59L10.3 9.45l-7.72 7.72c-.78.78-.78 2.05 0 2.83L4 21.41c.39.39.9.59 1.41.59.51 0 1.02-.2 1.41-.59l7.78-7.78 2.81-2.81c.8-.78.8-2.07 0-2.86zM5.41 20L4 18.59l7.72-7.72 1.47 1.35L5.41 20z\"/>\n",
              "  </svg>\n",
              "      </button>\n",
              "      \n",
              "  <style>\n",
              "    .colab-df-container {\n",
              "      display:flex;\n",
              "      flex-wrap:wrap;\n",
              "      gap: 12px;\n",
              "    }\n",
              "\n",
              "    .colab-df-convert {\n",
              "      background-color: #E8F0FE;\n",
              "      border: none;\n",
              "      border-radius: 50%;\n",
              "      cursor: pointer;\n",
              "      display: none;\n",
              "      fill: #1967D2;\n",
              "      height: 32px;\n",
              "      padding: 0 0 0 0;\n",
              "      width: 32px;\n",
              "    }\n",
              "\n",
              "    .colab-df-convert:hover {\n",
              "      background-color: #E2EBFA;\n",
              "      box-shadow: 0px 1px 2px rgba(60, 64, 67, 0.3), 0px 1px 3px 1px rgba(60, 64, 67, 0.15);\n",
              "      fill: #174EA6;\n",
              "    }\n",
              "\n",
              "    [theme=dark] .colab-df-convert {\n",
              "      background-color: #3B4455;\n",
              "      fill: #D2E3FC;\n",
              "    }\n",
              "\n",
              "    [theme=dark] .colab-df-convert:hover {\n",
              "      background-color: #434B5C;\n",
              "      box-shadow: 0px 1px 3px 1px rgba(0, 0, 0, 0.15);\n",
              "      filter: drop-shadow(0px 1px 2px rgba(0, 0, 0, 0.3));\n",
              "      fill: #FFFFFF;\n",
              "    }\n",
              "  </style>\n",
              "\n",
              "      <script>\n",
              "        const buttonEl =\n",
              "          document.querySelector('#df-3d28613e-baef-4fa9-bd7e-d651378776d8 button.colab-df-convert');\n",
              "        buttonEl.style.display =\n",
              "          google.colab.kernel.accessAllowed ? 'block' : 'none';\n",
              "\n",
              "        async function convertToInteractive(key) {\n",
              "          const element = document.querySelector('#df-3d28613e-baef-4fa9-bd7e-d651378776d8');\n",
              "          const dataTable =\n",
              "            await google.colab.kernel.invokeFunction('convertToInteractive',\n",
              "                                                     [key], {});\n",
              "          if (!dataTable) return;\n",
              "\n",
              "          const docLinkHtml = 'Like what you see? Visit the ' +\n",
              "            '<a target=\"_blank\" href=https://colab.research.google.com/notebooks/data_table.ipynb>data table notebook</a>'\n",
              "            + ' to learn more about interactive tables.';\n",
              "          element.innerHTML = '';\n",
              "          dataTable['output_type'] = 'display_data';\n",
              "          await google.colab.output.renderOutput(dataTable, element);\n",
              "          const docLink = document.createElement('div');\n",
              "          docLink.innerHTML = docLinkHtml;\n",
              "          element.appendChild(docLink);\n",
              "        }\n",
              "      </script>\n",
              "    </div>\n",
              "  </div>\n",
              "  "
            ]
          },
          "metadata": {},
          "execution_count": 45
        }
      ],
      "source": [
        "data[data.isnull().any(axis=1)].head()"
      ]
    },
    {
      "cell_type": "code",
      "execution_count": null,
      "metadata": {
        "id": "j4-KUv6Xfmcc"
      },
      "outputs": [],
      "source": [
        "#Checking null values count"
      ]
    },
    {
      "cell_type": "code",
      "execution_count": 46,
      "metadata": {
        "colab": {
          "base_uri": "https://localhost:8080/"
        },
        "id": "yrMNLI8dfmcd",
        "outputId": "2927acaa-11a3-4925-b54f-5e3300cc6767"
      },
      "outputs": [
        {
          "output_type": "execute_result",
          "data": {
            "text/plain": [
              "0"
            ]
          },
          "metadata": {},
          "execution_count": 46
        }
      ],
      "source": [
        "np.sum(data.isnull().any(axis=1))"
      ]
    },
    {
      "cell_type": "code",
      "execution_count": null,
      "metadata": {
        "id": "Qc_Wvxvifmch"
      },
      "outputs": [],
      "source": [
        "#cleaning tweet text : "
      ]
    },
    {
      "cell_type": "code",
      "execution_count": 47,
      "metadata": {
        "colab": {
          "base_uri": "https://localhost:8080/",
          "height": 206
        },
        "id": "dOOBaF-Lfmcj",
        "outputId": "8d372a5c-c98c-4df5-aba1-d32556841a1c"
      },
      "outputs": [
        {
          "output_type": "execute_result",
          "data": {
            "text/plain": [
              "   Unnamed: 0 dialect                                             phrase\n",
              "0           0      IQ   @Nw8ieJUwaCAAreT لكن بالنهاية .. ينتفض .. يغير .\n",
              "1           1      IQ  @7zNqXP0yrODdRjK يعني هذا محسوب على البشر .. ح...\n",
              "2           2      IQ                    @KanaanRema مبين من كلامه خليجي\n",
              "3           3      IQ         @HAIDER76128900 يسلملي مرورك وروحك الحلوه💐\n",
              "4           4      IQ                 @hmo2406 وين هل الغيبه  اخ محمد 🌸🌺"
            ],
            "text/html": [
              "\n",
              "  <div id=\"df-ce7a7186-2a26-477d-a4bc-a8622609591c\">\n",
              "    <div class=\"colab-df-container\">\n",
              "      <div>\n",
              "<style scoped>\n",
              "    .dataframe tbody tr th:only-of-type {\n",
              "        vertical-align: middle;\n",
              "    }\n",
              "\n",
              "    .dataframe tbody tr th {\n",
              "        vertical-align: top;\n",
              "    }\n",
              "\n",
              "    .dataframe thead th {\n",
              "        text-align: right;\n",
              "    }\n",
              "</style>\n",
              "<table border=\"1\" class=\"dataframe\">\n",
              "  <thead>\n",
              "    <tr style=\"text-align: right;\">\n",
              "      <th></th>\n",
              "      <th>Unnamed: 0</th>\n",
              "      <th>dialect</th>\n",
              "      <th>phrase</th>\n",
              "    </tr>\n",
              "  </thead>\n",
              "  <tbody>\n",
              "    <tr>\n",
              "      <th>0</th>\n",
              "      <td>0</td>\n",
              "      <td>IQ</td>\n",
              "      <td>@Nw8ieJUwaCAAreT لكن بالنهاية .. ينتفض .. يغير .</td>\n",
              "    </tr>\n",
              "    <tr>\n",
              "      <th>1</th>\n",
              "      <td>1</td>\n",
              "      <td>IQ</td>\n",
              "      <td>@7zNqXP0yrODdRjK يعني هذا محسوب على البشر .. ح...</td>\n",
              "    </tr>\n",
              "    <tr>\n",
              "      <th>2</th>\n",
              "      <td>2</td>\n",
              "      <td>IQ</td>\n",
              "      <td>@KanaanRema مبين من كلامه خليجي</td>\n",
              "    </tr>\n",
              "    <tr>\n",
              "      <th>3</th>\n",
              "      <td>3</td>\n",
              "      <td>IQ</td>\n",
              "      <td>@HAIDER76128900 يسلملي مرورك وروحك الحلوه💐</td>\n",
              "    </tr>\n",
              "    <tr>\n",
              "      <th>4</th>\n",
              "      <td>4</td>\n",
              "      <td>IQ</td>\n",
              "      <td>@hmo2406 وين هل الغيبه  اخ محمد 🌸🌺</td>\n",
              "    </tr>\n",
              "  </tbody>\n",
              "</table>\n",
              "</div>\n",
              "      <button class=\"colab-df-convert\" onclick=\"convertToInteractive('df-ce7a7186-2a26-477d-a4bc-a8622609591c')\"\n",
              "              title=\"Convert this dataframe to an interactive table.\"\n",
              "              style=\"display:none;\">\n",
              "        \n",
              "  <svg xmlns=\"http://www.w3.org/2000/svg\" height=\"24px\"viewBox=\"0 0 24 24\"\n",
              "       width=\"24px\">\n",
              "    <path d=\"M0 0h24v24H0V0z\" fill=\"none\"/>\n",
              "    <path d=\"M18.56 5.44l.94 2.06.94-2.06 2.06-.94-2.06-.94-.94-2.06-.94 2.06-2.06.94zm-11 1L8.5 8.5l.94-2.06 2.06-.94-2.06-.94L8.5 2.5l-.94 2.06-2.06.94zm10 10l.94 2.06.94-2.06 2.06-.94-2.06-.94-.94-2.06-.94 2.06-2.06.94z\"/><path d=\"M17.41 7.96l-1.37-1.37c-.4-.4-.92-.59-1.43-.59-.52 0-1.04.2-1.43.59L10.3 9.45l-7.72 7.72c-.78.78-.78 2.05 0 2.83L4 21.41c.39.39.9.59 1.41.59.51 0 1.02-.2 1.41-.59l7.78-7.78 2.81-2.81c.8-.78.8-2.07 0-2.86zM5.41 20L4 18.59l7.72-7.72 1.47 1.35L5.41 20z\"/>\n",
              "  </svg>\n",
              "      </button>\n",
              "      \n",
              "  <style>\n",
              "    .colab-df-container {\n",
              "      display:flex;\n",
              "      flex-wrap:wrap;\n",
              "      gap: 12px;\n",
              "    }\n",
              "\n",
              "    .colab-df-convert {\n",
              "      background-color: #E8F0FE;\n",
              "      border: none;\n",
              "      border-radius: 50%;\n",
              "      cursor: pointer;\n",
              "      display: none;\n",
              "      fill: #1967D2;\n",
              "      height: 32px;\n",
              "      padding: 0 0 0 0;\n",
              "      width: 32px;\n",
              "    }\n",
              "\n",
              "    .colab-df-convert:hover {\n",
              "      background-color: #E2EBFA;\n",
              "      box-shadow: 0px 1px 2px rgba(60, 64, 67, 0.3), 0px 1px 3px 1px rgba(60, 64, 67, 0.15);\n",
              "      fill: #174EA6;\n",
              "    }\n",
              "\n",
              "    [theme=dark] .colab-df-convert {\n",
              "      background-color: #3B4455;\n",
              "      fill: #D2E3FC;\n",
              "    }\n",
              "\n",
              "    [theme=dark] .colab-df-convert:hover {\n",
              "      background-color: #434B5C;\n",
              "      box-shadow: 0px 1px 3px 1px rgba(0, 0, 0, 0.15);\n",
              "      filter: drop-shadow(0px 1px 2px rgba(0, 0, 0, 0.3));\n",
              "      fill: #FFFFFF;\n",
              "    }\n",
              "  </style>\n",
              "\n",
              "      <script>\n",
              "        const buttonEl =\n",
              "          document.querySelector('#df-ce7a7186-2a26-477d-a4bc-a8622609591c button.colab-df-convert');\n",
              "        buttonEl.style.display =\n",
              "          google.colab.kernel.accessAllowed ? 'block' : 'none';\n",
              "\n",
              "        async function convertToInteractive(key) {\n",
              "          const element = document.querySelector('#df-ce7a7186-2a26-477d-a4bc-a8622609591c');\n",
              "          const dataTable =\n",
              "            await google.colab.kernel.invokeFunction('convertToInteractive',\n",
              "                                                     [key], {});\n",
              "          if (!dataTable) return;\n",
              "\n",
              "          const docLinkHtml = 'Like what you see? Visit the ' +\n",
              "            '<a target=\"_blank\" href=https://colab.research.google.com/notebooks/data_table.ipynb>data table notebook</a>'\n",
              "            + ' to learn more about interactive tables.';\n",
              "          element.innerHTML = '';\n",
              "          dataTable['output_type'] = 'display_data';\n",
              "          await google.colab.output.renderOutput(dataTable, element);\n",
              "          const docLink = document.createElement('div');\n",
              "          docLink.innerHTML = docLinkHtml;\n",
              "          element.appendChild(docLink);\n",
              "        }\n",
              "      </script>\n",
              "    </div>\n",
              "  </div>\n",
              "  "
            ]
          },
          "metadata": {},
          "execution_count": 47
        }
      ],
      "source": [
        "data.head()"
      ]
    },
    {
      "cell_type": "code",
      "execution_count": 48,
      "metadata": {
        "id": "OXTrm5wxfmck"
      },
      "outputs": [],
      "source": [
        "# Preprocess data : "
      ]
    },
    {
      "cell_type": "code",
      "execution_count": 49,
      "metadata": {
        "id": "IeQjz_IOfmcl"
      },
      "outputs": [],
      "source": [
        "arabic_punctuations = '''`÷×؛<>_()*&^%][ـ،/:\"؟.,'{}~¦+|!”…“–ـ'''\n",
        "english_punctuations = string.punctuation\n",
        "punctuations_list = arabic_punctuations + english_punctuations"
      ]
    },
    {
      "cell_type": "code",
      "execution_count": 50,
      "metadata": {
        "id": "YcjS_sPHfmcm"
      },
      "outputs": [],
      "source": [
        "# Remove_punctuations :"
      ]
    },
    {
      "cell_type": "code",
      "execution_count": 52,
      "metadata": {
        "id": "scaMdM-Sfmcn"
      },
      "outputs": [],
      "source": [
        "def remove_punctuations(text):\n",
        "    translator = str.maketrans('', '', punctuations_list)\n",
        "    return text.translate(translator)"
      ]
    },
    {
      "cell_type": "code",
      "execution_count": null,
      "metadata": {
        "id": "yOiGU6OLfmco"
      },
      "outputs": [],
      "source": [
        "# Normalize_arabic : "
      ]
    },
    {
      "cell_type": "code",
      "execution_count": 54,
      "metadata": {
        "id": "U4QZnpiafmcp"
      },
      "outputs": [],
      "source": [
        "def normalize_arabic(text):\n",
        "    text = re.sub(\"[إأآا]\", \"ا\", text)\n",
        "    text = re.sub(\"ى\", \"ي\", text)\n",
        "    text = re.sub(\"ة\", \"ه\", text)\n",
        "    text = re.sub(\"گ\", \"ك\", text)\n",
        "    return text"
      ]
    },
    {
      "cell_type": "code",
      "execution_count": null,
      "metadata": {
        "id": "fpuqDBawfmcq"
      },
      "outputs": [],
      "source": [
        "# Remove_repeating_char: "
      ]
    },
    {
      "cell_type": "code",
      "execution_count": 55,
      "metadata": {
        "id": "aQ5mmVfdfmcq"
      },
      "outputs": [],
      "source": [
        "def remove_repeating_char(text):\n",
        "    return re.sub(r'(.)\\1+', r'\\1', text)"
      ]
    },
    {
      "cell_type": "code",
      "execution_count": null,
      "metadata": {
        "id": "W8AQTYIQfmcr"
      },
      "outputs": [],
      "source": [
        "#processPost for applying all functions "
      ]
    },
    {
      "cell_type": "code",
      "execution_count": 57,
      "metadata": {
        "id": "NK8XxcPwfmcr"
      },
      "outputs": [],
      "source": [
        "def processPost(tweet):\n",
        "    # Replace @username with empty string\n",
        "    tweet = re.sub('@[^\\s]+', ' ', tweet)\n",
        "\n",
        "    # Convert www.* or https?://* to \" \"\n",
        "    tweet = re.sub('((www\\.[^\\s]+)|(https?://[^\\s]+))', ' ', tweet)\n",
        "\n",
        "    # Replace #word with word\n",
        "    tweet = re.sub(r'#([^\\s]+)', r'\\1', tweet)\n",
        "\n",
        "    # remove punctuations\n",
        "    tweet = remove_punctuations(tweet)\n",
        "\n",
        "    # normalize the tweet\n",
        "    # tweet= normalize_arabic(tweet)\n",
        "\n",
        "    # remove repeated letters\n",
        "    tweet = remove_repeating_char(tweet)\n",
        "\n",
        "    return tweet"
      ]
    },
    {
      "cell_type": "code",
      "execution_count": null,
      "metadata": {
        "id": "7RiHy-U_fmcs"
      },
      "outputs": [],
      "source": [
        "# Applying processPost function for preprocessing "
      ]
    },
    {
      "cell_type": "code",
      "execution_count": 58,
      "metadata": {
        "id": "-RzI8X0Afmcs"
      },
      "outputs": [],
      "source": [
        "data[\"phrase\"] = data[\"phrase\"].apply(lambda x: processPost(x))"
      ]
    },
    {
      "cell_type": "code",
      "source": [
        "data.head()"
      ],
      "metadata": {
        "id": "WB4E99l58dn1",
        "outputId": "b5377135-c904-4881-ca8f-14988a16b03d",
        "colab": {
          "base_uri": "https://localhost:8080/",
          "height": 206
        }
      },
      "execution_count": 59,
      "outputs": [
        {
          "output_type": "execute_result",
          "data": {
            "text/plain": [
              "   Unnamed: 0 dialect                                             phrase\n",
              "0           0      IQ                           لكن بالنهاية ينتفض يغير \n",
              "1           1      IQ   يعني هذا محسوب على البشر حيونه وحشيه وتطلبون ...\n",
              "2           2      IQ                                مبين من كلامه خليجي\n",
              "3           3      IQ                         يسلملي مرورك وروحك الحلوه💐\n",
              "4           4      IQ                           وين هل الغيبه اخ محمد 🌸🌺"
            ],
            "text/html": [
              "\n",
              "  <div id=\"df-9185e62f-acf7-4ff3-8e4b-d86dab53f723\">\n",
              "    <div class=\"colab-df-container\">\n",
              "      <div>\n",
              "<style scoped>\n",
              "    .dataframe tbody tr th:only-of-type {\n",
              "        vertical-align: middle;\n",
              "    }\n",
              "\n",
              "    .dataframe tbody tr th {\n",
              "        vertical-align: top;\n",
              "    }\n",
              "\n",
              "    .dataframe thead th {\n",
              "        text-align: right;\n",
              "    }\n",
              "</style>\n",
              "<table border=\"1\" class=\"dataframe\">\n",
              "  <thead>\n",
              "    <tr style=\"text-align: right;\">\n",
              "      <th></th>\n",
              "      <th>Unnamed: 0</th>\n",
              "      <th>dialect</th>\n",
              "      <th>phrase</th>\n",
              "    </tr>\n",
              "  </thead>\n",
              "  <tbody>\n",
              "    <tr>\n",
              "      <th>0</th>\n",
              "      <td>0</td>\n",
              "      <td>IQ</td>\n",
              "      <td>لكن بالنهاية ينتفض يغير</td>\n",
              "    </tr>\n",
              "    <tr>\n",
              "      <th>1</th>\n",
              "      <td>1</td>\n",
              "      <td>IQ</td>\n",
              "      <td>يعني هذا محسوب على البشر حيونه وحشيه وتطلبون ...</td>\n",
              "    </tr>\n",
              "    <tr>\n",
              "      <th>2</th>\n",
              "      <td>2</td>\n",
              "      <td>IQ</td>\n",
              "      <td>مبين من كلامه خليجي</td>\n",
              "    </tr>\n",
              "    <tr>\n",
              "      <th>3</th>\n",
              "      <td>3</td>\n",
              "      <td>IQ</td>\n",
              "      <td>يسلملي مرورك وروحك الحلوه💐</td>\n",
              "    </tr>\n",
              "    <tr>\n",
              "      <th>4</th>\n",
              "      <td>4</td>\n",
              "      <td>IQ</td>\n",
              "      <td>وين هل الغيبه اخ محمد 🌸🌺</td>\n",
              "    </tr>\n",
              "  </tbody>\n",
              "</table>\n",
              "</div>\n",
              "      <button class=\"colab-df-convert\" onclick=\"convertToInteractive('df-9185e62f-acf7-4ff3-8e4b-d86dab53f723')\"\n",
              "              title=\"Convert this dataframe to an interactive table.\"\n",
              "              style=\"display:none;\">\n",
              "        \n",
              "  <svg xmlns=\"http://www.w3.org/2000/svg\" height=\"24px\"viewBox=\"0 0 24 24\"\n",
              "       width=\"24px\">\n",
              "    <path d=\"M0 0h24v24H0V0z\" fill=\"none\"/>\n",
              "    <path d=\"M18.56 5.44l.94 2.06.94-2.06 2.06-.94-2.06-.94-.94-2.06-.94 2.06-2.06.94zm-11 1L8.5 8.5l.94-2.06 2.06-.94-2.06-.94L8.5 2.5l-.94 2.06-2.06.94zm10 10l.94 2.06.94-2.06 2.06-.94-2.06-.94-.94-2.06-.94 2.06-2.06.94z\"/><path d=\"M17.41 7.96l-1.37-1.37c-.4-.4-.92-.59-1.43-.59-.52 0-1.04.2-1.43.59L10.3 9.45l-7.72 7.72c-.78.78-.78 2.05 0 2.83L4 21.41c.39.39.9.59 1.41.59.51 0 1.02-.2 1.41-.59l7.78-7.78 2.81-2.81c.8-.78.8-2.07 0-2.86zM5.41 20L4 18.59l7.72-7.72 1.47 1.35L5.41 20z\"/>\n",
              "  </svg>\n",
              "      </button>\n",
              "      \n",
              "  <style>\n",
              "    .colab-df-container {\n",
              "      display:flex;\n",
              "      flex-wrap:wrap;\n",
              "      gap: 12px;\n",
              "    }\n",
              "\n",
              "    .colab-df-convert {\n",
              "      background-color: #E8F0FE;\n",
              "      border: none;\n",
              "      border-radius: 50%;\n",
              "      cursor: pointer;\n",
              "      display: none;\n",
              "      fill: #1967D2;\n",
              "      height: 32px;\n",
              "      padding: 0 0 0 0;\n",
              "      width: 32px;\n",
              "    }\n",
              "\n",
              "    .colab-df-convert:hover {\n",
              "      background-color: #E2EBFA;\n",
              "      box-shadow: 0px 1px 2px rgba(60, 64, 67, 0.3), 0px 1px 3px 1px rgba(60, 64, 67, 0.15);\n",
              "      fill: #174EA6;\n",
              "    }\n",
              "\n",
              "    [theme=dark] .colab-df-convert {\n",
              "      background-color: #3B4455;\n",
              "      fill: #D2E3FC;\n",
              "    }\n",
              "\n",
              "    [theme=dark] .colab-df-convert:hover {\n",
              "      background-color: #434B5C;\n",
              "      box-shadow: 0px 1px 3px 1px rgba(0, 0, 0, 0.15);\n",
              "      filter: drop-shadow(0px 1px 2px rgba(0, 0, 0, 0.3));\n",
              "      fill: #FFFFFF;\n",
              "    }\n",
              "  </style>\n",
              "\n",
              "      <script>\n",
              "        const buttonEl =\n",
              "          document.querySelector('#df-9185e62f-acf7-4ff3-8e4b-d86dab53f723 button.colab-df-convert');\n",
              "        buttonEl.style.display =\n",
              "          google.colab.kernel.accessAllowed ? 'block' : 'none';\n",
              "\n",
              "        async function convertToInteractive(key) {\n",
              "          const element = document.querySelector('#df-9185e62f-acf7-4ff3-8e4b-d86dab53f723');\n",
              "          const dataTable =\n",
              "            await google.colab.kernel.invokeFunction('convertToInteractive',\n",
              "                                                     [key], {});\n",
              "          if (!dataTable) return;\n",
              "\n",
              "          const docLinkHtml = 'Like what you see? Visit the ' +\n",
              "            '<a target=\"_blank\" href=https://colab.research.google.com/notebooks/data_table.ipynb>data table notebook</a>'\n",
              "            + ' to learn more about interactive tables.';\n",
              "          element.innerHTML = '';\n",
              "          dataTable['output_type'] = 'display_data';\n",
              "          await google.colab.output.renderOutput(dataTable, element);\n",
              "          const docLink = document.createElement('div');\n",
              "          docLink.innerHTML = docLinkHtml;\n",
              "          element.appendChild(docLink);\n",
              "        }\n",
              "      </script>\n",
              "    </div>\n",
              "  </div>\n",
              "  "
            ]
          },
          "metadata": {},
          "execution_count": 59
        }
      ]
    },
    {
      "cell_type": "code",
      "execution_count": 60,
      "metadata": {
        "id": "6MHZeeKLfmct"
      },
      "outputs": [],
      "source": [
        "# Getting Tokenize the tweet text "
      ]
    },
    {
      "cell_type": "code",
      "execution_count": 61,
      "metadata": {
        "id": "_j1sIoqGfmct"
      },
      "outputs": [],
      "source": [
        "tokenizer = RegexpTokenizer(r'\\w+')\n",
        "data[\"phrase\"] = data[\"phrase\"].apply(tokenizer.tokenize)"
      ]
    },
    {
      "cell_type": "code",
      "execution_count": 62,
      "metadata": {
        "id": "ZFXOQa9bfmcu",
        "outputId": "8dfb7b34-2cf0-4c27-f4ae-90c9e9cf3dc0",
        "colab": {
          "base_uri": "https://localhost:8080/"
        }
      },
      "outputs": [
        {
          "output_type": "execute_result",
          "data": {
            "text/plain": [
              "0                         [لكن, بالنهاية, ينتفض, يغير]\n",
              "1    [يعني, هذا, محسوب, على, البشر, حيونه, وحشيه, و...\n",
              "2                             [مبين, من, كلامه, خليجي]\n",
              "3                       [يسلملي, مرورك, وروحك, الحلوه]\n",
              "4                          [وين, هل, الغيبه, اخ, محمد]\n",
              "Name: phrase, dtype: object"
            ]
          },
          "metadata": {},
          "execution_count": 62
        }
      ],
      "source": [
        "data[\"phrase\"].head()"
      ]
    },
    {
      "cell_type": "code",
      "execution_count": 64,
      "metadata": {
        "id": "xISRO0XMfmcu"
      },
      "outputs": [],
      "source": [
        "# Stop words  (English words which does not add much meaning to a sentence)"
      ]
    },
    {
      "cell_type": "code",
      "execution_count": 67,
      "metadata": {
        "id": "B8F_2Y49fmcv",
        "outputId": "7d83ddbd-d671-4a54-b17f-dc0a8604dbee",
        "colab": {
          "base_uri": "https://localhost:8080/"
        }
      },
      "outputs": [
        {
          "output_type": "stream",
          "name": "stdout",
          "text": [
            "[nltk_data] Downloading package stopwords to /root/nltk_data...\n",
            "[nltk_data]   Package stopwords is already up-to-date!\n"
          ]
        },
        {
          "output_type": "execute_result",
          "data": {
            "text/plain": [
              "True"
            ]
          },
          "metadata": {},
          "execution_count": 67
        }
      ],
      "source": [
        "nltk.download('stopwords')"
      ]
    },
    {
      "cell_type": "code",
      "execution_count": 68,
      "metadata": {
        "id": "7CogUMZcfmcv"
      },
      "outputs": [],
      "source": [
        "stopwords_list = stopwords.words('arabic')"
      ]
    },
    {
      "cell_type": "code",
      "execution_count": null,
      "metadata": {
        "id": "fepBA4Snfmcv"
      },
      "outputs": [],
      "source": [
        "stopwords_list"
      ]
    },
    {
      "cell_type": "code",
      "execution_count": 70,
      "metadata": {
        "id": "GgSXeOq1fmcw",
        "outputId": "67ecda8d-0301-4d3a-f91d-1087b6a83e8b",
        "colab": {
          "base_uri": "https://localhost:8080/"
        }
      },
      "outputs": [
        {
          "output_type": "stream",
          "name": "stdout",
          "text": [
            "754\n"
          ]
        }
      ],
      "source": [
        "print(len(stopwords_list))"
      ]
    },
    {
      "cell_type": "code",
      "execution_count": 71,
      "metadata": {
        "id": "3cIhJlR8fmcy"
      },
      "outputs": [],
      "source": [
        "listToStr = ' '.join(stopwords_list)"
      ]
    },
    {
      "cell_type": "code",
      "execution_count": 72,
      "metadata": {
        "id": "a5Wvmmhlfmcz",
        "outputId": "811ca9c3-1de4-4005-a08c-7dcf2d33efcd",
        "colab": {
          "base_uri": "https://localhost:8080/",
          "height": 127
        }
      },
      "outputs": [
        {
          "output_type": "execute_result",
          "data": {
            "text/plain": [
              "'إذ إذا إذما إذن أف أقل أكثر ألا إلا التي الذي الذين اللاتي اللائي اللتان اللتيا اللتين اللذان اللذين اللواتي إلى إليك إليكم إليكما إليكن أم أما أما إما أن إن إنا أنا أنت أنتم أنتما أنتن إنما إنه أنى أنى آه آها أو أولاء أولئك أوه آي أي أيها إي أين أين أينما إيه بخ بس بعد بعض بك بكم بكم بكما بكن بل بلى بما بماذا بمن بنا به بها بهم بهما بهن بي بين بيد تلك تلكم تلكما ته تي تين تينك ثم ثمة حاشا حبذا حتى حيث حيثما حين خلا دون ذا ذات ذاك ذان ذانك ذلك ذلكم ذلكما ذلكن ذه ذو ذوا ذواتا ذواتي ذي ذين ذينك ريث سوف سوى شتان عدا عسى عل على عليك عليه عما عن عند غير فإذا فإن فلا فمن في فيم فيما فيه فيها قد كأن كأنما كأي كأين كذا كذلك كل كلا كلاهما كلتا كلما كليكما كليهما كم كم كما كي كيت كيف كيفما لا لاسيما لدى لست لستم لستما لستن لسن لسنا لعل لك لكم لكما لكن لكنما لكي لكيلا لم لما لن لنا له لها لهم لهما لهن لو لولا لوما لي لئن ليت ليس ليسا ليست ليستا ليسوا ما ماذا متى مذ مع مما ممن من منه منها منذ مه مهما نحن نحو نعم ها هاتان هاته هاتي هاتين هاك هاهنا هذا هذان هذه هذي هذين هكذا هل هلا هم هما هن هنا هناك هنالك هو هؤلاء هي هيا هيت هيهات والذي والذين وإذ وإذا وإن ولا ولكن ولو وما ومن وهو يا أبٌ أخٌ حمٌ فو أنتِ يناير فبراير مارس أبريل مايو يونيو يوليو أغسطس سبتمبر أكتوبر نوفمبر ديسمبر جانفي فيفري مارس أفريل ماي جوان جويلية أوت كانون شباط آذار نيسان أيار حزيران تموز آب أيلول تشرين دولار دينار ريال درهم ليرة جنيه قرش مليم فلس هللة سنتيم يورو ين يوان شيكل واحد اثنان ثلاثة أربعة خمسة ستة سبعة ثمانية تسعة عشرة أحد اثنا اثني إحدى ثلاث أربع خمس ست سبع ثماني تسع عشر ثمان سبت أحد اثنين ثلاثاء أربعاء خميس جمعة أول ثان ثاني ثالث رابع خامس سادس سابع ثامن تاسع عاشر حادي أ ب ت ث ج ح خ د ذ ر ز س ش ص ض ط ظ ع غ ف ق ك ل م ن ه و ي ء ى آ ؤ ئ أ ة ألف باء تاء ثاء جيم حاء خاء دال ذال راء زاي سين شين صاد ضاد طاء ظاء عين غين فاء قاف كاف لام ميم نون هاء واو ياء همزة ي نا ك كن ه إياه إياها إياهما إياهم إياهن إياك إياكما إياكم إياك إياكن إياي إيانا أولالك تانِ تانِك تِه تِي تَيْنِ ثمّ ثمّة ذانِ ذِه ذِي ذَيْنِ هَؤلاء هَاتانِ هَاتِه هَاتِي هَاتَيْنِ هَذا هَذانِ هَذِه هَذِي هَذَيْنِ الألى الألاء أل أنّى أيّ ّأيّان أنّى أيّ ّأيّان ذيت كأيّ كأيّن بضع فلان وا آمينَ آهِ آهٍ آهاً أُفٍّ أُفٍّ أفٍّ أمامك أمامكَ أوّهْ إلَيْكَ إلَيْكَ إليكَ إليكنّ إيهٍ بخٍ بسّ بَسْ بطآن بَلْهَ حاي حَذارِ حيَّ حيَّ دونك رويدك سرعان شتانَ شَتَّانَ صهْ صهٍ طاق طَق عَدَسْ كِخ مكانَك مكانَك مكانَك مكانكم مكانكما مكانكنّ نَخْ هاكَ هَجْ هلم هيّا هَيْهات وا واهاً وراءَك وُشْكَانَ وَيْ يفعلان تفعلان يفعلون تفعلون تفعلين اتخذ ألفى تخذ ترك تعلَّم جعل حجا حبيب خال حسب خال درى رأى زعم صبر ظنَّ عدَّ علم غادر ذهب وجد ورد وهب أسكن أطعم أعطى رزق زود سقى كسا أخبر أرى أعلم أنبأ حدَث خبَّر نبَّا أفعل به ما أفعله بئس ساء طالما قلما لات لكنَّ ءَ أجل إذاً أمّا إمّا إنَّ أنًّ أى إى أيا ب ثمَّ جلل جير رُبَّ س علًّ ف كأنّ كلَّا كى ل لات لعلَّ لكنَّ لكنَّ م نَّ هلّا وا أل إلّا ت ك لمّا ن ه و ا ي تجاه تلقاء جميع حسب سبحان شبه لعمر مثل معاذ أبو أخو حمو فو مئة مئتان ثلاثمئة أربعمئة خمسمئة ستمئة سبعمئة ثمنمئة تسعمئة مائة ثلاثمائة أربعمائة خمسمائة ستمائة سبعمائة ثمانمئة تسعمائة عشرون ثلاثون اربعون خمسون ستون سبعون ثمانون تسعون عشرين ثلاثين اربعين خمسين ستين سبعين ثمانين تسعين بضع نيف أجمع جميع عامة عين نفس لا سيما أصلا أهلا أيضا بؤسا بعدا بغتة تعسا حقا حمدا خلافا خاصة دواليك سحقا سرا سمعا صبرا صدقا صراحة طرا عجبا عيانا غالبا فرادى فضلا قاطبة كثيرا لبيك معاذ أبدا إزاء أصلا الآن أمد أمس آنفا آناء أنّى أول أيّان تارة ثمّ ثمّة حقا صباح مساء ضحوة عوض غدا غداة قطّ كلّما لدن لمّا مرّة قبل خلف أمام فوق تحت يمين شمال ارتدّ استحال أصبح أضحى آض أمسى انقلب بات تبدّل تحوّل حار رجع راح صار ظلّ عاد غدا كان ما انفك ما برح مادام مازال مافتئ ابتدأ أخذ اخلولق أقبل انبرى أنشأ أوشك جعل حرى شرع طفق علق قام كرب كاد هبّ'"
            ],
            "application/vnd.google.colaboratory.intrinsic+json": {
              "type": "string"
            }
          },
          "metadata": {},
          "execution_count": 72
        }
      ],
      "source": [
        "listToStr"
      ]
    },
    {
      "cell_type": "code",
      "execution_count": 73,
      "metadata": {
        "id": "eZiFK-oAfmcz"
      },
      "outputs": [],
      "source": [
        "# Removing stop words \n",
        "data['phrase'] = data['phrase'].apply(\n",
        "    lambda x: [item for item in x if item not in stopwords_list])"
      ]
    },
    {
      "cell_type": "code",
      "source": [
        "data.head()"
      ],
      "metadata": {
        "colab": {
          "base_uri": "https://localhost:8080/",
          "height": 206
        },
        "id": "WflyIAZUDBtS",
        "outputId": "277d081a-a450-4622-c3c7-72e0f578adfa"
      },
      "execution_count": 74,
      "outputs": [
        {
          "output_type": "execute_result",
          "data": {
            "text/plain": [
              "   Unnamed: 0 dialect                                             phrase\n",
              "0           0      IQ                            [بالنهاية, ينتفض, يغير]\n",
              "1           1      IQ  [يعني, محسوب, البشر, حيونه, وحشيه, وتطلبون, ال...\n",
              "2           2      IQ                               [مبين, كلامه, خليجي]\n",
              "3           3      IQ                     [يسلملي, مرورك, وروحك, الحلوه]\n",
              "4           4      IQ                            [وين, الغيبه, اخ, محمد]"
            ],
            "text/html": [
              "\n",
              "  <div id=\"df-18a9fb4c-dcfd-41e6-9db8-c43175f8b36c\">\n",
              "    <div class=\"colab-df-container\">\n",
              "      <div>\n",
              "<style scoped>\n",
              "    .dataframe tbody tr th:only-of-type {\n",
              "        vertical-align: middle;\n",
              "    }\n",
              "\n",
              "    .dataframe tbody tr th {\n",
              "        vertical-align: top;\n",
              "    }\n",
              "\n",
              "    .dataframe thead th {\n",
              "        text-align: right;\n",
              "    }\n",
              "</style>\n",
              "<table border=\"1\" class=\"dataframe\">\n",
              "  <thead>\n",
              "    <tr style=\"text-align: right;\">\n",
              "      <th></th>\n",
              "      <th>Unnamed: 0</th>\n",
              "      <th>dialect</th>\n",
              "      <th>phrase</th>\n",
              "    </tr>\n",
              "  </thead>\n",
              "  <tbody>\n",
              "    <tr>\n",
              "      <th>0</th>\n",
              "      <td>0</td>\n",
              "      <td>IQ</td>\n",
              "      <td>[بالنهاية, ينتفض, يغير]</td>\n",
              "    </tr>\n",
              "    <tr>\n",
              "      <th>1</th>\n",
              "      <td>1</td>\n",
              "      <td>IQ</td>\n",
              "      <td>[يعني, محسوب, البشر, حيونه, وحشيه, وتطلبون, ال...</td>\n",
              "    </tr>\n",
              "    <tr>\n",
              "      <th>2</th>\n",
              "      <td>2</td>\n",
              "      <td>IQ</td>\n",
              "      <td>[مبين, كلامه, خليجي]</td>\n",
              "    </tr>\n",
              "    <tr>\n",
              "      <th>3</th>\n",
              "      <td>3</td>\n",
              "      <td>IQ</td>\n",
              "      <td>[يسلملي, مرورك, وروحك, الحلوه]</td>\n",
              "    </tr>\n",
              "    <tr>\n",
              "      <th>4</th>\n",
              "      <td>4</td>\n",
              "      <td>IQ</td>\n",
              "      <td>[وين, الغيبه, اخ, محمد]</td>\n",
              "    </tr>\n",
              "  </tbody>\n",
              "</table>\n",
              "</div>\n",
              "      <button class=\"colab-df-convert\" onclick=\"convertToInteractive('df-18a9fb4c-dcfd-41e6-9db8-c43175f8b36c')\"\n",
              "              title=\"Convert this dataframe to an interactive table.\"\n",
              "              style=\"display:none;\">\n",
              "        \n",
              "  <svg xmlns=\"http://www.w3.org/2000/svg\" height=\"24px\"viewBox=\"0 0 24 24\"\n",
              "       width=\"24px\">\n",
              "    <path d=\"M0 0h24v24H0V0z\" fill=\"none\"/>\n",
              "    <path d=\"M18.56 5.44l.94 2.06.94-2.06 2.06-.94-2.06-.94-.94-2.06-.94 2.06-2.06.94zm-11 1L8.5 8.5l.94-2.06 2.06-.94-2.06-.94L8.5 2.5l-.94 2.06-2.06.94zm10 10l.94 2.06.94-2.06 2.06-.94-2.06-.94-.94-2.06-.94 2.06-2.06.94z\"/><path d=\"M17.41 7.96l-1.37-1.37c-.4-.4-.92-.59-1.43-.59-.52 0-1.04.2-1.43.59L10.3 9.45l-7.72 7.72c-.78.78-.78 2.05 0 2.83L4 21.41c.39.39.9.59 1.41.59.51 0 1.02-.2 1.41-.59l7.78-7.78 2.81-2.81c.8-.78.8-2.07 0-2.86zM5.41 20L4 18.59l7.72-7.72 1.47 1.35L5.41 20z\"/>\n",
              "  </svg>\n",
              "      </button>\n",
              "      \n",
              "  <style>\n",
              "    .colab-df-container {\n",
              "      display:flex;\n",
              "      flex-wrap:wrap;\n",
              "      gap: 12px;\n",
              "    }\n",
              "\n",
              "    .colab-df-convert {\n",
              "      background-color: #E8F0FE;\n",
              "      border: none;\n",
              "      border-radius: 50%;\n",
              "      cursor: pointer;\n",
              "      display: none;\n",
              "      fill: #1967D2;\n",
              "      height: 32px;\n",
              "      padding: 0 0 0 0;\n",
              "      width: 32px;\n",
              "    }\n",
              "\n",
              "    .colab-df-convert:hover {\n",
              "      background-color: #E2EBFA;\n",
              "      box-shadow: 0px 1px 2px rgba(60, 64, 67, 0.3), 0px 1px 3px 1px rgba(60, 64, 67, 0.15);\n",
              "      fill: #174EA6;\n",
              "    }\n",
              "\n",
              "    [theme=dark] .colab-df-convert {\n",
              "      background-color: #3B4455;\n",
              "      fill: #D2E3FC;\n",
              "    }\n",
              "\n",
              "    [theme=dark] .colab-df-convert:hover {\n",
              "      background-color: #434B5C;\n",
              "      box-shadow: 0px 1px 3px 1px rgba(0, 0, 0, 0.15);\n",
              "      filter: drop-shadow(0px 1px 2px rgba(0, 0, 0, 0.3));\n",
              "      fill: #FFFFFF;\n",
              "    }\n",
              "  </style>\n",
              "\n",
              "      <script>\n",
              "        const buttonEl =\n",
              "          document.querySelector('#df-18a9fb4c-dcfd-41e6-9db8-c43175f8b36c button.colab-df-convert');\n",
              "        buttonEl.style.display =\n",
              "          google.colab.kernel.accessAllowed ? 'block' : 'none';\n",
              "\n",
              "        async function convertToInteractive(key) {\n",
              "          const element = document.querySelector('#df-18a9fb4c-dcfd-41e6-9db8-c43175f8b36c');\n",
              "          const dataTable =\n",
              "            await google.colab.kernel.invokeFunction('convertToInteractive',\n",
              "                                                     [key], {});\n",
              "          if (!dataTable) return;\n",
              "\n",
              "          const docLinkHtml = 'Like what you see? Visit the ' +\n",
              "            '<a target=\"_blank\" href=https://colab.research.google.com/notebooks/data_table.ipynb>data table notebook</a>'\n",
              "            + ' to learn more about interactive tables.';\n",
              "          element.innerHTML = '';\n",
              "          dataTable['output_type'] = 'display_data';\n",
              "          await google.colab.output.renderOutput(dataTable, element);\n",
              "          const docLink = document.createElement('div');\n",
              "          docLink.innerHTML = docLinkHtml;\n",
              "          element.appendChild(docLink);\n",
              "        }\n",
              "      </script>\n",
              "    </div>\n",
              "  </div>\n",
              "  "
            ]
          },
          "metadata": {},
          "execution_count": 74
        }
      ]
    },
    {
      "cell_type": "code",
      "execution_count": 75,
      "metadata": {
        "id": "-zI2ujsMfmc0"
      },
      "outputs": [],
      "source": [
        "# Tweet text information \n",
        "all_words = [word for tokens in data['phrase'] for word in tokens]"
      ]
    },
    {
      "cell_type": "code",
      "source": [
        "sentence_lengths = [len(tokens) for tokens in data['phrase']]"
      ],
      "metadata": {
        "id": "BdnECSK0Lz7F"
      },
      "execution_count": 76,
      "outputs": []
    },
    {
      "cell_type": "code",
      "execution_count": 77,
      "metadata": {
        "id": "IhR32ufQfmc0"
      },
      "outputs": [],
      "source": [
        "VOCAB = sorted(list(set(all_words)))"
      ]
    },
    {
      "cell_type": "code",
      "execution_count": 78,
      "metadata": {
        "id": "PH2a3Oi3fmc1",
        "outputId": "0dc41c6a-96c6-46a0-c787-40a4b4fe8760",
        "colab": {
          "base_uri": "https://localhost:8080/"
        }
      },
      "outputs": [
        {
          "output_type": "stream",
          "name": "stdout",
          "text": [
            "103027 words total, with a vocabulary size of 35942\n",
            "Max sentence length is 48\n"
          ]
        }
      ],
      "source": [
        "print(\"%s words total, with a vocabulary size of %s\" %\n",
        "      (len(all_words), len(VOCAB)))\n",
        "print(\"Max sentence length is %s\" % max(sentence_lengths))"
      ]
    },
    {
      "cell_type": "code",
      "execution_count": 79,
      "metadata": {
        "id": "rqyYqqdDfmc2"
      },
      "outputs": [],
      "source": [
        "# Counter all_words :"
      ]
    },
    {
      "cell_type": "code",
      "execution_count": 80,
      "metadata": {
        "id": "RrGVnSrhfmc2"
      },
      "outputs": [],
      "source": [
        "counter = Counter(all_words)"
      ]
    },
    {
      "cell_type": "code",
      "execution_count": 81,
      "metadata": {
        "id": "wkmQO7mGfmc3",
        "outputId": "6729cbb7-2c0d-491b-dcbd-b2c207553930",
        "colab": {
          "base_uri": "https://localhost:8080/"
        }
      },
      "outputs": [
        {
          "output_type": "execute_result",
          "data": {
            "text/plain": [
              "[('الي', 1242),\n",
              " ('اله', 1196),\n",
              " ('انا', 613),\n",
              " ('واله', 578),\n",
              " ('مش', 498),\n",
              " ('ان', 473),\n",
              " ('شي', 421),\n",
              " ('انت', 357),\n",
              " ('يعني', 312),\n",
              " ('يارب', 295),\n",
              " ('مو', 249),\n",
              " ('شو', 228),\n",
              " ('ليش', 227),\n",
              " ('ربي', 217),\n",
              " ('كتير', 205),\n",
              " ('الناس', 203),\n",
              " ('علي', 200),\n",
              " ('قصقص', 197),\n",
              " ('اذا', 196),\n",
              " ('انه', 194),\n",
              " ('اي', 190),\n",
              " ('او', 190),\n",
              " ('الا', 187),\n",
              " ('عشان', 187),\n",
              " ('عم', 183)]"
            ]
          },
          "metadata": {},
          "execution_count": 81
        }
      ],
      "source": [
        "counter.most_common(25)"
      ]
    },
    {
      "cell_type": "code",
      "execution_count": 83,
      "metadata": {
        "id": "t944aNZhfmc4"
      },
      "outputs": [],
      "source": [
        "counted_words = Counter(all_words)"
      ]
    },
    {
      "cell_type": "code",
      "execution_count": 84,
      "metadata": {
        "id": "zQAz5ogAfmc4"
      },
      "outputs": [],
      "source": [
        "#top 25 words in positive "
      ]
    },
    {
      "cell_type": "code",
      "execution_count": 85,
      "metadata": {
        "id": "IO1DFAJyfmc5"
      },
      "outputs": [],
      "source": [
        "words = []\n",
        "counts = []\n",
        "for letter, count in counted_words.most_common(25):\n",
        "    words.append(letter)\n",
        "    counts.append(count)"
      ]
    },
    {
      "cell_type": "code",
      "execution_count": 86,
      "metadata": {
        "id": "tEALjc3efmc6",
        "outputId": "8797f5b9-cb63-4830-e66e-5f4b7184db52",
        "colab": {
          "base_uri": "https://localhost:8080/",
          "height": 514
        }
      },
      "outputs": [
        {
          "output_type": "execute_result",
          "data": {
            "text/plain": [
              "<BarContainer object of 25 artists>"
            ]
          },
          "metadata": {},
          "execution_count": 86
        },
        {
          "output_type": "display_data",
          "data": {
            "text/plain": [
              "<Figure size 1440x720 with 1 Axes>"
            ],
            "image/png": "[encoded data removed]"
          },
          "metadata": {}
        }
      ],
      "source": [
        "colors = cm.rainbow(np.linspace(0, 1, 10))\n",
        "rcParams['figure.figsize'] = 20, 10\n",
        "\n",
        "plt.title('Top words in positive')\n",
        "plt.xlabel('Count')\n",
        "plt.ylabel('Words')\n",
        "plt.barh(words, counts, color=colors)"
      ]
    },
    {
      "cell_type": "code",
      "execution_count": 87,
      "metadata": {
        "id": "LwwHrQ7Rfmc7"
      },
      "outputs": [],
      "source": [
        "# Features Extraction from tweets text with TFIDF unigram"
      ]
    },
    {
      "cell_type": "code",
      "execution_count": 89,
      "metadata": {
        "id": "6LPYlwg-fmc7"
      },
      "outputs": [],
      "source": [
        "word_vectorizer = TfidfVectorizer(\n",
        "    sublinear_tf=True,\n",
        "    strip_accents='unicode',\n",
        "    analyzer='word',\n",
        "    ngram_range=(1, 1),\n",
        "    max_features=10000)"
      ]
    },
    {
      "cell_type": "code",
      "execution_count": null,
      "metadata": {
        "id": "tXTQ7c9Ffmc8"
      },
      "outputs": [],
      "source": [
        "unigramdataGet = word_vectorizer.fit_transform(data['phrase'].astype('str'))\n",
        "unigramdataGet = unigramdataGet.toarray()\n",
        "\n",
        "vocab = word_vectorizer.get_feature_names()\n",
        "unigramdata_features = pd.DataFrame(np.round(unigramdataGet, 1), columns=vocab)\n",
        "unigramdata_features[unigramdata_features > 0] = 1\n",
        "unigramdata_features.head()"
      ]
    },
    {
      "cell_type": "code",
      "source": [
        "unigramdata_features.to_csv('/content/unigramdata_features.csv')"
      ],
      "metadata": {
        "id": "DvluBaiwxViw"
      },
      "execution_count": 93,
      "outputs": []
    },
    {
      "cell_type": "code",
      "execution_count": null,
      "metadata": {
        "id": "84lvwjZdfmc8"
      },
      "outputs": [],
      "source": [
        "# Encoding classes: "
      ]
    },
    {
      "cell_type": "code",
      "source": [
        "pro = preprocessing.LabelEncoder()\n",
        "pro"
      ],
      "metadata": {
        "colab": {
          "base_uri": "https://localhost:8080/"
        },
        "id": "Za0ZaJYrO9aW",
        "outputId": "75a9bb8b-2b97-40a1-eadc-e78e6cf5d4ce"
      },
      "execution_count": 94,
      "outputs": [
        {
          "output_type": "execute_result",
          "data": {
            "text/plain": [
              "LabelEncoder()"
            ]
          },
          "metadata": {},
          "execution_count": 94
        }
      ]
    },
    {
      "cell_type": "code",
      "source": [
        "data.head()"
      ],
      "metadata": {
        "colab": {
          "base_uri": "https://localhost:8080/",
          "height": 206
        },
        "id": "UcqWyTjyPRai",
        "outputId": "88c8135c-e077-4d46-8e3b-040e82d182f2"
      },
      "execution_count": 95,
      "outputs": [
        {
          "output_type": "execute_result",
          "data": {
            "text/plain": [
              "   Unnamed: 0 dialect                                             phrase\n",
              "0           0      IQ                            [بالنهاية, ينتفض, يغير]\n",
              "1           1      IQ  [يعني, محسوب, البشر, حيونه, وحشيه, وتطلبون, ال...\n",
              "2           2      IQ                               [مبين, كلامه, خليجي]\n",
              "3           3      IQ                     [يسلملي, مرورك, وروحك, الحلوه]\n",
              "4           4      IQ                            [وين, الغيبه, اخ, محمد]"
            ],
            "text/html": [
              "\n",
              "  <div id=\"df-785226a6-0e97-4e60-905a-4fbf00e36e36\">\n",
              "    <div class=\"colab-df-container\">\n",
              "      <div>\n",
              "<style scoped>\n",
              "    .dataframe tbody tr th:only-of-type {\n",
              "        vertical-align: middle;\n",
              "    }\n",
              "\n",
              "    .dataframe tbody tr th {\n",
              "        vertical-align: top;\n",
              "    }\n",
              "\n",
              "    .dataframe thead th {\n",
              "        text-align: right;\n",
              "    }\n",
              "</style>\n",
              "<table border=\"1\" class=\"dataframe\">\n",
              "  <thead>\n",
              "    <tr style=\"text-align: right;\">\n",
              "      <th></th>\n",
              "      <th>Unnamed: 0</th>\n",
              "      <th>dialect</th>\n",
              "      <th>phrase</th>\n",
              "    </tr>\n",
              "  </thead>\n",
              "  <tbody>\n",
              "    <tr>\n",
              "      <th>0</th>\n",
              "      <td>0</td>\n",
              "      <td>IQ</td>\n",
              "      <td>[بالنهاية, ينتفض, يغير]</td>\n",
              "    </tr>\n",
              "    <tr>\n",
              "      <th>1</th>\n",
              "      <td>1</td>\n",
              "      <td>IQ</td>\n",
              "      <td>[يعني, محسوب, البشر, حيونه, وحشيه, وتطلبون, ال...</td>\n",
              "    </tr>\n",
              "    <tr>\n",
              "      <th>2</th>\n",
              "      <td>2</td>\n",
              "      <td>IQ</td>\n",
              "      <td>[مبين, كلامه, خليجي]</td>\n",
              "    </tr>\n",
              "    <tr>\n",
              "      <th>3</th>\n",
              "      <td>3</td>\n",
              "      <td>IQ</td>\n",
              "      <td>[يسلملي, مرورك, وروحك, الحلوه]</td>\n",
              "    </tr>\n",
              "    <tr>\n",
              "      <th>4</th>\n",
              "      <td>4</td>\n",
              "      <td>IQ</td>\n",
              "      <td>[وين, الغيبه, اخ, محمد]</td>\n",
              "    </tr>\n",
              "  </tbody>\n",
              "</table>\n",
              "</div>\n",
              "      <button class=\"colab-df-convert\" onclick=\"convertToInteractive('df-785226a6-0e97-4e60-905a-4fbf00e36e36')\"\n",
              "              title=\"Convert this dataframe to an interactive table.\"\n",
              "              style=\"display:none;\">\n",
              "        \n",
              "  <svg xmlns=\"http://www.w3.org/2000/svg\" height=\"24px\"viewBox=\"0 0 24 24\"\n",
              "       width=\"24px\">\n",
              "    <path d=\"M0 0h24v24H0V0z\" fill=\"none\"/>\n",
              "    <path d=\"M18.56 5.44l.94 2.06.94-2.06 2.06-.94-2.06-.94-.94-2.06-.94 2.06-2.06.94zm-11 1L8.5 8.5l.94-2.06 2.06-.94-2.06-.94L8.5 2.5l-.94 2.06-2.06.94zm10 10l.94 2.06.94-2.06 2.06-.94-2.06-.94-.94-2.06-.94 2.06-2.06.94z\"/><path d=\"M17.41 7.96l-1.37-1.37c-.4-.4-.92-.59-1.43-.59-.52 0-1.04.2-1.43.59L10.3 9.45l-7.72 7.72c-.78.78-.78 2.05 0 2.83L4 21.41c.39.39.9.59 1.41.59.51 0 1.02-.2 1.41-.59l7.78-7.78 2.81-2.81c.8-.78.8-2.07 0-2.86zM5.41 20L4 18.59l7.72-7.72 1.47 1.35L5.41 20z\"/>\n",
              "  </svg>\n",
              "      </button>\n",
              "      \n",
              "  <style>\n",
              "    .colab-df-container {\n",
              "      display:flex;\n",
              "      flex-wrap:wrap;\n",
              "      gap: 12px;\n",
              "    }\n",
              "\n",
              "    .colab-df-convert {\n",
              "      background-color: #E8F0FE;\n",
              "      border: none;\n",
              "      border-radius: 50%;\n",
              "      cursor: pointer;\n",
              "      display: none;\n",
              "      fill: #1967D2;\n",
              "      height: 32px;\n",
              "      padding: 0 0 0 0;\n",
              "      width: 32px;\n",
              "    }\n",
              "\n",
              "    .colab-df-convert:hover {\n",
              "      background-color: #E2EBFA;\n",
              "      box-shadow: 0px 1px 2px rgba(60, 64, 67, 0.3), 0px 1px 3px 1px rgba(60, 64, 67, 0.15);\n",
              "      fill: #174EA6;\n",
              "    }\n",
              "\n",
              "    [theme=dark] .colab-df-convert {\n",
              "      background-color: #3B4455;\n",
              "      fill: #D2E3FC;\n",
              "    }\n",
              "\n",
              "    [theme=dark] .colab-df-convert:hover {\n",
              "      background-color: #434B5C;\n",
              "      box-shadow: 0px 1px 3px 1px rgba(0, 0, 0, 0.15);\n",
              "      filter: drop-shadow(0px 1px 2px rgba(0, 0, 0, 0.3));\n",
              "      fill: #FFFFFF;\n",
              "    }\n",
              "  </style>\n",
              "\n",
              "      <script>\n",
              "        const buttonEl =\n",
              "          document.querySelector('#df-785226a6-0e97-4e60-905a-4fbf00e36e36 button.colab-df-convert');\n",
              "        buttonEl.style.display =\n",
              "          google.colab.kernel.accessAllowed ? 'block' : 'none';\n",
              "\n",
              "        async function convertToInteractive(key) {\n",
              "          const element = document.querySelector('#df-785226a6-0e97-4e60-905a-4fbf00e36e36');\n",
              "          const dataTable =\n",
              "            await google.colab.kernel.invokeFunction('convertToInteractive',\n",
              "                                                     [key], {});\n",
              "          if (!dataTable) return;\n",
              "\n",
              "          const docLinkHtml = 'Like what you see? Visit the ' +\n",
              "            '<a target=\"_blank\" href=https://colab.research.google.com/notebooks/data_table.ipynb>data table notebook</a>'\n",
              "            + ' to learn more about interactive tables.';\n",
              "          element.innerHTML = '';\n",
              "          dataTable['output_type'] = 'display_data';\n",
              "          await google.colab.output.renderOutput(dataTable, element);\n",
              "          const docLink = document.createElement('div');\n",
              "          docLink.innerHTML = docLinkHtml;\n",
              "          element.appendChild(docLink);\n",
              "        }\n",
              "      </script>\n",
              "    </div>\n",
              "  </div>\n",
              "  "
            ]
          },
          "metadata": {},
          "execution_count": 95
        }
      ]
    },
    {
      "cell_type": "code",
      "source": [
        "data['dialect'].replace({-1: 18}, inplace=True)"
      ],
      "metadata": {
        "id": "W8tpol_QPeeo"
      },
      "execution_count": 96,
      "outputs": []
    },
    {
      "cell_type": "code",
      "source": [
        "encpro = pro.fit_transform(data['dialect'])\n",
        "data['dialect'] = encpro"
      ],
      "metadata": {
        "id": "CMeqIMXAyXqn"
      },
      "execution_count": 98,
      "outputs": []
    },
    {
      "cell_type": "code",
      "source": [
        "data.head()"
      ],
      "metadata": {
        "colab": {
          "base_uri": "https://localhost:8080/",
          "height": 206
        },
        "id": "XU4be3bsQefn",
        "outputId": "2ecfbeb5-b6ba-4d1a-c0e5-f705f5712205"
      },
      "execution_count": 99,
      "outputs": [
        {
          "output_type": "execute_result",
          "data": {
            "text/plain": [
              "   Unnamed: 0  dialect                                             phrase\n",
              "0           0        4                            [بالنهاية, ينتفض, يغير]\n",
              "1           1        4  [يعني, محسوب, البشر, حيونه, وحشيه, وتطلبون, ال...\n",
              "2           2        4                               [مبين, كلامه, خليجي]\n",
              "3           3        4                     [يسلملي, مرورك, وروحك, الحلوه]\n",
              "4           4        4                            [وين, الغيبه, اخ, محمد]"
            ],
            "text/html": [
              "\n",
              "  <div id=\"df-e3bf722e-bdfb-48f2-bd61-7d5a524db698\">\n",
              "    <div class=\"colab-df-container\">\n",
              "      <div>\n",
              "<style scoped>\n",
              "    .dataframe tbody tr th:only-of-type {\n",
              "        vertical-align: middle;\n",
              "    }\n",
              "\n",
              "    .dataframe tbody tr th {\n",
              "        vertical-align: top;\n",
              "    }\n",
              "\n",
              "    .dataframe thead th {\n",
              "        text-align: right;\n",
              "    }\n",
              "</style>\n",
              "<table border=\"1\" class=\"dataframe\">\n",
              "  <thead>\n",
              "    <tr style=\"text-align: right;\">\n",
              "      <th></th>\n",
              "      <th>Unnamed: 0</th>\n",
              "      <th>dialect</th>\n",
              "      <th>phrase</th>\n",
              "    </tr>\n",
              "  </thead>\n",
              "  <tbody>\n",
              "    <tr>\n",
              "      <th>0</th>\n",
              "      <td>0</td>\n",
              "      <td>4</td>\n",
              "      <td>[بالنهاية, ينتفض, يغير]</td>\n",
              "    </tr>\n",
              "    <tr>\n",
              "      <th>1</th>\n",
              "      <td>1</td>\n",
              "      <td>4</td>\n",
              "      <td>[يعني, محسوب, البشر, حيونه, وحشيه, وتطلبون, ال...</td>\n",
              "    </tr>\n",
              "    <tr>\n",
              "      <th>2</th>\n",
              "      <td>2</td>\n",
              "      <td>4</td>\n",
              "      <td>[مبين, كلامه, خليجي]</td>\n",
              "    </tr>\n",
              "    <tr>\n",
              "      <th>3</th>\n",
              "      <td>3</td>\n",
              "      <td>4</td>\n",
              "      <td>[يسلملي, مرورك, وروحك, الحلوه]</td>\n",
              "    </tr>\n",
              "    <tr>\n",
              "      <th>4</th>\n",
              "      <td>4</td>\n",
              "      <td>4</td>\n",
              "      <td>[وين, الغيبه, اخ, محمد]</td>\n",
              "    </tr>\n",
              "  </tbody>\n",
              "</table>\n",
              "</div>\n",
              "      <button class=\"colab-df-convert\" onclick=\"convertToInteractive('df-e3bf722e-bdfb-48f2-bd61-7d5a524db698')\"\n",
              "              title=\"Convert this dataframe to an interactive table.\"\n",
              "              style=\"display:none;\">\n",
              "        \n",
              "  <svg xmlns=\"http://www.w3.org/2000/svg\" height=\"24px\"viewBox=\"0 0 24 24\"\n",
              "       width=\"24px\">\n",
              "    <path d=\"M0 0h24v24H0V0z\" fill=\"none\"/>\n",
              "    <path d=\"M18.56 5.44l.94 2.06.94-2.06 2.06-.94-2.06-.94-.94-2.06-.94 2.06-2.06.94zm-11 1L8.5 8.5l.94-2.06 2.06-.94-2.06-.94L8.5 2.5l-.94 2.06-2.06.94zm10 10l.94 2.06.94-2.06 2.06-.94-2.06-.94-.94-2.06-.94 2.06-2.06.94z\"/><path d=\"M17.41 7.96l-1.37-1.37c-.4-.4-.92-.59-1.43-.59-.52 0-1.04.2-1.43.59L10.3 9.45l-7.72 7.72c-.78.78-.78 2.05 0 2.83L4 21.41c.39.39.9.59 1.41.59.51 0 1.02-.2 1.41-.59l7.78-7.78 2.81-2.81c.8-.78.8-2.07 0-2.86zM5.41 20L4 18.59l7.72-7.72 1.47 1.35L5.41 20z\"/>\n",
              "  </svg>\n",
              "      </button>\n",
              "      \n",
              "  <style>\n",
              "    .colab-df-container {\n",
              "      display:flex;\n",
              "      flex-wrap:wrap;\n",
              "      gap: 12px;\n",
              "    }\n",
              "\n",
              "    .colab-df-convert {\n",
              "      background-color: #E8F0FE;\n",
              "      border: none;\n",
              "      border-radius: 50%;\n",
              "      cursor: pointer;\n",
              "      display: none;\n",
              "      fill: #1967D2;\n",
              "      height: 32px;\n",
              "      padding: 0 0 0 0;\n",
              "      width: 32px;\n",
              "    }\n",
              "\n",
              "    .colab-df-convert:hover {\n",
              "      background-color: #E2EBFA;\n",
              "      box-shadow: 0px 1px 2px rgba(60, 64, 67, 0.3), 0px 1px 3px 1px rgba(60, 64, 67, 0.15);\n",
              "      fill: #174EA6;\n",
              "    }\n",
              "\n",
              "    [theme=dark] .colab-df-convert {\n",
              "      background-color: #3B4455;\n",
              "      fill: #D2E3FC;\n",
              "    }\n",
              "\n",
              "    [theme=dark] .colab-df-convert:hover {\n",
              "      background-color: #434B5C;\n",
              "      box-shadow: 0px 1px 3px 1px rgba(0, 0, 0, 0.15);\n",
              "      filter: drop-shadow(0px 1px 2px rgba(0, 0, 0, 0.3));\n",
              "      fill: #FFFFFF;\n",
              "    }\n",
              "  </style>\n",
              "\n",
              "      <script>\n",
              "        const buttonEl =\n",
              "          document.querySelector('#df-e3bf722e-bdfb-48f2-bd61-7d5a524db698 button.colab-df-convert');\n",
              "        buttonEl.style.display =\n",
              "          google.colab.kernel.accessAllowed ? 'block' : 'none';\n",
              "\n",
              "        async function convertToInteractive(key) {\n",
              "          const element = document.querySelector('#df-e3bf722e-bdfb-48f2-bd61-7d5a524db698');\n",
              "          const dataTable =\n",
              "            await google.colab.kernel.invokeFunction('convertToInteractive',\n",
              "                                                     [key], {});\n",
              "          if (!dataTable) return;\n",
              "\n",
              "          const docLinkHtml = 'Like what you see? Visit the ' +\n",
              "            '<a target=\"_blank\" href=https://colab.research.google.com/notebooks/data_table.ipynb>data table notebook</a>'\n",
              "            + ' to learn more about interactive tables.';\n",
              "          element.innerHTML = '';\n",
              "          dataTable['output_type'] = 'display_data';\n",
              "          await google.colab.output.renderOutput(dataTable, element);\n",
              "          const docLink = document.createElement('div');\n",
              "          docLink.innerHTML = docLinkHtml;\n",
              "          element.appendChild(docLink);\n",
              "        }\n",
              "      </script>\n",
              "    </div>\n",
              "  </div>\n",
              "  "
            ]
          },
          "metadata": {},
          "execution_count": 99
        }
      ]
    },
    {
      "cell_type": "code",
      "execution_count": null,
      "metadata": {
        "id": "wgG5zhCZfmc9"
      },
      "outputs": [],
      "source": [
        "# By getting features and Class :"
      ]
    },
    {
      "cell_type": "code",
      "execution_count": 100,
      "metadata": {
        "id": "cKHNKsepfmc-"
      },
      "outputs": [],
      "source": [
        "y = data['dialect']\n",
        "X = unigramdata_features"
      ]
    },
    {
      "cell_type": "code",
      "execution_count": null,
      "metadata": {
        "id": "QLkiOJ11fmc_"
      },
      "outputs": [],
      "source": [
        "# Spliting Dataset into 90% Training and 10% Testing : "
      ]
    },
    {
      "cell_type": "code",
      "execution_count": 102,
      "metadata": {
        "id": "Nz-veomDfmc_"
      },
      "outputs": [],
      "source": [
        "X_train, X_test, y_train, y_test = train_test_split(\n",
        "    X, y, test_size=0.1)"
      ]
    },
    {
      "cell_type": "code",
      "execution_count": null,
      "metadata": {
        "id": "i89ciV-3fmdA"
      },
      "outputs": [],
      "source": [
        "                  #--------Trainig and Testing with Machine Learning Algorithms ----------------\n"
      ]
    },
    {
      "cell_type": "code",
      "execution_count": 77,
      "metadata": {
        "id": "GKROqWYcfmdB"
      },
      "outputs": [],
      "source": [
        "# 1/ Naive Bayes Algorithm : |"
      ]
    },
    {
      "cell_type": "code",
      "execution_count": 78,
      "metadata": {
        "id": "q0BadwGWfmdC",
        "outputId": "52135aeb-6cdf-4e8c-81a6-93672bf3dd10",
        "colab": {
          "base_uri": "https://localhost:8080/"
        }
      },
      "outputs": [
        {
          "output_type": "execute_result",
          "data": {
            "text/plain": [
              "GaussianNB()"
            ]
          },
          "metadata": {},
          "execution_count": 78
        }
      ],
      "source": [
        "nb=GaussianNB()\n",
        "nb= nb.fit(X_train , y_train)\n",
        "nb\n"
      ]
    },
    {
      "cell_type": "code",
      "execution_count": null,
      "metadata": {
        "id": "Fy9oP2ehfmdD"
      },
      "outputs": [],
      "source": [
        "# Accuracy : \n",
        " "
      ]
    },
    {
      "cell_type": "code",
      "execution_count": 79,
      "metadata": {
        "id": "WJc-V8ogfmdE",
        "outputId": "04b3c3e9-e21f-4bb2-d84f-b28973e01392",
        "colab": {
          "base_uri": "https://localhost:8080/"
        }
      },
      "outputs": [
        {
          "output_type": "stream",
          "name": "stdout",
          "text": [
            "Accuracy= 0.558\n"
          ]
        }
      ],
      "source": [
        "y_pred = nb.predict(X_test)\n",
        "nb_1=nb.score(X_test, y_test)\n",
        "print('Accuracy= {:.3f}'.format(nb.score(X_test, y_test)))"
      ]
    },
    {
      "cell_type": "code",
      "execution_count": 80,
      "metadata": {
        "id": "kzc4RAxMfmdG"
      },
      "outputs": [],
      "source": [
        "# Precision : "
      ]
    },
    {
      "cell_type": "code",
      "execution_count": 82,
      "metadata": {
        "id": "OVpJNc_sfmdI",
        "outputId": "e595c1c9-bb0b-48f7-bb51-f0af063c2225",
        "colab": {
          "base_uri": "https://localhost:8080/"
        }
      },
      "outputs": [
        {
          "output_type": "stream",
          "name": "stdout",
          "text": [
            "Precision Score :  [0.70588235 0.42622951 0.65       0.63461538 0.58536585 0.50724638\n",
            " 0.61904762 0.77586207 0.69811321 0.46666667 0.53846154 0.38\n",
            " 0.59574468 0.45945946 0.54716981 0.7        0.55357143 0.17647059]\n",
            "18\n"
          ]
        }
      ],
      "source": [
        "print(\"Precision Score : \", precision_score(y_test, y_pred, average=None))"
      ]
    },
    {
      "cell_type": "code",
      "execution_count": null,
      "metadata": {
        "id": "FU6k7O2afmdJ"
      },
      "outputs": [],
      "source": [
        "# Recall\n",
        " "
      ]
    },
    {
      "cell_type": "code",
      "execution_count": 83,
      "metadata": {
        "id": "SjggLGCDfmdJ",
        "outputId": "63486a5b-e520-4bc2-ac95-35b038789473",
        "colab": {
          "base_uri": "https://localhost:8080/"
        }
      },
      "outputs": [
        {
          "output_type": "stream",
          "name": "stdout",
          "text": [
            "recall_score :  [0.72       0.44827586 0.55319149 0.63461538 0.5        0.57377049\n",
            " 0.56521739 0.86538462 0.90243902 0.82352941 0.35897436 0.41304348\n",
            " 0.51851852 0.27419355 0.56862745 0.58333333 0.56363636 0.15384615]\n"
          ]
        }
      ],
      "source": [
        "print(\"recall_score : \", recall_score(y_test, y_pred, average=None))\n"
      ]
    },
    {
      "cell_type": "code",
      "execution_count": null,
      "metadata": {
        "id": "b6CqWWOxfmdK"
      },
      "outputs": [],
      "source": [
        "#F1 : "
      ]
    },
    {
      "cell_type": "code",
      "execution_count": 84,
      "metadata": {
        "id": "vgDKW_VcfmdK",
        "outputId": "c1f8e314-478f-4274-fc17-e172ee165987",
        "colab": {
          "base_uri": "https://localhost:8080/"
        }
      },
      "outputs": [
        {
          "output_type": "stream",
          "name": "stdout",
          "text": [
            "F1 :  [0.71287129 0.43697479 0.59770115 0.63461538 0.53932584 0.53846154\n",
            " 0.59090909 0.81818182 0.78723404 0.59574468 0.43076923 0.39583333\n",
            " 0.55445545 0.34343434 0.55769231 0.63636364 0.55855856 0.16438356]\n"
          ]
        }
      ],
      "source": [
        "print(\"F1 : \", f1_score(y_test, y_pred, average=None))"
      ]
    },
    {
      "cell_type": "code",
      "execution_count": 85,
      "metadata": {
        "id": "dUEMRbYqfmdL",
        "outputId": "0600f023-6707-43c8-8f93-2dd418c0a717",
        "colab": {
          "base_uri": "https://localhost:8080/"
        }
      },
      "outputs": [
        {
          "output_type": "stream",
          "name": "stdout",
          "text": [
            "Accuracy= 0.558\n",
            "Precision Score :  [0.70588235 0.42622951 0.65       0.63461538 0.58536585 0.50724638\n",
            " 0.61904762 0.77586207 0.69811321 0.46666667 0.53846154 0.38\n",
            " 0.59574468 0.45945946 0.54716981 0.7        0.55357143 0.17647059]\n",
            "recall_score :  [0.72       0.44827586 0.55319149 0.63461538 0.5        0.57377049\n",
            " 0.56521739 0.86538462 0.90243902 0.82352941 0.35897436 0.41304348\n",
            " 0.51851852 0.27419355 0.56862745 0.58333333 0.56363636 0.15384615]\n",
            "F1 :  [0.71287129 0.43697479 0.59770115 0.63461538 0.53932584 0.53846154\n",
            " 0.59090909 0.81818182 0.78723404 0.59574468 0.43076923 0.39583333\n",
            " 0.55445545 0.34343434 0.55769231 0.63636364 0.55855856 0.16438356]\n"
          ]
        }
      ],
      "source": [
        "print('Accuracy= {:.3f}'.format(nb.score(X_test, y_test)))\n",
        "print(\"Precision Score : \", precision_score(y_test, y_pred, average=None))\n",
        "print(\"recall_score : \", recall_score(y_test, y_pred, average=None))\n",
        "print(\"F1 : \", f1_score(y_test, y_pred, average=None)) "
      ]
    },
    {
      "cell_type": "code",
      "execution_count": null,
      "metadata": {
        "id": "qQHibv6vfmdL"
      },
      "outputs": [],
      "source": [
        "# 2/ RidgeClassifier Algorithm\n"
      ]
    },
    {
      "cell_type": "code",
      "execution_count": 86,
      "metadata": {
        "id": "cgaKzng0fmdM",
        "outputId": "f950efa2-a110-4885-e949-e76e6ffdefd5",
        "colab": {
          "base_uri": "https://localhost:8080/"
        }
      },
      "outputs": [
        {
          "output_type": "execute_result",
          "data": {
            "text/plain": [
              "RidgeClassifier()"
            ]
          },
          "metadata": {},
          "execution_count": 86
        }
      ],
      "source": [
        "RC = RidgeClassifier()\n",
        "RC = RC.fit(X_train, y_train)\n",
        "RC"
      ]
    },
    {
      "cell_type": "code",
      "execution_count": 87,
      "metadata": {
        "id": "da7nG3v0fmdM"
      },
      "outputs": [],
      "source": [
        "# Accuarcy :"
      ]
    },
    {
      "cell_type": "code",
      "execution_count": 88,
      "metadata": {
        "id": "uJyToh-NfmdN",
        "outputId": "d36bd28d-9397-4330-8d82-85762d27e517",
        "colab": {
          "base_uri": "https://localhost:8080/"
        }
      },
      "outputs": [
        {
          "output_type": "stream",
          "name": "stdout",
          "text": [
            "Accuracy= 0.536\n"
          ]
        }
      ],
      "source": [
        "y_pred = RC.predict(X_test)\n",
        "rc_1 = RC.score(X_test, y_test)\n",
        "print('Accuracy= {:.3f}'.format(RC.score(X_test, y_test))) "
      ]
    },
    {
      "cell_type": "code",
      "execution_count": 89,
      "metadata": {
        "id": "nz79YE1BfmdN"
      },
      "outputs": [],
      "source": [
        "# Precision : "
      ]
    },
    {
      "cell_type": "code",
      "execution_count": 90,
      "metadata": {
        "id": "ZjR7p05HfmdO",
        "outputId": "37b92e5b-1c03-4091-bca6-127e9ca5779a",
        "colab": {
          "base_uri": "https://localhost:8080/"
        }
      },
      "outputs": [
        {
          "output_type": "stream",
          "name": "stdout",
          "text": [
            "Precision Score :  [0.66666667 0.54545455 0.64705882 0.66666667 0.49253731 0.57142857\n",
            " 0.44444444 0.63461538 0.93548387 0.80487805 0.38461538 0.36170213\n",
            " 0.525      0.36363636 0.52238806 0.64444444 0.67307692 0.14705882]\n"
          ]
        }
      ],
      "source": [
        "print(\"Precision Score : \", precision_score(y_test, y_pred, average=None))\n"
      ]
    },
    {
      "cell_type": "code",
      "execution_count": 91,
      "metadata": {
        "id": "GFVgSZjTfmdO"
      },
      "outputs": [],
      "source": [
        "# Recall : "
      ]
    },
    {
      "cell_type": "code",
      "execution_count": 92,
      "metadata": {
        "id": "XHMIanoMfmdP",
        "outputId": "1b74de21-99b7-4091-e115-5a6ada0744ea",
        "colab": {
          "base_uri": "https://localhost:8080/"
        }
      },
      "outputs": [
        {
          "output_type": "stream",
          "name": "stdout",
          "text": [
            "recall_score :  [0.52       0.51724138 0.46808511 0.65384615 0.6875     0.59016393\n",
            " 0.52173913 0.63461538 0.70731707 0.64705882 0.38461538 0.36956522\n",
            " 0.38888889 0.32258065 0.68627451 0.60416667 0.63636364 0.25641026]\n"
          ]
        }
      ],
      "source": [
        "print(\"recall_score : \", recall_score(y_test, y_pred, average=None))"
      ]
    },
    {
      "cell_type": "code",
      "execution_count": 93,
      "metadata": {
        "id": "QdoYGmG6fmdP"
      },
      "outputs": [],
      "source": [
        "#F1 :"
      ]
    },
    {
      "cell_type": "code",
      "execution_count": 94,
      "metadata": {
        "id": "q0M3tB5_fmdQ",
        "outputId": "90cc417d-51f9-402c-bec5-6023e3b7d102",
        "colab": {
          "base_uri": "https://localhost:8080/"
        }
      },
      "outputs": [
        {
          "output_type": "stream",
          "name": "stdout",
          "text": [
            "F1 :  [0.58426966 0.53097345 0.54320988 0.66019417 0.57391304 0.58064516\n",
            " 0.48       0.63461538 0.80555556 0.7173913  0.38461538 0.3655914\n",
            " 0.44680851 0.34188034 0.59322034 0.62365591 0.65420561 0.18691589]\n"
          ]
        }
      ],
      "source": [
        "print(\"F1 : \", f1_score(y_test, y_pred, average=None))"
      ]
    },
    {
      "cell_type": "code",
      "execution_count": 95,
      "metadata": {
        "id": "4-jwthOGfmdQ",
        "outputId": "25422a54-bbdb-4a7d-f095-8046d5221476",
        "colab": {
          "base_uri": "https://localhost:8080/"
        }
      },
      "outputs": [
        {
          "output_type": "stream",
          "name": "stdout",
          "text": [
            "Accuracy= 0.536\n",
            "Precision Score :  [0.66666667 0.54545455 0.64705882 0.66666667 0.49253731 0.57142857\n",
            " 0.44444444 0.63461538 0.93548387 0.80487805 0.38461538 0.36170213\n",
            " 0.525      0.36363636 0.52238806 0.64444444 0.67307692 0.14705882]\n",
            "recall_score :  [0.52       0.51724138 0.46808511 0.65384615 0.6875     0.59016393\n",
            " 0.52173913 0.63461538 0.70731707 0.64705882 0.38461538 0.36956522\n",
            " 0.38888889 0.32258065 0.68627451 0.60416667 0.63636364 0.25641026]\n",
            "F1 :  [0.58426966 0.53097345 0.54320988 0.66019417 0.57391304 0.58064516\n",
            " 0.48       0.63461538 0.80555556 0.7173913  0.38461538 0.3655914\n",
            " 0.44680851 0.34188034 0.59322034 0.62365591 0.65420561 0.18691589]\n"
          ]
        }
      ],
      "source": [
        "print('Accuracy= {:.3f}'.format(RC.score(X_test, y_test)))\n",
        "print(\"Precision Score : \", precision_score(y_test, y_pred, average=None))\n",
        "print(\"recall_score : \", recall_score(y_test, y_pred, average=None))\n",
        "print(\"F1 : \", f1_score(y_test, y_pred, average=None))"
      ]
    },
    {
      "cell_type": "code",
      "execution_count": 96,
      "metadata": {
        "id": "uIZM811VfmdR"
      },
      "outputs": [],
      "source": [
        "# 3/ PassiveAggressiveClassifier Algorithm \n",
        " "
      ]
    },
    {
      "cell_type": "code",
      "execution_count": 97,
      "metadata": {
        "id": "_kCW6IP_fmdR",
        "outputId": "ff8be535-7af8-48da-d505-5f9e005cc52b",
        "colab": {
          "base_uri": "https://localhost:8080/"
        }
      },
      "outputs": [
        {
          "output_type": "execute_result",
          "data": {
            "text/plain": [
              "PassiveAggressiveClassifier()"
            ]
          },
          "metadata": {},
          "execution_count": 97
        }
      ],
      "source": [
        "PC = PassiveAggressiveClassifier()\n",
        "PC = PC.fit(X_train, y_train)\n",
        "PC"
      ]
    },
    {
      "cell_type": "code",
      "execution_count": 98,
      "metadata": {
        "id": "ZbVnsrodfmdT"
      },
      "outputs": [],
      "source": [
        "# Accuarcy "
      ]
    },
    {
      "cell_type": "code",
      "execution_count": 99,
      "metadata": {
        "id": "qm0msD7OfmdU",
        "outputId": "4a915330-7e63-428b-8431-21cc007ec49e",
        "colab": {
          "base_uri": "https://localhost:8080/"
        }
      },
      "outputs": [
        {
          "output_type": "stream",
          "name": "stdout",
          "text": [
            "Accuracy= 0.468\n"
          ]
        }
      ],
      "source": [
        "y_pred = PC.predict(X_test)\n",
        "pc_1 = PC.score(X_test, y_test)\n",
        "print('Accuracy= {:.3f}'.format(PC.score(X_test, y_test)))"
      ]
    },
    {
      "cell_type": "code",
      "execution_count": 100,
      "metadata": {
        "id": "tiys1POLfmdU"
      },
      "outputs": [],
      "source": [
        "# Precision Score "
      ]
    },
    {
      "cell_type": "code",
      "execution_count": 101,
      "metadata": {
        "id": "8GcyqM25fmdV",
        "outputId": "a1521623-b1e6-42d3-a467-0b39501d02d8",
        "colab": {
          "base_uri": "https://localhost:8080/"
        }
      },
      "outputs": [
        {
          "output_type": "stream",
          "name": "stdout",
          "text": [
            "Precision Score :  [0.70833333 0.53191489 0.5        0.60784314 0.5        0.57142857\n",
            " 0.38181818 0.79069767 0.90322581 0.79487179 0.30769231 0.18918919\n",
            " 0.43902439 0.24074074 0.5483871  0.57142857 0.57777778 0.13157895]\n"
          ]
        }
      ],
      "source": [
        "print(\"Precision Score : \", precision_score(y_test, y_pred, average=None))"
      ]
    },
    {
      "cell_type": "code",
      "execution_count": 102,
      "metadata": {
        "id": "sB10WXoOfmdV"
      },
      "outputs": [],
      "source": [
        "# Recall : "
      ]
    },
    {
      "cell_type": "code",
      "execution_count": 103,
      "metadata": {
        "id": "rjFDFgf0fmdW",
        "outputId": "c9d2fb21-fc6e-4068-d899-a9d4421e4af8",
        "colab": {
          "base_uri": "https://localhost:8080/"
        }
      },
      "outputs": [
        {
          "output_type": "stream",
          "name": "stdout",
          "text": [
            "recall_score :  [0.34       0.43103448 0.40425532 0.59615385 0.5625     0.45901639\n",
            " 0.45652174 0.65384615 0.68292683 0.60784314 0.30769231 0.60869565\n",
            " 0.33333333 0.20967742 0.66666667 0.5        0.47272727 0.12820513]\n"
          ]
        }
      ],
      "source": [
        "print(\"recall_score : \", recall_score(y_test, y_pred, average=None))"
      ]
    },
    {
      "cell_type": "code",
      "execution_count": 104,
      "metadata": {
        "id": "gI1hSWHrfmdW"
      },
      "outputs": [],
      "source": [
        "#F1"
      ]
    },
    {
      "cell_type": "code",
      "execution_count": 105,
      "metadata": {
        "id": "SRczlEN4fmdW",
        "outputId": "82193a50-474e-411d-a79b-75fae71ec5b1",
        "colab": {
          "base_uri": "https://localhost:8080/"
        }
      },
      "outputs": [
        {
          "output_type": "stream",
          "name": "stdout",
          "text": [
            "F1 :  [0.45945946 0.47619048 0.44705882 0.60194175 0.52941176 0.50909091\n",
            " 0.41584158 0.71578947 0.77777778 0.68888889 0.30769231 0.28865979\n",
            " 0.37894737 0.22413793 0.60176991 0.53333333 0.52       0.12987013]\n"
          ]
        }
      ],
      "source": [
        "print(\"F1 : \", f1_score(y_test, y_pred, average=None))"
      ]
    },
    {
      "cell_type": "code",
      "execution_count": 106,
      "metadata": {
        "id": "twrJBAX-fmdX"
      },
      "outputs": [],
      "source": [
        "#  4/LogisticRegression Algorithm :"
      ]
    },
    {
      "cell_type": "code",
      "execution_count": 107,
      "metadata": {
        "id": "F8xiKIdyfmdX",
        "outputId": "dea05608-b493-41c6-830f-d82158ef5085",
        "colab": {
          "base_uri": "https://localhost:8080/"
        }
      },
      "outputs": [
        {
          "output_type": "execute_result",
          "data": {
            "text/plain": [
              "LogisticRegression(C=1)"
            ]
          },
          "metadata": {},
          "execution_count": 107
        }
      ],
      "source": [
        "LR = LogisticRegression(penalty='l2', C=1)\n",
        "LR = LR.fit(X_train, y_train)\n",
        "LR"
      ]
    },
    {
      "cell_type": "code",
      "execution_count": 108,
      "metadata": {
        "id": "HEPiclSjfmdY"
      },
      "outputs": [],
      "source": [
        "# Accuracy :"
      ]
    },
    {
      "cell_type": "code",
      "execution_count": 109,
      "metadata": {
        "id": "p6xY1AULfmdY",
        "outputId": "94ed2cf5-f1a6-4868-828f-b3d2c328447c",
        "colab": {
          "base_uri": "https://localhost:8080/"
        }
      },
      "outputs": [
        {
          "output_type": "stream",
          "name": "stdout",
          "text": [
            "Accuracy= 0.563\n"
          ]
        }
      ],
      "source": [
        "LR = LogisticRegression(penalty='l2', C=1)\n",
        "LR = LR.fit(X_train, y_train)\n",
        "LR\n",
        "\n",
        "y_pred = LR.predict(X_test)\n",
        "lr_1 = LR.score(X_test, y_test)\n",
        "print('Accuracy= {:.3f}'.format(LR.score(X_test, y_test)))\n"
      ]
    },
    {
      "cell_type": "code",
      "execution_count": 110,
      "metadata": {
        "id": "kMEd86J4fmdZ"
      },
      "outputs": [],
      "source": [
        "# Precision score : "
      ]
    },
    {
      "cell_type": "code",
      "execution_count": 111,
      "metadata": {
        "id": "TtI1ciSUfmdZ",
        "outputId": "45d1efe5-91ae-4ecd-fbbe-cb82b7c71aa7",
        "colab": {
          "base_uri": "https://localhost:8080/"
        }
      },
      "outputs": [
        {
          "output_type": "stream",
          "name": "stdout",
          "text": [
            "Precision Score :  [0.63461538 0.50909091 0.73333333 0.72       0.46268657 0.57142857\n",
            " 0.52272727 0.77358491 0.96875    0.83333333 0.4        0.40740741\n",
            " 0.6875     0.43181818 0.59016393 0.63265306 0.63265306 0.1686747 ]\n"
          ]
        }
      ],
      "source": [
        "print(\"Precision Score : \", precision_score(y_test, y_pred, average=None))"
      ]
    },
    {
      "cell_type": "code",
      "execution_count": 112,
      "metadata": {
        "id": "uXHCyg_cfmda"
      },
      "outputs": [],
      "source": [
        "# Recall "
      ]
    },
    {
      "cell_type": "code",
      "execution_count": 113,
      "metadata": {
        "id": "O9jhr7Usfmda",
        "outputId": "19b6d3c8-2379-462c-e9af-fdb6c15de4e2",
        "colab": {
          "base_uri": "https://localhost:8080/"
        }
      },
      "outputs": [
        {
          "output_type": "stream",
          "name": "stdout",
          "text": [
            "recall_score :  [0.66       0.48275862 0.46808511 0.69230769 0.64583333 0.59016393\n",
            " 0.5        0.78846154 0.75609756 0.68627451 0.41025641 0.47826087\n",
            " 0.40740741 0.30645161 0.70588235 0.64583333 0.56363636 0.35897436]\n"
          ]
        }
      ],
      "source": [
        "print(\"recall_score : \", recall_score(y_test, y_pred, average=None))"
      ]
    },
    {
      "cell_type": "code",
      "execution_count": 114,
      "metadata": {
        "id": "ZW5mpHsIfmda"
      },
      "outputs": [],
      "source": [
        "#F1 :"
      ]
    },
    {
      "cell_type": "code",
      "execution_count": 115,
      "metadata": {
        "id": "zkv-FYusfmdc",
        "outputId": "19ab2a4e-f9b3-4903-80d4-ab96e3da1f17",
        "colab": {
          "base_uri": "https://localhost:8080/"
        }
      },
      "outputs": [
        {
          "output_type": "stream",
          "name": "stdout",
          "text": [
            "F1 :  [0.64705882 0.49557522 0.57142857 0.70588235 0.53913043 0.58064516\n",
            " 0.51111111 0.78095238 0.84931507 0.75268817 0.40506329 0.44\n",
            " 0.51162791 0.35849057 0.64285714 0.63917526 0.59615385 0.2295082 ]\n"
          ]
        }
      ],
      "source": [
        "print(\"F1 : \", f1_score(y_test, y_pred, average=None))"
      ]
    },
    {
      "cell_type": "code",
      "execution_count": 116,
      "metadata": {
        "id": "6HHzvrpnfmdc",
        "outputId": "befa1435-4376-47a8-baec-eb41f18b6e4a",
        "colab": {
          "base_uri": "https://localhost:8080/"
        }
      },
      "outputs": [
        {
          "output_type": "stream",
          "name": "stdout",
          "text": [
            "Precision Score :  [0.63461538 0.50909091 0.73333333 0.72       0.46268657 0.57142857\n",
            " 0.52272727 0.77358491 0.96875    0.83333333 0.4        0.40740741\n",
            " 0.6875     0.43181818 0.59016393 0.63265306 0.63265306 0.1686747 ]\n",
            "recall_score :  [0.66       0.48275862 0.46808511 0.69230769 0.64583333 0.59016393\n",
            " 0.5        0.78846154 0.75609756 0.68627451 0.41025641 0.47826087\n",
            " 0.40740741 0.30645161 0.70588235 0.64583333 0.56363636 0.35897436]\n",
            "F1 :  [0.64705882 0.49557522 0.57142857 0.70588235 0.53913043 0.58064516\n",
            " 0.51111111 0.78095238 0.84931507 0.75268817 0.40506329 0.44\n",
            " 0.51162791 0.35849057 0.64285714 0.63917526 0.59615385 0.2295082 ]\n"
          ]
        }
      ],
      "source": [
        "print(\"Precision Score : \", precision_score(y_test, y_pred, average=None))\n",
        "print(\"recall_score : \", recall_score(y_test, y_pred, average=None))\n",
        "print(\"F1 : \", f1_score(y_test, y_pred, average=None))\n"
      ]
    },
    {
      "cell_type": "code",
      "execution_count": 117,
      "metadata": {
        "id": "_a3aHKEkfmde"
      },
      "outputs": [],
      "source": [
        " # 5/classification report :"
      ]
    },
    {
      "cell_type": "code",
      "execution_count": 118,
      "metadata": {
        "id": "kDIJHQkCfmde",
        "outputId": "8aeebd34-63cc-44fd-8ee4-efb4f1198777",
        "colab": {
          "base_uri": "https://localhost:8080/"
        }
      },
      "outputs": [
        {
          "output_type": "stream",
          "name": "stdout",
          "text": [
            "              precision    recall  f1-score   support\n",
            "\n",
            "           0       0.63      0.66      0.65        50\n",
            "           1       0.51      0.48      0.50        58\n",
            "           2       0.73      0.47      0.57        47\n",
            "           3       0.72      0.69      0.71        52\n",
            "           4       0.46      0.65      0.54        48\n",
            "           5       0.57      0.59      0.58        61\n",
            "           6       0.52      0.50      0.51        46\n",
            "           7       0.77      0.79      0.78        52\n",
            "           8       0.97      0.76      0.85        41\n",
            "           9       0.83      0.69      0.75        51\n",
            "          10       0.40      0.41      0.41        39\n",
            "          11       0.41      0.48      0.44        46\n",
            "          12       0.69      0.41      0.51        54\n",
            "          13       0.43      0.31      0.36        62\n",
            "          14       0.59      0.71      0.64        51\n",
            "          15       0.63      0.65      0.64        48\n",
            "          16       0.63      0.56      0.60        55\n",
            "          17       0.17      0.36      0.23        39\n",
            "\n",
            "    accuracy                           0.56       900\n",
            "   macro avg       0.59      0.56      0.57       900\n",
            "weighted avg       0.60      0.56      0.57       900\n",
            "\n",
            "\n",
            "\n",
            "<function confusion_matrix at 0x7f73373a0710>\n"
          ]
        }
      ],
      "source": [
        "CR = classification_report(y_test, y_pred)\n",
        "print(CR)\n",
        "print('\\n')\n",
        "confusion_matrix(y_test, y_pred)\n",
        "print(confusion_matrix)"
      ]
    },
    {
      "cell_type": "code",
      "execution_count": 119,
      "metadata": {
        "id": "HZI-phEffmdf"
      },
      "outputs": [],
      "source": [
        "# 6/ LinearSVC :"
      ]
    },
    {
      "cell_type": "code",
      "execution_count": 120,
      "metadata": {
        "id": "2zaAtCIsfmdg",
        "outputId": "815362ad-ce7d-4929-9587-d0044fce8b67",
        "colab": {
          "base_uri": "https://localhost:8080/"
        }
      },
      "outputs": [
        {
          "output_type": "execute_result",
          "data": {
            "text/plain": [
              "LinearSVC(C=1, max_iter=500)"
            ]
          },
          "metadata": {},
          "execution_count": 120
        }
      ],
      "source": [
        "svc = LinearSVC(C=1, max_iter=500)\n",
        "svc = svc.fit(X_train, y_train)\n",
        "svc"
      ]
    },
    {
      "cell_type": "code",
      "execution_count": 121,
      "metadata": {
        "id": "sTTLg_fefmdg",
        "outputId": "4d6c2ad5-9a50-4ae9-bc8d-a02a21aed255",
        "colab": {
          "base_uri": "https://localhost:8080/"
        }
      },
      "outputs": [
        {
          "output_type": "stream",
          "name": "stdout",
          "text": [
            "Accuracy= 0.533\n",
            "Precision Score :  [0.6        0.46428571 0.625      0.66666667 0.48387097 0.55737705\n",
            " 0.4        0.73584906 0.96875    0.74418605 0.39473684 0.36538462\n",
            " 0.5        0.37735849 0.57142857 0.63043478 0.63461538 0.16666667]\n",
            "recall_score :  [0.48       0.44827586 0.53191489 0.73076923 0.625      0.55737705\n",
            " 0.43478261 0.75       0.75609756 0.62745098 0.38461538 0.41304348\n",
            " 0.33333333 0.32258065 0.70588235 0.60416667 0.6        0.28205128]\n",
            "F1 :  [0.53333333 0.45614035 0.57471264 0.69724771 0.54545455 0.55737705\n",
            " 0.41666667 0.74285714 0.84931507 0.68085106 0.38961039 0.3877551\n",
            " 0.4        0.34782609 0.63157895 0.61702128 0.61682243 0.20952381]\n",
            "<function confusion_matrix at 0x7f73373a0710>\n"
          ]
        }
      ],
      "source": [
        "y_pred = svc.predict(X_test)\n",
        "svc_1 = svc.score(X_test, y_test)\n",
        "print('Accuracy= {:.3f}'.format(svc.score(X_test, y_test)))\n",
        "\n",
        "print(\"Precision Score : \", precision_score(y_test, y_pred, average=None))\n",
        "print(\"recall_score : \", recall_score(y_test, y_pred, average=None))\n",
        "print(\"F1 : \", f1_score(y_test, y_pred, average=None))\n",
        "confusion_matrix(y_test, y_pred)\n",
        "print(confusion_matrix)"
      ]
    },
    {
      "cell_type": "code",
      "execution_count": 122,
      "metadata": {
        "id": "3jpWEd_ifmdh"
      },
      "outputs": [],
      "source": [
        "# 7/ RandomForestClassifier : "
      ]
    },
    {
      "cell_type": "code",
      "execution_count": 123,
      "metadata": {
        "id": "nRFDnt_Zfmdi",
        "outputId": "6b5e12ac-638b-4e65-fcc9-40baff430be6",
        "colab": {
          "base_uri": "https://localhost:8080/"
        }
      },
      "outputs": [
        {
          "output_type": "execute_result",
          "data": {
            "text/plain": [
              "RandomForestClassifier(min_samples_leaf=20, min_samples_split=20,\n",
              "                       random_state=10)"
            ]
          },
          "metadata": {},
          "execution_count": 123
        }
      ],
      "source": [
        "raf = RandomForestClassifier(\n",
        "    min_samples_leaf=20, min_samples_split=20, random_state=10)\n",
        "raf = raf.fit(X_train, y_train)\n",
        "raf"
      ]
    },
    {
      "cell_type": "code",
      "execution_count": 124,
      "metadata": {
        "id": "ezcuGQWEfmdk",
        "outputId": "4f60d0ad-9e18-46b8-b424-e0e3dbd46687",
        "colab": {
          "base_uri": "https://localhost:8080/"
        }
      },
      "outputs": [
        {
          "output_type": "stream",
          "name": "stdout",
          "text": [
            "Accuracy= 0.297\n"
          ]
        }
      ],
      "source": [
        "y_pred = raf.predict(X_test)\n",
        "raf_1 = raf.score(X_test, y_test)\n",
        "print('Accuracy= {:.3f}'.format(raf.score(X_test, y_test)))"
      ]
    },
    {
      "cell_type": "code",
      "execution_count": 125,
      "metadata": {
        "id": "IPjEWS8Jfmdl",
        "outputId": "d7dbc70d-aada-4104-9c38-90853a3f8cfe",
        "colab": {
          "base_uri": "https://localhost:8080/"
        }
      },
      "outputs": [
        {
          "output_type": "stream",
          "name": "stdout",
          "text": [
            "Precision Score :  [0.45833333 0.31818182 0.28205128 0.42857143 0.21818182 0.53333333\n",
            " 0.21978022 0.46808511 0.46875    0.68965517 0.19672131 0.22222222\n",
            " 0.3125     0.125      0.36       0.4        0.71428571 0.08247423]\n",
            "recall_score :  [0.22       0.12068966 0.23404255 0.63461538 0.25       0.26229508\n",
            " 0.43478261 0.42307692 0.73170732 0.39215686 0.30769231 0.17391304\n",
            " 0.09259259 0.01612903 0.35294118 0.41666667 0.09090909 0.41025641]\n",
            "F1 :  [0.2972973  0.175      0.25581395 0.51162791 0.23300971 0.35164835\n",
            " 0.2919708  0.44444444 0.57142857 0.5        0.24       0.19512195\n",
            " 0.14285714 0.02857143 0.35643564 0.40816327 0.16129032 0.13733906]\n"
          ]
        }
      ],
      "source": [
        "\n",
        "print(\"Precision Score : \", precision_score(y_test, y_pred, average=None))\n",
        "print(\"recall_score : \", recall_score(y_test, y_pred, average=None))\n",
        "print(\"F1 : \", f1_score(y_test, y_pred, average=None))"
      ]
    },
    {
      "cell_type": "code",
      "execution_count": 126,
      "metadata": {
        "id": "_QlafOTEfmdm"
      },
      "outputs": [],
      "source": [
        "# 8/VotingClassifier : "
      ]
    },
    {
      "cell_type": "code",
      "execution_count": 127,
      "metadata": {
        "id": "hHAgBXUHfmdn",
        "outputId": "00004dbc-a35b-4cce-c2b2-be5f31a8bf4d",
        "colab": {
          "base_uri": "https://localhost:8080/"
        }
      },
      "outputs": [
        {
          "output_type": "execute_result",
          "data": {
            "text/plain": [
              "VotingClassifier(estimators=[('SVM', LinearSVC(C=1, max_iter=500)),\n",
              "                             ('nb', GaussianNB()), ('RC', RidgeClassifier()),\n",
              "                             ('raf',\n",
              "                              RandomForestClassifier(min_samples_leaf=20,\n",
              "                                                     min_samples_split=20,\n",
              "                                                     random_state=10)),\n",
              "                             ('PC', PassiveAggressiveClassifier()),\n",
              "                             ('LR', LogisticRegression(C=1))])"
            ]
          },
          "metadata": {},
          "execution_count": 127
        }
      ],
      "source": [
        "Ens = VotingClassifier(estimators=[(\n",
        "    'SVM', svc), ('nb', nb), ('RC', RC), ('raf', raf), ('PC', PC), ('LR', LR)], voting='hard')\n",
        "Ens = Ens.fit(X_train, y_train)\n",
        "Ens"
      ]
    },
    {
      "cell_type": "code",
      "execution_count": 128,
      "metadata": {
        "id": "qfqVLM2Yfmdo",
        "outputId": "0bf9a093-a62c-417d-c084-b3a69395c8a3",
        "colab": {
          "base_uri": "https://localhost:8080/"
        }
      },
      "outputs": [
        {
          "output_type": "stream",
          "name": "stdout",
          "text": [
            "Accuracy= 0.579\n"
          ]
        }
      ],
      "source": [
        "y_pred = Ens.predict(X_test)\n",
        "Ens_1 = Ens.score(X_test, y_test)\n",
        "print('Accuracy= {:.3f}'.format(Ens.score(X_test, y_test)))"
      ]
    },
    {
      "cell_type": "code",
      "execution_count": 129,
      "metadata": {
        "id": "vGCZZ2P3fmdp",
        "outputId": "b8d16345-5704-45a4-eca7-12d117a52ac9",
        "colab": {
          "base_uri": "https://localhost:8080/"
        }
      },
      "outputs": [
        {
          "output_type": "stream",
          "name": "stdout",
          "text": [
            "Precision Score :  [0.6875     0.51724138 0.66666667 0.67213115 0.47826087 0.56451613\n",
            " 0.55813953 0.78181818 0.94117647 0.8        0.42105263 0.41666667\n",
            " 0.63636364 0.45833333 0.57142857 0.67346939 0.73913043 0.15151515]\n",
            "recall_score :  [0.66       0.51724138 0.55319149 0.78846154 0.6875     0.57377049\n",
            " 0.52173913 0.82692308 0.7804878  0.62745098 0.41025641 0.43478261\n",
            " 0.38888889 0.35483871 0.70588235 0.6875     0.61818182 0.25641026]\n",
            "F1 :  [0.67346939 0.51724138 0.60465116 0.72566372 0.56410256 0.56910569\n",
            " 0.53932584 0.80373832 0.85333333 0.7032967  0.41558442 0.42553191\n",
            " 0.48275862 0.4        0.63157895 0.68041237 0.67326733 0.19047619]\n"
          ]
        }
      ],
      "source": [
        "print(\"Precision Score : \", precision_score(y_test, y_pred, average=None))\n",
        "print(\"recall_score : \", recall_score(y_test, y_pred, average=None))\n",
        "print(\"F1 : \", f1_score(y_test, y_pred, average=None))"
      ]
    },
    {
      "cell_type": "code",
      "execution_count": 130,
      "metadata": {
        "id": "1_nkDMZAfmdq"
      },
      "outputs": [],
      "source": [
        "                         #Comparison of all algorithms Results"
      ]
    },
    {
      "cell_type": "code",
      "execution_count": 131,
      "metadata": {
        "id": "Asyfr20Jfmdr",
        "outputId": "c789b61b-d517-40fe-a5a9-6e74ddb78aa5",
        "colab": {
          "base_uri": "https://localhost:8080/"
        }
      },
      "outputs": [
        {
          "output_type": "stream",
          "name": "stdout",
          "text": [
            "\n",
            "\n",
            "Comparison of all algorithms on F1 score\n",
            "+-----------------------------------------+----------+\n",
            "|                  Model                  | Accuracy |\n",
            "+-----------------------------------------+----------+\n",
            "|          Naive Bayes Algorithm          |   0.56   |\n",
            "|        Ridge Classifier Algorithm       |   0.54   |\n",
            "| Passive Aggressive Classifier Algorithm |   0.47   |\n",
            "|      Logistic Regression Algorithm      |   0.56   |\n",
            "|                   SVM                   |   0.53   |\n",
            "|              Random Forest              |   0.3    |\n",
            "|             VotingClassifier            |   0.58   |\n",
            "+-----------------------------------------+----------+\n",
            "\n",
            "\n"
          ]
        }
      ],
      "source": [
        "x = PrettyTable()\n",
        "print('\\n')\n",
        "print(\"Comparison of all algorithms on F1 score\")\n",
        "x.field_names = [\"Model\", \"Accuracy\"]\n",
        "x.add_row([\"Naive Bayes Algorithm\", round(nb_1, 2)])\n",
        "x.add_row([\"Ridge Classifier Algorithm\",  round(rc_1, 2)])\n",
        "x.add_row([\"Passive Aggressive Classifier Algorithm\", round(pc_1, 2)])\n",
        "x.add_row([\"Logistic Regression Algorithm\", round(lr_1, 2)])\n",
        "x.add_row([\"SVM\", round(svc_1, 2)])\n",
        "x.add_row([\"Random Forest\", round(raf_1, 2)])\n",
        "x.add_row([\"VotingClassifier\", round(Ens_1, 2)])\n",
        "print(x)\n",
        "print('\\n')"
      ]
    }
  ],
  "metadata": {
    "kernelspec": {
      "display_name": "Python 3",
      "language": "python",
      "name": "python3"
    },
    "language_info": {
      "codemirror_mode": {
        "name": "ipython",
        "version": 3
      },
      "file_extension": ".py",
      "mimetype": "text/x-python",
      "name": "python",
      "nbconvert_exporter": "python",
      "pygments_lexer": "ipython3",
      "version": "3.7.6"
    },
    "colab": {
      "name": "Data pre-processing.ipynb",
      "provenance": [],
      "include_colab_link": true
    }
  },
  "nbformat": 4,
  "nbformat_minor": 0
}